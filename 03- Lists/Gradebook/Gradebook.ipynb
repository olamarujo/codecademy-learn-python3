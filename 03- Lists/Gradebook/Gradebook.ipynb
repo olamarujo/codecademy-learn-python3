{
 "cells": [
  {
   "cell_type": "markdown",
   "id": "8a204b7f",
   "metadata": {},
   "source": [
    "## **Gradebook**\n",
    "You are a student and you are trying to organize your subjects and grades using Python. Let’s explore what we’ve learned about lists to organize your subjects and scores."
   ]
  },
  {
   "cell_type": "markdown",
   "id": "76e1dbb5",
   "metadata": {},
   "source": [
    "### **Create Some Lists:**"
   ]
  },
  {
   "cell_type": "markdown",
   "id": "64fa3979",
   "metadata": {},
   "source": [
    "**1.** Create a list called `subjects` and fill it with the classes you are taking:\n",
    "\n",
    "- `\"physics\"`\n",
    "\n",
    "- `\"calculus\"`\n",
    "\n",
    "- `\"poetry\"`\n",
    "\n",
    "- `\"history\"`"
   ]
  },
  {
   "cell_type": "code",
   "execution_count": 1,
   "id": "e6b200b1",
   "metadata": {},
   "outputs": [],
   "source": [
    "subjects = [\"physics\", \"calculus\", \"poetry\", \"history\"]"
   ]
  },
  {
   "cell_type": "markdown",
   "id": "6b3d5eab",
   "metadata": {},
   "source": [
    "**2.** Create a list called `grades` and fill it with your scores:\n",
    "\n",
    "- `98`\n",
    "- `97`\n",
    "- `85`\n",
    "- `88`"
   ]
  },
  {
   "cell_type": "code",
   "execution_count": 2,
   "id": "2b11781f",
   "metadata": {},
   "outputs": [],
   "source": [
    "grades = [98, 97, 85, 88]"
   ]
  },
  {
   "cell_type": "markdown",
   "id": "7c6fe7d8",
   "metadata": {},
   "source": [
    "**3.** Manually (without any methods) create a two-dimensional list to combine `subjects` and `grades`. Use the table below as a reference to associated values.\n",
    "\n",
    "![gradebook](gradebook.png)\n",
    "\n",
    "Assign the value into a variable called `gradebook`."
   ]
  },
  {
   "cell_type": "code",
   "execution_count": 3,
   "id": "72b9a10e",
   "metadata": {},
   "outputs": [],
   "source": [
    "gradebook = [[\"physics\", 98], [\"calculus\", 97], [\"poetry\", 85], [\"history\", 88]]"
   ]
  },
  {
   "cell_type": "markdown",
   "id": "1a70404f",
   "metadata": {},
   "source": [
    "**4.** Print gradebook.\n",
    "\n",
    "Does it look how you expected it would?"
   ]
  },
  {
   "cell_type": "code",
   "execution_count": 4,
   "id": "178947b0",
   "metadata": {},
   "outputs": [
    {
     "name": "stdout",
     "output_type": "stream",
     "text": [
      "[['physics', 98], ['calculus', 97], ['poetry', 85], ['history', 88]]\n"
     ]
    }
   ],
   "source": [
    "print(gradebook)"
   ]
  },
  {
   "cell_type": "markdown",
   "id": "bc8539cf",
   "metadata": {},
   "source": [
    "### **Add More Subjects:**"
   ]
  },
  {
   "cell_type": "markdown",
   "id": "decea208",
   "metadata": {},
   "source": [
    "**5.** Your grade for your computer science class just came in! You got a perfect score, 100!\n",
    "\n",
    "Use the `.append()` method to add a list with the values of `\"computer science\"` and an associated grade value of `100` to our two-dimensional list of `gradebook`."
   ]
  },
  {
   "cell_type": "code",
   "execution_count": 5,
   "id": "038fd37e",
   "metadata": {},
   "outputs": [],
   "source": [
    "gradebook.append([\"computer science\", 100])"
   ]
  },
  {
   "cell_type": "markdown",
   "id": "c45ac733",
   "metadata": {
    "vscode": {
     "languageId": "bat"
    }
   },
   "source": [
    "**6.** Your grade for `\"visual arts\" `just came in! You got a 93!\n",
    "\n",
    "Use `append` to add `[\"visual arts\", 93] `to `gradebook`."
   ]
  },
  {
   "cell_type": "code",
   "execution_count": 6,
   "id": "3b0403fe",
   "metadata": {},
   "outputs": [],
   "source": [
    "gradebook.append([\"visual arts\", 93])"
   ]
  },
  {
   "cell_type": "markdown",
   "id": "b638493c",
   "metadata": {},
   "source": [
    "### **Modify The Gradebook:**"
   ]
  },
  {
   "cell_type": "markdown",
   "id": "c7dba5fd",
   "metadata": {},
   "source": [
    "**7.** Our instructor just told us they made a mistake grading and are rewarding an extra 5 points for our visual arts class.\n",
    "\n",
    "Access the index of the grade for your visual arts class and modify it to be 5 points greater."
   ]
  },
  {
   "cell_type": "code",
   "execution_count": 7,
   "id": "ac18caa3",
   "metadata": {},
   "outputs": [],
   "source": [
    "gradebook[-1][-1] = gradebook[-1][-1] + 5"
   ]
  },
  {
   "cell_type": "markdown",
   "id": "feafa5b4",
   "metadata": {},
   "source": [
    "**8.** You decided to switch from a numerical grade value to a Pass/Fail option for your poetry class.\n",
    "\n",
    "Find the grade value in your `gradebook` for your poetry class and use the `.remove()` method to delete it."
   ]
  },
  {
   "cell_type": "code",
   "execution_count": 8,
   "id": "39043ab8",
   "metadata": {},
   "outputs": [],
   "source": [
    "gradebook[2].remove(85)"
   ]
  },
  {
   "cell_type": "markdown",
   "id": "89dd68c7",
   "metadata": {},
   "source": [
    "**9.** Use the `.append()` method to then add a new `\"Pass\"` value to the sublist where your poetry class is located."
   ]
  },
  {
   "cell_type": "code",
   "execution_count": 9,
   "id": "1261133a",
   "metadata": {},
   "outputs": [],
   "source": [
    "gradebook[2].append(\"Pass\")"
   ]
  },
  {
   "cell_type": "markdown",
   "id": "ae5d6988",
   "metadata": {},
   "source": [
    "### **One Big Gradebook!**"
   ]
  },
  {
   "cell_type": "markdown",
   "id": "4e8d715d",
   "metadata": {},
   "source": [
    "**10.** You also have your grades from last semester, stored in `last_semester_gradebook`.\n",
    "\n",
    "Create a new variable `full_gradebook` that combines both `last_semester_gradebook` and `gradebook` using `+` to have one complete grade book.\n",
    "\n",
    "Print `full_gradebook` to see our completed list."
   ]
  },
  {
   "cell_type": "code",
   "execution_count": 10,
   "id": "4493d12c",
   "metadata": {},
   "outputs": [
    {
     "name": "stdout",
     "output_type": "stream",
     "text": [
      "[['physics', 50], ['calculus', 50], ['poetry', 50], ['history', 50], ['physics', 98], ['calculus', 97], ['poetry', 'Pass'], ['history', 88], ['computer science', 100], ['visual arts', 98]]\n"
     ]
    }
   ],
   "source": [
    "# last semester\n",
    "last_semester_gradebook = [[\"physics\", 50], [\"calculus\", 50], [\"poetry\", 50], [\"history\", 50]]\n",
    "# full grade book\n",
    "full_gradebook = last_semester_gradebook + gradebook\n",
    "print(full_gradebook)"
   ]
  }
 ],
 "metadata": {
  "kernelspec": {
   "display_name": "Python (learn_python)",
   "language": "python",
   "name": "learn_python"
  },
  "language_info": {
   "codemirror_mode": {
    "name": "ipython",
    "version": 3
   },
   "file_extension": ".py",
   "mimetype": "text/x-python",
   "name": "python",
   "nbconvert_exporter": "python",
   "pygments_lexer": "ipython3",
   "version": "3.13.3"
  }
 },
 "nbformat": 4,
 "nbformat_minor": 5
}

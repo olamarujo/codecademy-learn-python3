{
 "cells": [
  {
   "cell_type": "markdown",
   "id": "a6073637",
   "metadata": {},
   "source": [
    "## **Len's Slice**\n",
    "You work at Len’s Slice, a new pizza joint in the neighborhood. You are going to use your knowledge of Python lists to organize some of your sales data."
   ]
  },
  {
   "cell_type": "markdown",
   "id": "38744b20",
   "metadata": {},
   "source": [
    "### **Make Some Pizzas**"
   ]
  },
  {
   "cell_type": "markdown",
   "id": "f43b3a7a",
   "metadata": {},
   "source": [
    "**1.** To keep track of the kinds of pizzas you sell, create a list called `toppings` that holds the following:\n",
    "\n",
    "- `\"pepperoni\"`\n",
    "\n",
    "- `\"pineapple\"`\n",
    "\n",
    "- `\"cheese\"`\n",
    "\n",
    "- `\"sausage\"`\n",
    "\n",
    "- `\"olives\"`\n",
    "\n",
    "- `\"anchovies\"`\n",
    "\n",
    "- `\"mushrooms\"`"
   ]
  },
  {
   "cell_type": "code",
   "execution_count": 1,
   "id": "e864e026",
   "metadata": {},
   "outputs": [],
   "source": [
    "toppings = [\"pepperoni\", \"pineapple\", \"cheese\", \"sausage\", \"olives\", \"anchovies\", \"mushrooms\"]"
   ]
  },
  {
   "cell_type": "markdown",
   "id": "d50024cb",
   "metadata": {},
   "source": [
    "**2.** To keep track of how much each kind of pizza slice costs, create a list called `prices` that holds the following integer values:\n",
    "\n",
    "- `2`\n",
    "\n",
    "- `6`\n",
    "\n",
    "- `1`\n",
    "\n",
    "- `3`\n",
    "\n",
    "- `2`\n",
    "\n",
    "- `7`\n",
    "\n",
    "- `2`"
   ]
  },
  {
   "cell_type": "code",
   "execution_count": 2,
   "id": "a61d2157",
   "metadata": {},
   "outputs": [],
   "source": [
    "prices = [2, 6, 1, 3, 2, 7, 2]"
   ]
  },
  {
   "cell_type": "markdown",
   "id": "5dc35a07",
   "metadata": {},
   "source": [
    "**3.** Your boss wants you to do some research on $2 slices.\n",
    "\n",
    "Count the number of occurrences of `2` in the `prices` list, and store the result in a variable called `num_two_dollar_slices`. Print it out."
   ]
  },
  {
   "cell_type": "code",
   "execution_count": 3,
   "id": "e5340832",
   "metadata": {},
   "outputs": [
    {
     "name": "stdout",
     "output_type": "stream",
     "text": [
      "3\n"
     ]
    }
   ],
   "source": [
    "num_two_dollar_slices = prices.count(2)\n",
    "print(num_two_dollar_slices)"
   ]
  },
  {
   "cell_type": "markdown",
   "id": "3145ed7a",
   "metadata": {},
   "source": [
    "**4.** Find the length of the `toppings` list and store it in a variable called `num_pizzas`."
   ]
  },
  {
   "cell_type": "code",
   "execution_count": 4,
   "id": "9e9513a5",
   "metadata": {},
   "outputs": [],
   "source": [
    "num_pizzas = len(toppings)"
   ]
  },
  {
   "cell_type": "markdown",
   "id": "e1970c83",
   "metadata": {},
   "source": [
    "**5.** Print the string We sell `[num_pizzas] different kinds of pizza!`, where `[num_pizzas] `represents the value of our variable `num_pizzas`."
   ]
  },
  {
   "cell_type": "code",
   "execution_count": 5,
   "id": "3cbcbf39",
   "metadata": {},
   "outputs": [
    {
     "name": "stdout",
     "output_type": "stream",
     "text": [
      "We sell 7 different kinds of pizza!\n"
     ]
    }
   ],
   "source": [
    "print('We sell ' + str(num_pizzas) + ' different kinds of pizza!')"
   ]
  },
  {
   "cell_type": "markdown",
   "id": "d8006eed",
   "metadata": {},
   "source": [
    "**6.** Use the existing data about the pizza toppings and prices to create a new two-dimensional list called `pizza_and_prices`.\n",
    "\n",
    "Each sublist in `pizza_and_prices` should have one pizza topping and an associated price.\n",
    "\n",
    "![Pizza Prices](pizza_prices.png)\n",
    "\n",
    "For this new list make sure the prices come before the topping name like so:\n",
    "\n",
    "- [price, topping_name]\n",
    "\n",
    "Note: You don’t need to use your original `toppings` and `prices` lists in this exercise. Create a new two-dimensional list from scratch."
   ]
  },
  {
   "cell_type": "code",
   "execution_count": 6,
   "id": "cceb0973",
   "metadata": {},
   "outputs": [],
   "source": [
    "pizza_and_prices = [[2, \"pepperoni\"], [6, \"pineapple\"], [1, \"cheese\"], [3, \"sausage\"], [2, \"olives\"], [7, \"anchovies\"], [2, \"mushrooms\"]]"
   ]
  },
  {
   "cell_type": "markdown",
   "id": "4d379646",
   "metadata": {},
   "source": [
    "**7.** Print `pizza_and_prices`.\n",
    "\n",
    "Does it look the way you expect?"
   ]
  },
  {
   "cell_type": "code",
   "execution_count": 7,
   "id": "88790f74",
   "metadata": {},
   "outputs": [
    {
     "name": "stdout",
     "output_type": "stream",
     "text": [
      "[[2, 'pepperoni'], [6, 'pineapple'], [1, 'cheese'], [3, 'sausage'], [2, 'olives'], [7, 'anchovies'], [2, 'mushrooms']]\n"
     ]
    }
   ],
   "source": [
    "print(pizza_and_prices)"
   ]
  },
  {
   "cell_type": "markdown",
   "id": "a9a14d6a",
   "metadata": {},
   "source": [
    "### **Sorting and Slicing Pizzas**"
   ]
  },
  {
   "cell_type": "markdown",
   "id": "358bba07",
   "metadata": {},
   "source": [
    "**8.**  Sort `pizza_and_prices` so that the pizzas are in the order of increasing price (ascending)."
   ]
  },
  {
   "cell_type": "code",
   "execution_count": 8,
   "id": "d71c9b26",
   "metadata": {},
   "outputs": [
    {
     "name": "stdout",
     "output_type": "stream",
     "text": [
      "[[1, 'cheese'], [2, 'mushrooms'], [2, 'olives'], [2, 'pepperoni'], [3, 'sausage'], [6, 'pineapple'], [7, 'anchovies']]\n"
     ]
    }
   ],
   "source": [
    "pizza_and_prices = sorted(pizza_and_prices)\n",
    "print(pizza_and_prices)"
   ]
  },
  {
   "cell_type": "markdown",
   "id": "bb9279b3",
   "metadata": {},
   "source": [
    "**9.** Store the first element of `pizza_and_prices` in a variable called `cheapest_pizza`."
   ]
  },
  {
   "cell_type": "code",
   "execution_count": 9,
   "id": "62067708",
   "metadata": {},
   "outputs": [
    {
     "name": "stdout",
     "output_type": "stream",
     "text": [
      "cheese\n"
     ]
    }
   ],
   "source": [
    "cheapest_pizza = pizza_and_prices[0][1]\n",
    "print(cheapest_pizza)"
   ]
  },
  {
   "cell_type": "markdown",
   "id": "d8f48c6e",
   "metadata": {},
   "source": [
    "**10.** A man walks into the pizza store and shouts “I will have your MOST EXPENSIVE pizza!”\n",
    "\n",
    "Get the last item of the `pizza_and_prices` list and store it in a variable called `priciest_pizza`."
   ]
  },
  {
   "cell_type": "code",
   "execution_count": 10,
   "id": "c04691f7",
   "metadata": {},
   "outputs": [
    {
     "name": "stdout",
     "output_type": "stream",
     "text": [
      "anchovies\n"
     ]
    }
   ],
   "source": [
    "priciest_pizza = pizza_and_prices[-1][1]\n",
    "print(priciest_pizza)"
   ]
  },
  {
   "cell_type": "markdown",
   "id": "6839091f",
   "metadata": {},
   "source": [
    "**11.** It looks like the most expensive pizza from the previous step was our very last `\"anchovies\"` slice. Remove it from our `pizza_and_prices` list since the man bought the last slice."
   ]
  },
  {
   "cell_type": "code",
   "execution_count": 11,
   "id": "851a86f4",
   "metadata": {},
   "outputs": [
    {
     "name": "stdout",
     "output_type": "stream",
     "text": [
      "[[1, 'cheese'], [2, 'mushrooms'], [2, 'olives'], [2, 'pepperoni'], [3, 'sausage'], [6, 'pineapple']]\n"
     ]
    }
   ],
   "source": [
    "pizza_and_prices.pop(-1)\n",
    "print(pizza_and_prices)"
   ]
  },
  {
   "cell_type": "markdown",
   "id": "712d354d",
   "metadata": {},
   "source": [
    "**12.** Since there is no longer an `\"anchovies\"` pizza, you want to add a new topping called `\"peppers\" `to keep your customers excited about new toppings. Here is what your new topping looks like:\n",
    "\n",
    "- [2.5, \"peppers\"]\n",
    "\n",
    "Add the new peppers pizza topping to our list `pizza_and_prices`.\n",
    "\n",
    "**Note**: Make sure to position it relative to the rest of the sorted data in `pizza_and_prices`, otherwise our data will not be correctly sorted anymore"
   ]
  },
  {
   "cell_type": "code",
   "execution_count": 12,
   "id": "456652ca",
   "metadata": {},
   "outputs": [
    {
     "name": "stdout",
     "output_type": "stream",
     "text": [
      "[[1, 'cheese'], [2, 'mushrooms'], [2, 'olives'], [2, 'pepperoni'], [2.5, 'peppers'], [3, 'sausage'], [6, 'pineapple']]\n"
     ]
    }
   ],
   "source": [
    "pizza_and_prices.insert(4, [2.5, \"peppers\"])\n",
    "print(pizza_and_prices)"
   ]
  },
  {
   "cell_type": "markdown",
   "id": "4799cf38",
   "metadata": {},
   "source": [
    "**13.** Three mice walk into the store. They don’t have much money (they’re mice), but they do each want different pizzas.\n",
    "\n",
    "Slice the `pizza_and_prices` list and store the 3 lowest cost pizzas in a list called `three_cheapest`."
   ]
  },
  {
   "cell_type": "code",
   "execution_count": 13,
   "id": "46eb92e6",
   "metadata": {},
   "outputs": [
    {
     "name": "stdout",
     "output_type": "stream",
     "text": [
      "[[1, 'cheese'], [2, 'mushrooms'], [2, 'olives']]\n"
     ]
    }
   ],
   "source": [
    "three_cheapest = pizza_and_prices[:3]\n",
    "print(three_cheapest)"
   ]
  },
  {
   "cell_type": "markdown",
   "id": "0baed236",
   "metadata": {},
   "source": [
    "Great job! The mice are very pleased and will be leaving you a 5-star review."
   ]
  }
 ],
 "metadata": {
  "kernelspec": {
   "display_name": "Python (learn_python)",
   "language": "python",
   "name": "learn_python"
  },
  "language_info": {
   "codemirror_mode": {
    "name": "ipython",
    "version": 3
   },
   "file_extension": ".py",
   "mimetype": "text/x-python",
   "name": "python",
   "nbconvert_exporter": "python",
   "pygments_lexer": "ipython3",
   "version": "3.13.3"
  }
 },
 "nbformat": 4,
 "nbformat_minor": 5
}

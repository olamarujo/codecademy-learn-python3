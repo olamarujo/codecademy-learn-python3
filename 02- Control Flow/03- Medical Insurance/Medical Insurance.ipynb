{
 "cells": [
  {
   "cell_type": "markdown",
   "id": "0cc976f0",
   "metadata": {},
   "source": [
    "## **Python Control Flow: Medical Insurance Project**\n",
    "In this project, you will examine how factors such as age, sex, number of children, and smoking status contribute to medical insurance costs.\n",
    "\n",
    "You will apply your knowledge of Python control flow to write code that gives people advice on how to lower their medical insurance costs.\n",
    "\n",
    "Let’s get started!"
   ]
  },
  {
   "cell_type": "markdown",
   "id": "442fb39c",
   "metadata": {},
   "source": [
    "### **Intro to Control Flow**"
   ]
  },
  {
   "cell_type": "code",
   "execution_count": 1,
   "id": "b0979b1c",
   "metadata": {},
   "outputs": [],
   "source": [
    "def estimate_insurance_cost(name, age, sex, num_of_children, smoker):\n",
    "  estimated_cost = 400*age - 128*sex + 425*num_of_children + 10000*smoker - 2500\n",
    "  print(name + \"'s Estimated Insurance Cost: \" + str(estimated_cost) + \" dollars.\")\n",
    "  return estimated_cost"
   ]
  },
  {
   "cell_type": "markdown",
   "id": "425ba145",
   "metadata": {},
   "source": [
    "**1.** First, take a look at the code.\n",
    "\n",
    "The function 'estimate_insurance_cost()' estimates the medical insurance cost for an individual, based on four variables:\n",
    "\n",
    "- 'age': age of the individual in years\n",
    "- 'sex': 0 for female, 1 if male\n",
    "- 'num_of_children': number of children the individual has\n",
    "- 'smoker': 0 for a non-smoker, 1 for a smoker\n",
    "These variables are used in the following formula to estimate an individual’s insurance cost:\n",
    "\n",
    "$$\n",
    "insurance\\_cost = 250 \\times age - 128 \\times sex + 370 \\times bmi + 425 \\times num\\_of\\_children + 24000 \\times smoker - 12500\n",
    "$$\n",
    " \n",
    "See the estimated medical insurance cost for Keanu, a 29 year-old male smoker with three children."
   ]
  },
  {
   "cell_type": "code",
   "execution_count": 2,
   "id": "680a584d",
   "metadata": {},
   "outputs": [
    {
     "name": "stdout",
     "output_type": "stream",
     "text": [
      "Keanu's Estimated Insurance Cost: 20247 dollars.\n"
     ]
    }
   ],
   "source": [
    "# Estimate Keanu's insurance cost\n",
    "keanu_insurance_cost = estimate_insurance_cost(name = 'Keanu', age = 29, sex = 1, num_of_children = 3, smoker = 1)"
   ]
  },
  {
   "cell_type": "markdown",
   "id": "6e2ec02a",
   "metadata": {},
   "source": [
    "Currently, our function prints out the estimated insurance cost based on the values passed into the function. But it doesn’t do much beyond that.\n",
    "\n",
    "It would be much more helpful if our function could provide more insight into how we can lower our insurance cost. We’ll learn to do exactly that by using control flow – `if`, `elif`, and `else` statements – in our code.\n",
    "\n",
    "When you’re ready, move on to the next step."
   ]
  },
  {
   "cell_type": "markdown",
   "id": "05423baa",
   "metadata": {},
   "source": [
    "### **Analyzing Smoker Status**"
   ]
  },
  {
   "cell_type": "markdown",
   "id": "1646c2ed",
   "metadata": {},
   "source": [
    "**2.** In general, insurance costs are higher for `smokers`. We can use data from the smoker variable to provide advice on how to lower insurance costs.\n",
    "\n",
    "Let’s create a function that analyzes an individual’s smoking status.\n",
    "\n",
    "Define a function called `analyze_smoker()` that takes an input `smoker_status`. For now, the function should print `smoker_status`."
   ]
  },
  {
   "cell_type": "code",
   "execution_count": null,
   "id": "24139ee6",
   "metadata": {},
   "outputs": [],
   "source": [
    "def analyse_smoker():\n",
    "    smoker_status = ''\n",
    "    print(smoker_status)"
   ]
  },
  {
   "cell_type": "markdown",
   "id": "11668cbf",
   "metadata": {},
   "source": [
    "**3.** Inside of the `analyze_smoker()` function, replace the print statement you wrote in the previous step with an `if`/`else` statement that does the following:\n",
    "\n",
    "If `smoker_status` is equal to `1`, print `\"To lower your cost, you should consider quitting smoking.\"`\n",
    "Otherwise, print `\"Smoking is not an issue for you.\"`"
   ]
  },
  {
   "cell_type": "code",
   "execution_count": 3,
   "id": "82be3c25",
   "metadata": {},
   "outputs": [],
   "source": [
    "def analyse_smoker(smoker_status):\n",
    "    if smoker_status == 1:\n",
    "        print(\"To lower your cost, you should consider quitting smoking.\")\n",
    "    else:\n",
    "        print(\"Smoking is not an issue for you.\")   "
   ]
  },
  {
   "cell_type": "markdown",
   "id": "ee36f129",
   "metadata": {},
   "source": [
    "**4.** Now that we’ve written the `analyze_smoker()` function, let’s make use of it.\n",
    "\n",
    "In the `estimate_insurance_cost()` function, go to the line of code that prints the estimated insurance cost. On the next line, make a function call to `analyze_smoker()`, passing in the smoker variable as an argument."
   ]
  },
  {
   "cell_type": "code",
   "execution_count": 4,
   "id": "64cb0e56",
   "metadata": {},
   "outputs": [],
   "source": [
    "def estimate_insurance_cost(name, age, sex, num_of_children, smoker):\n",
    "  estimated_cost = 400*age - 128*sex + 425*num_of_children + 10000*smoker - 2500\n",
    "  print(name + \"'s Estimated Insurance Cost: \" + str(estimated_cost) + \" dollars.\")\n",
    "  analyse_smoker(smoker)\n",
    "  return estimated_cost"
   ]
  },
  {
   "cell_type": "code",
   "execution_count": 5,
   "id": "68d37d2e",
   "metadata": {},
   "outputs": [
    {
     "name": "stdout",
     "output_type": "stream",
     "text": [
      "Keanu's Estimated Insurance Cost: 20247 dollars.\n",
      "To lower your cost, you should consider quitting smoking.\n"
     ]
    }
   ],
   "source": [
    "keanu_insurance_cost = estimate_insurance_cost(name = 'Keanu', age = 29, sex = 1, num_of_children = 3, smoker = 1)"
   ]
  },
  {
   "cell_type": "markdown",
   "id": "82a6dab3",
   "metadata": {},
   "source": [
    "### **Analyze your own insurance cost**"
   ]
  },
  {
   "cell_type": "markdown",
   "id": "11286313",
   "metadata": {},
   "source": [
    "**5.** Now that we’ve estimated and analyzed Keanu’s insurance cost, let’s see if we can do the same for our own!\n",
    "\n",
    "At the bottom of your code, create a new insurance cost variable for yourself, similar to how we did it for Keanu.\n",
    "\n",
    "Set the variable equal to a function call to `estimate_insurance_cost()`, passing in your own age, sex, number of children, and smoker status.\n",
    "\n",
    "See the result. Do you see any ways that you can potentially lower your insurance cost?"
   ]
  },
  {
   "cell_type": "code",
   "execution_count": 6,
   "id": "1d6036dd",
   "metadata": {},
   "outputs": [
    {
     "name": "stdout",
     "output_type": "stream",
     "text": [
      "Rodrigo's Estimated Insurance Cost: 8972 dollars.\n",
      "Smoking is not an issue for you.\n"
     ]
    }
   ],
   "source": [
    "rodrigo_insurance_cost = estimate_insurance_cost(name = 'Rodrigo', age = 29, sex = 1, num_of_children = 0, smoker = 0)"
   ]
  },
  {
   "cell_type": "markdown",
   "id": "c865a21a",
   "metadata": {},
   "source": [
    "**7.** Great job! In this project, you used control flow in your code – using `if`, `elif`, and `else` statements – to provide advice on how individuals can lower their medical insurance costs.\n",
    "\n",
    "As a data scientist, it’s important to have an understanding of control flow as you’ll eventually work with and build complex decision tree algorithms. You are now better equipped to move forward in your data science journey!\n",
    "\n",
    "If you’d like additional practice on control flow, feel free to experiment with ways you might extend this project!\n",
    "\n",
    "Happy coding!"
   ]
  },
  {
   "cell_type": "code",
   "execution_count": 12,
   "id": "ac75b2e6",
   "metadata": {},
   "outputs": [],
   "source": [
    "def analyse_carac(sex, num_of_children, smoker):\n",
    "    print('Your age is making you pay more, consider using a time machine or killing yourself or both!')\n",
    "    if sex == 0:\n",
    "        print('Beeing a woman sucks, you should try rebirthing as a man, is much better. Do not try gender trasnformation or whatever they call it these days. It will not lower the cost!')\n",
    "    else:\n",
    "        print('Nice! You should be proud of yourself! Nothing can be better than beeing a man. Enjoy!')\n",
    "    if num_of_children > 0:\n",
    "        print('You have kids hum? Have you tried to throw a kid of the window? You may like it. And will lower the insurance cost. The days in the jail will be worth it.')\n",
    "    else:\n",
    "        print('You are a lucky bastard, enjoying your life without anyone bothering you. Such a pleasure.')\n",
    "    if smoker == 0:\n",
    "        print('Are you joking? Not even Marijuana? You should try it. The insurence cost will get higher. I mean HIGHER, but you will not need it if you smoke weed every day.')\n",
    "    else:\n",
    "        print('Yeah! It will cost you 10000 more. Make it count')"
   ]
  },
  {
   "cell_type": "code",
   "execution_count": 13,
   "id": "84799092",
   "metadata": {},
   "outputs": [],
   "source": [
    "def estimate_insurance_cost(name, age, sex, num_of_children, smoker):\n",
    "  estimated_cost = 400*age - 128*sex + 425*num_of_children + 10000*smoker - 2500\n",
    "  print(name + \"'s Estimated Insurance Cost: \" + str(estimated_cost) + \" dollars.\")\n",
    "  analyse_carac(sex, num_of_children, smoker)\n",
    "  return estimated_cost"
   ]
  },
  {
   "cell_type": "code",
   "execution_count": 14,
   "id": "39a9930a",
   "metadata": {},
   "outputs": [
    {
     "name": "stdout",
     "output_type": "stream",
     "text": [
      "Rodrigo's Estimated Insurance Cost: 8972 dollars.\n",
      "Your age is making you pay more, consider using a time machine or killing yourself or both!\n",
      "Nice! You should be proud of yourself! Nothing can be better than beeing a man. Enjoy!\n",
      "You are a lucky bastard, enjoying your life without anyone bothering you. Such a pleasure.\n",
      "Are you joking? Not even Marijuana? You should try it. The insurence cost will get higher. I mean HIGHER, but you will not need it if you smoke weed every day.\n"
     ]
    }
   ],
   "source": [
    "rodrigo_insurance_cost = estimate_insurance_cost(name = 'Rodrigo', age = 29, sex = 1, num_of_children = 0, smoker = 0)"
   ]
  }
 ],
 "metadata": {
  "kernelspec": {
   "display_name": "Python (learn_python)",
   "language": "python",
   "name": "learn_python"
  },
  "language_info": {
   "codemirror_mode": {
    "name": "ipython",
    "version": 3
   },
   "file_extension": ".py",
   "mimetype": "text/x-python",
   "name": "python",
   "nbconvert_exporter": "python",
   "pygments_lexer": "ipython3",
   "version": "3.13.3"
  }
 },
 "nbformat": 4,
 "nbformat_minor": 5
}

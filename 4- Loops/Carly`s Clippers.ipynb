{
 "cells": [
  {
   "cell_type": "markdown",
   "id": "d9a814a3",
   "metadata": {},
   "source": [
    "### **Carly's Clippers**\n",
    "\n",
    "You are the Data Analyst at Carly’s Clippers, the newest hair salon on the block. Your job is to go through the lists of data that have been collected in the past couple of weeks. You will be calculating some important metrics that Carly can use to plan out the operation of the business for the rest of the month.\n",
    "\n",
    "You have been provided with three lists:\n",
    "\n",
    "- `hairstyles`: the names of the cuts offered at Carly’s Clippers.\n",
    "\n",
    "- `prices`: the price of each hairstyle in the `hairstyles` list.\n",
    "\n",
    "- `last_week`: the number of purchases for each hairstyle type in the last week.\n",
    "\n",
    "Each index in `hairstyles` corresponds to an associated index in `prices` and `last_week`.\n",
    "\n",
    "For example, The hairstyle `\"bouffant\"` has an associated price of `30` from the `prices` list, and was purchased `2` times in the last week as shown in the `last_week` list. Each of these elements are in the first index of their respective lists.\n",
    "\n",
    "Let’s get started!\n",
    "\n",
    "If you get stuck during this project or would like to see an experienced developer work through it, click “[**Get Unstuck**](https://www.youtube.com/watch?v=ddMHCEs-wmE)“ to see a **project walkthrough video**."
   ]
  },
  {
   "cell_type": "markdown",
   "id": "dc80a829",
   "metadata": {},
   "source": [
    "### **Prices and Cuts:**"
   ]
  },
  {
   "cell_type": "code",
   "execution_count": 1,
   "id": "4bc29986",
   "metadata": {},
   "outputs": [],
   "source": [
    "hairstyles = [\"bouffant\", \"pixie\", \"dreadlocks\", \"crew\", \"bowl\", \"bob\", \"mohawk\", \"flattop\"]\n",
    "\n",
    "prices = [30, 25, 40, 20, 20, 35, 50, 35]\n",
    "\n",
    "last_week = [2, 3, 5, 8, 4, 4, 6, 2]"
   ]
  },
  {
   "cell_type": "markdown",
   "id": "24aa9870",
   "metadata": {},
   "source": [
    "TASK 1\n",
    "\n",
    "Carly wants to be able to market her low prices. We want to find out what the average price of a cut is.\n",
    "\n",
    "First, let’s sum up all the prices of haircuts. Create a variable `total_price`, and set it to `0`."
   ]
  },
  {
   "cell_type": "code",
   "execution_count": 2,
   "id": "438dfebb",
   "metadata": {},
   "outputs": [],
   "source": [
    "total_price = 0"
   ]
  },
  {
   "cell_type": "markdown",
   "id": "d3a96e62",
   "metadata": {},
   "source": [
    "TASK 2\n",
    "\n",
    "Loop through the prices list and add each price to the variable `total_price`."
   ]
  },
  {
   "cell_type": "code",
   "execution_count": 3,
   "id": "f7f14c46",
   "metadata": {},
   "outputs": [
    {
     "name": "stdout",
     "output_type": "stream",
     "text": [
      "255\n"
     ]
    }
   ],
   "source": [
    "for price in prices:\n",
    "  total_price += price\n",
    "\n",
    "print(total_price)"
   ]
  },
  {
   "cell_type": "markdown",
   "id": "fdf9fc86",
   "metadata": {},
   "source": [
    "TASK 3 - 4\n",
    "\n",
    "After your loop, create a variable called `average_price` that is the `total_price` divided by the number of prices.\n",
    "\n",
    "You can get the number of prices by using the len() function\n",
    "\n",
    "Print the value of average_price so the output looks like:\n",
    "\n",
    "- Average Haircut Price: <average_price>\n"
   ]
  },
  {
   "cell_type": "code",
   "execution_count": 4,
   "id": "51fe8cc8",
   "metadata": {},
   "outputs": [
    {
     "name": "stdout",
     "output_type": "stream",
     "text": [
      "31.875\n"
     ]
    }
   ],
   "source": [
    "average_price = total_price/len(prices)\n",
    "print(average_price)"
   ]
  },
  {
   "cell_type": "markdown",
   "id": "91bf67a6",
   "metadata": {},
   "source": [
    "TASK 5 - 6\n",
    "\n",
    "That average price is more expensive than Carly thought it would be! She wants to cut all prices by 5 dollars.\n",
    "\n",
    "Use a list comprehension to make a list called `new_prices`, which has each element in `prices` minus `5`.\n",
    "\n",
    "Print `new_prices`."
   ]
  },
  {
   "cell_type": "code",
   "execution_count": 5,
   "id": "275857f8",
   "metadata": {},
   "outputs": [
    {
     "name": "stdout",
     "output_type": "stream",
     "text": [
      "[25, 20, 35, 15, 15, 30, 45, 30]\n"
     ]
    }
   ],
   "source": [
    "new_prices = [price - 5 for price in prices]\n",
    "print(new_prices)"
   ]
  },
  {
   "cell_type": "markdown",
   "id": "f331b103",
   "metadata": {},
   "source": [
    "### **Revenue:**"
   ]
  },
  {
   "cell_type": "markdown",
   "id": "63c869a7",
   "metadata": {},
   "source": [
    "TASK 7 - 10\n",
    "\n",
    "Carly really wants to make sure that Carly’s Clippers is a profitable endeavor. She first wants to know how much revenue was brought in last week.\n",
    "\n",
    "Create a variable called `total_revenue` and set it to `0`.\n",
    "\n",
    "Use a for loop to create a variable `i` that goes from `0` to `len(hairstyles)`\n",
    "\n",
    "Hint: You can use `range()` to do this!\n",
    "\n",
    "Add the product of `prices[i]` (the price of the haircut at position `i`) and `last_week[i]` (the number of people who got the haircut at position `i`) to `total_revenue` at each step.\n",
    "\n",
    "After your loop, print the value of `total_revenue`, so the output looks like:\n",
    "\n",
    "- Total Revenue: <total_revenue>"
   ]
  },
  {
   "cell_type": "code",
   "execution_count": 6,
   "id": "ec2a8594",
   "metadata": {},
   "outputs": [
    {
     "name": "stdout",
     "output_type": "stream",
     "text": [
      "Total Revenue:  1085\n"
     ]
    }
   ],
   "source": [
    "total_revenue = 0\n",
    "\n",
    "for i in range(len(hairstyles)):\n",
    "  total_revenue += prices[i] * last_week[i]\n",
    "\n",
    "print(\"Total Revenue: \",total_revenue)"
   ]
  },
  {
   "cell_type": "markdown",
   "id": "92098a1b",
   "metadata": {},
   "source": [
    "TASK 11\n",
    "\n",
    "Find the average daily revenue by dividing `total_revenue` by 7. Call this number `average_daily_revenue` and print it out."
   ]
  },
  {
   "cell_type": "code",
   "execution_count": 7,
   "id": "3769f990",
   "metadata": {},
   "outputs": [
    {
     "name": "stdout",
     "output_type": "stream",
     "text": [
      "155.0\n"
     ]
    }
   ],
   "source": [
    "avarege_daily_revenue = total_revenue / 7\n",
    "print(avarege_daily_revenue)"
   ]
  },
  {
   "cell_type": "markdown",
   "id": "09ec1c67",
   "metadata": {},
   "source": [
    "TASK 12 - 13\n",
    "\n",
    "Carly thinks she can bring in more customers by advertising all of the haircuts she has that are under `30` dollars.\n",
    "\n",
    "Use a list comprehension to create a list called `cuts_under_30` that has the `entry hairstyles[i]` for each `i` for which `new_prices[i] `is less than `30`.\n",
    "\n",
    "You can use `range(len(new_prices))` in your list comprehension to make i go from 0 to the last index of `new_prices`.\n",
    "\n",
    "Print `cuts_under_30`."
   ]
  },
  {
   "cell_type": "code",
   "execution_count": 8,
   "id": "9824c091",
   "metadata": {},
   "outputs": [
    {
     "name": "stdout",
     "output_type": "stream",
     "text": [
      "[25, 20, 15, 15]\n"
     ]
    }
   ],
   "source": [
    "cuts_under_30 = [new_prices[i] for i in range(len(hairstyles)) if new_prices[i] < 30]\n",
    "print(cuts_under_30)"
   ]
  }
 ],
 "metadata": {
  "kernelspec": {
   "display_name": "Python (learn_python)",
   "language": "python",
   "name": "learn_python"
  },
  "language_info": {
   "codemirror_mode": {
    "name": "ipython",
    "version": 3
   },
   "file_extension": ".py",
   "mimetype": "text/x-python",
   "name": "python",
   "nbconvert_exporter": "python",
   "pygments_lexer": "ipython3",
   "version": "3.13.3"
  }
 },
 "nbformat": 4,
 "nbformat_minor": 5
}

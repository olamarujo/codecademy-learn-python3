{
 "cells": [
  {
   "cell_type": "markdown",
   "id": "8ed33fa2",
   "metadata": {},
   "source": [
    "## **Thread Shed**"
   ]
  },
  {
   "cell_type": "markdown",
   "id": "cfd1759b",
   "metadata": {},
   "source": [
    "You’ve recently been hired as a cashier at the local sewing hobby shop, **Thread Shed**. Some of your daily responsibilities involve tallying the number of sales during the day, calculating the total amount of money made, and keeping track of the names of the customers.\n",
    "\n",
    "Unfortunately, the **Thread Shed** has an extremely outdated register system and stores all of the transaction information in one huge unwieldy string called `daily_sales`.\n",
    "\n",
    "All day, for each transaction, the name of the customer, amount spent, types of thread purchased, and the date of sale is all recorded in this same string. Your task is to use your Python skills to iterate through this string and clean up each transaction and store all the information in easier-to-access lists.\n",
    "\n",
    "If you get stuck during this project or would like to see an experienced developer work through it, click “[**Get Unstuck**](https://www.youtube.com/watch?v=x1AxPYJwHCw&t=1s)“ to see a **project walkthrough video**."
   ]
  },
  {
   "cell_type": "markdown",
   "id": "768340d4",
   "metadata": {},
   "source": [
    "**Break up `daily_sales` in easy to understand lists `customers`, `sales`, and `thread_sold`.**"
   ]
  },
  {
   "cell_type": "markdown",
   "id": "429c83e1",
   "metadata": {},
   "source": [
    "**1.** First, take a minute to inspect the string `daily_sales` in the code editor.\n",
    "\n",
    "How is each transaction stored? How is each piece of data within the transaction stored?\n",
    "\n",
    "Start thinking about how we can split up this string into its individual pieces of data."
   ]
  },
  {
   "cell_type": "code",
   "execution_count": 1,
   "id": "01d41b9c",
   "metadata": {},
   "outputs": [],
   "source": [
    "daily_sales = \\\n",
    "\"\"\"Edith Mcbride   ;,;$1.21   ;,;   white ;,; \n",
    "09/15/17   ,Herbert Tran   ;,;   $7.29;,; \n",
    "white&blue;,;   09/15/17 ,Paul Clarke ;,;$12.52 \n",
    ";,;   white&blue ;,; 09/15/17 ,Lucille Caldwell   \n",
    ";,;   $5.13   ;,; white   ;,; 09/15/17,\n",
    "Eduardo George   ;,;$20.39;,; white&yellow \n",
    ";,;09/15/17   ,   Danny Mclaughlin;,;$30.82;,;   \n",
    "purple ;,;09/15/17 ,Stacy Vargas;,; $1.85   ;,; \n",
    "purple&yellow ;,;09/15/17,   Shaun Brock;,; \n",
    "$17.98;,;purple&yellow ;,; 09/15/17 , \n",
    "Erick Harper ;,;$17.41;,; blue ;,; 09/15/17, \n",
    "Michelle Howell ;,;$28.59;,; blue;,;   09/15/17   , \n",
    "Carroll Boyd;,; $14.51;,;   purple&blue   ;,;   \n",
    "09/15/17   , Teresa Carter   ;,; $19.64 ;,; \n",
    "white;,;09/15/17   ,   Jacob Kennedy ;,; $11.40   \n",
    ";,; white&red   ;,; 09/15/17, Craig Chambers;,; \n",
    "$8.79 ;,; white&blue&red   ;,;09/15/17   , Peggy Bell;,; $8.65 ;,;blue   ;,; 09/15/17,   Kenneth Cunningham ;,;   $10.53;,;   green&blue   ;,; \n",
    "09/15/17   ,   Marvin Morgan;,;   $16.49;,; \n",
    "green&blue&red   ;,;   09/15/17 ,Marjorie Russell \n",
    ";,; $6.55 ;,;   green&blue&red;,;   09/15/17 ,\n",
    "Israel Cummings;,;   $11.86   ;,;black;,;  \n",
    "09/15/17,   June Doyle   ;,;   $22.29 ;,;  \n",
    "black&yellow ;,;09/15/17 , Jaime Buchanan   ;,;   \n",
    "$8.35;,;   white&black&yellow   ;,;   09/15/17,   \n",
    "Rhonda Farmer;,;$2.91 ;,;   white&black&yellow   \n",
    ";,;09/15/17, Darren Mckenzie ;,;$22.94;,;green \n",
    ";,;09/15/17,Rufus Malone;,;$4.70   ;,; green&yellow \n",
    ";,; 09/15/17   ,Hubert Miles;,;   $3.59   \n",
    ";,;green&yellow&blue;,;   09/15/17   , Joseph Bridges  ;,;$5.66   ;,; green&yellow&purple&blue \n",
    ";,;   09/15/17 , Sergio Murphy   ;,;$17.51   ;,;   \n",
    "black   ;,;   09/15/17 , Audrey Ferguson ;,; \n",
    "$5.54;,;black&blue   ;,;09/15/17 ,Edna Williams ;,; \n",
    "$17.13;,; black&blue;,;   09/15/17,   Randy Fleming;,;   $21.13 ;,;black ;,;09/15/17 ,Elisa Hart;,; $0.35   ;,; black&purple;,;   09/15/17   ,\n",
    "Ernesto Hunt ;,; $13.91   ;,;   black&purple ;,;   \n",
    "09/15/17,   Shannon Chavez   ;,;$19.26   ;,; \n",
    "yellow;,; 09/15/17   , Sammy Cain;,; $5.45;,;   \n",
    "yellow&red ;,;09/15/17 ,   Steven Reeves ;,;$5.50   \n",
    ";,;   yellow;,;   09/15/17, Ruben Jones   ;,; \n",
    "$14.56 ;,;   yellow&blue;,;09/15/17 , Essie Hansen;,;   $7.33   ;,;   yellow&blue&red\n",
    ";,; 09/15/17   ,   Rene Hardy   ;,; $20.22   ;,; \n",
    "black ;,;   09/15/17 ,   Lucy Snyder   ;,; $8.67   \n",
    ";,;black&red  ;,; 09/15/17 ,Dallas Obrien ;,;   \n",
    "$8.31;,;   black&red ;,;   09/15/17,   Stacey Payne \n",
    ";,;   $15.70   ;,;   white&black&red ;,;09/15/17   \n",
    ",   Tanya Cox   ;,;   $6.74   ;,;yellow   ;,; \n",
    "09/15/17 , Melody Moran ;,;   $30.84   \n",
    ";,;yellow&black;,;   09/15/17 , Louise Becker   ;,; \n",
    "$12.31 ;,; green&yellow&black;,;   09/15/17 ,\n",
    "Ryan Webster;,;$2.94 ;,; yellow ;,; 09/15/17 \n",
    ",Justin Blake ;,; $22.46   ;,;white&yellow ;,;   \n",
    "09/15/17,   Beverly Baldwin ;,;   $6.60;,;   \n",
    "white&yellow&black ;,;09/15/17   ,   Dale Brady   \n",
    ";,;   $6.27 ;,; yellow   ;,;09/15/17 ,Guadalupe Potter ;,;$21.12   ;,; yellow;,; 09/15/17   , \n",
    "Desiree Butler ;,;$2.10   ;,;white;,; 09/15/17  \n",
    ",Sonja Barnett ;,; $14.22 ;,;white&black;,;   \n",
    "09/15/17, Angelica Garza;,;$11.60;,;white&black   \n",
    ";,;   09/15/17   ,   Jamie Welch   ;,; $25.27   ;,; \n",
    "white&black&red ;,;09/15/17   ,   Rex Hudson   \n",
    ";,;$8.26;,;   purple;,; 09/15/17 ,   Nadine Gibbs \n",
    ";,;   $30.80 ;,;   purple&yellow   ;,; 09/15/17   , \n",
    "Hannah Pratt;,;   $22.61   ;,;   purple&yellow   \n",
    ";,;09/15/17,Gayle Richards;,;$22.19 ;,; \n",
    "green&purple&yellow ;,;09/15/17   ,Stanley Holland \n",
    ";,; $7.47   ;,; red ;,; 09/15/17 , Anna Dean;,;$5.49 ;,; yellow&red ;,;   09/15/17   ,\n",
    "Terrance Saunders ;,;   $23.70  ;,;green&yellow&red \n",
    ";,; 09/15/17 ,   Brandi Zimmerman ;,; $26.66 ;,; \n",
    "red   ;,;09/15/17 ,Guadalupe Freeman ;,; $25.95;,; \n",
    "green&red ;,;   09/15/17   ,Irving Patterson \n",
    ";,;$19.55 ;,; green&white&red ;,;   09/15/17 ,Karl Ross;,;   $15.68;,;   white ;,;   09/15/17 , Brandy Cortez ;,;$23.57;,;   white&red   ;,;09/15/17, \n",
    "Mamie Riley   ;,;$29.32;,; purple;,;09/15/17 ,Mike Thornton   ;,; $26.44 ;,;   purple   ;,; 09/15/17, \n",
    "Jamie Vaughn   ;,; $17.24;,;green ;,; 09/15/17   , \n",
    "Noah Day ;,;   $8.49   ;,;green   ;,;09/15/17   \n",
    ",Josephine Keller ;,;$13.10 ;,;green;,;   09/15/17 ,   Tracey Wolfe;,;$20.39 ;,; red   ;,; 09/15/17 ,\n",
    "Ignacio Parks;,;$14.70   ;,; white&red ;,;09/15/17 \n",
    ", Beatrice Newman ;,;$22.45   ;,;white&purple&red \n",
    ";,;   09/15/17, Andre Norris   ;,;   $28.46   ;,;   \n",
    "red;,;   09/15/17 ,   Albert Lewis ;,; $23.89;,;   \n",
    "black&red;,; 09/15/17,   Javier Bailey   ;,;   \n",
    "$24.49   ;,; black&red ;,; 09/15/17   , Everett Lyons ;,;$1.81;,;   black&red ;,; 09/15/17 ,   \n",
    "Abraham Maxwell;,; $6.81   ;,;green;,;   09/15/17   \n",
    ",   Traci Craig ;,;$0.65;,; green&yellow;,; \n",
    "09/15/17 , Jeffrey Jenkins   ;,;$26.45;,; \n",
    "green&yellow&blue   ;,;   09/15/17,   Merle Wilson \n",
    ";,;   $7.69 ;,; purple;,; 09/15/17,Janis Franklin   \n",
    ";,;$8.74   ;,; purple&black   ;,;09/15/17 ,  \n",
    "Leonard Guerrero ;,;   $1.86   ;,;yellow  \n",
    ";,;09/15/17,Lana Sanchez;,;$14.75   ;,; yellow;,;   \n",
    "09/15/17   ,Donna Ball ;,; $28.10  ;,; \n",
    "yellow&blue;,;   09/15/17   , Terrell Barber   ;,; \n",
    "$9.91   ;,; green ;,;09/15/17   ,Jody Flores;,; \n",
    "$16.34 ;,; green ;,;   09/15/17,   Daryl Herrera \n",
    ";,;$27.57;,; white;,;   09/15/17   , Miguel Mcguire;,;$5.25;,; white&blue   ;,;   09/15/17 ,   \n",
    "Rogelio Gonzalez;,; $9.51;,;   white&black&blue   \n",
    ";,;   09/15/17   ,   Lora Hammond ;,;$20.56 ;,; \n",
    "green;,;   09/15/17,Owen Ward;,; $21.64   ;,;   \n",
    "green&yellow;,;09/15/17,Malcolm Morales ;,;   \n",
    "$24.99   ;,;   green&yellow&black;,; 09/15/17 ,   \n",
    "Eric Mcdaniel ;,;$29.70;,; green ;,; 09/15/17 \n",
    ",Madeline Estrada;,;   $15.52;,;green;,;   09/15/17 \n",
    ", Leticia Manning;,;$15.70 ;,; green&purple;,; \n",
    "09/15/17 ,   Mario Wallace ;,; $12.36 ;,;green ;,; \n",
    "09/15/17,Lewis Glover;,;   $13.66   ;,;   \n",
    "green&white;,;09/15/17,   Gail Phelps   ;,;$30.52   \n",
    ";,; green&white&blue   ;,; 09/15/17 , Myrtle Morris \n",
    ";,;   $22.66   ;,; green&white&blue;,;09/15/17\"\"\""
   ]
  },
  {
   "cell_type": "markdown",
   "id": "d0eecadf",
   "metadata": {},
   "source": [
    "**2.** It looks like each transaction is separated from the next transaction by a `,`, and then each piece of data within a transaction is separated by the artifact `;,;`.\n",
    "\n",
    "If we want to split up `daily_sales` into a list of individual transactions, we are going to want to split by `,`, but first, we need to replace the artifact `;,;` to something without a comma, so we don’t split any transactions themselves.\n",
    "\n",
    "Replace all the instances of `;,;` in `daily_sales` with some other character and save the result to `daily_sales_replaced`."
   ]
  },
  {
   "cell_type": "code",
   "execution_count": 2,
   "id": "cb9263ce",
   "metadata": {},
   "outputs": [],
   "source": [
    "daily_sales_replaced = daily_sales.replace(\";,;\", \"-\")"
   ]
  },
  {
   "cell_type": "markdown",
   "id": "c412735e",
   "metadata": {},
   "source": [
    "**3.** Now we can split the string into a list of each individual transaction.\n",
    "\n",
    "Split `daily_sales_replaced` around commas and save it to a new list `daily_transactions`."
   ]
  },
  {
   "cell_type": "code",
   "execution_count": 3,
   "id": "e2ec1f8a",
   "metadata": {},
   "outputs": [],
   "source": [
    "daily_transactions = daily_sales_replaced.split(\",\")"
   ]
  },
  {
   "cell_type": "markdown",
   "id": "5a62f0e5",
   "metadata": {},
   "source": [
    "**4.** Print `daily_transactions`.\n",
    "\n",
    "How does it look?"
   ]
  },
  {
   "cell_type": "code",
   "execution_count": 4,
   "id": "0fb38127",
   "metadata": {},
   "outputs": [
    {
     "name": "stdout",
     "output_type": "stream",
     "text": [
      "['Edith Mcbride   -$1.21   -   white - \\n09/15/17   ', 'Herbert Tran   -   $7.29- \\nwhite&blue-   09/15/17 ', 'Paul Clarke -$12.52 \\n-   white&blue - 09/15/17 ', 'Lucille Caldwell   \\n-   $5.13   - white   - 09/15/17', '\\nEduardo George   -$20.39- white&yellow \\n-09/15/17   ', '   Danny Mclaughlin-$30.82-   \\npurple -09/15/17 ', 'Stacy Vargas- $1.85   - \\npurple&yellow -09/15/17', '   Shaun Brock- \\n$17.98-purple&yellow - 09/15/17 ', ' \\nErick Harper -$17.41- blue - 09/15/17', ' \\nMichelle Howell -$28.59- blue-   09/15/17   ', ' \\nCarroll Boyd- $14.51-   purple&blue   -   \\n09/15/17   ', ' Teresa Carter   - $19.64 - \\nwhite-09/15/17   ', '   Jacob Kennedy - $11.40   \\n- white&red   - 09/15/17', ' Craig Chambers- \\n$8.79 - white&blue&red   -09/15/17   ', ' Peggy Bell- $8.65 -blue   - 09/15/17', '   Kenneth Cunningham -   $10.53-   green&blue   - \\n09/15/17   ', '   Marvin Morgan-   $16.49- \\ngreen&blue&red   -   09/15/17 ', 'Marjorie Russell \\n- $6.55 -   green&blue&red-   09/15/17 ', '\\nIsrael Cummings-   $11.86   -black-  \\n09/15/17', '   June Doyle   -   $22.29 -  \\nblack&yellow -09/15/17 ', ' Jaime Buchanan   -   \\n$8.35-   white&black&yellow   -   09/15/17', '   \\nRhonda Farmer-$2.91 -   white&black&yellow   \\n-09/15/17', ' Darren Mckenzie -$22.94-green \\n-09/15/17', 'Rufus Malone-$4.70   - green&yellow \\n- 09/15/17   ', 'Hubert Miles-   $3.59   \\n-green&yellow&blue-   09/15/17   ', ' Joseph Bridges  -$5.66   - green&yellow&purple&blue \\n-   09/15/17 ', ' Sergio Murphy   -$17.51   -   \\nblack   -   09/15/17 ', ' Audrey Ferguson - \\n$5.54-black&blue   -09/15/17 ', 'Edna Williams - \\n$17.13- black&blue-   09/15/17', '   Randy Fleming-   $21.13 -black -09/15/17 ', 'Elisa Hart- $0.35   - black&purple-   09/15/17   ', '\\nErnesto Hunt - $13.91   -   black&purple -   \\n09/15/17', '   Shannon Chavez   -$19.26   - \\nyellow- 09/15/17   ', ' Sammy Cain- $5.45-   \\nyellow&red -09/15/17 ', '   Steven Reeves -$5.50   \\n-   yellow-   09/15/17', ' Ruben Jones   - \\n$14.56 -   yellow&blue-09/15/17 ', ' Essie Hansen-   $7.33   -   yellow&blue&red\\n- 09/15/17   ', '   Rene Hardy   - $20.22   - \\nblack -   09/15/17 ', '   Lucy Snyder   - $8.67   \\n-black&red  - 09/15/17 ', 'Dallas Obrien -   \\n$8.31-   black&red -   09/15/17', '   Stacey Payne \\n-   $15.70   -   white&black&red -09/15/17   \\n', '   Tanya Cox   -   $6.74   -yellow   - \\n09/15/17 ', ' Melody Moran -   $30.84   \\n-yellow&black-   09/15/17 ', ' Louise Becker   - \\n$12.31 - green&yellow&black-   09/15/17 ', '\\nRyan Webster-$2.94 - yellow - 09/15/17 \\n', 'Justin Blake - $22.46   -white&yellow -   \\n09/15/17', '   Beverly Baldwin -   $6.60-   \\nwhite&yellow&black -09/15/17   ', '   Dale Brady   \\n-   $6.27 - yellow   -09/15/17 ', 'Guadalupe Potter -$21.12   - yellow- 09/15/17   ', ' \\nDesiree Butler -$2.10   -white- 09/15/17  \\n', 'Sonja Barnett - $14.22 -white&black-   \\n09/15/17', ' Angelica Garza-$11.60-white&black   \\n-   09/15/17   ', '   Jamie Welch   - $25.27   - \\nwhite&black&red -09/15/17   ', '   Rex Hudson   \\n-$8.26-   purple- 09/15/17 ', '   Nadine Gibbs \\n-   $30.80 -   purple&yellow   - 09/15/17   ', ' \\nHannah Pratt-   $22.61   -   purple&yellow   \\n-09/15/17', 'Gayle Richards-$22.19 - \\ngreen&purple&yellow -09/15/17   ', 'Stanley Holland \\n- $7.47   - red - 09/15/17 ', ' Anna Dean-$5.49 - yellow&red -   09/15/17   ', '\\nTerrance Saunders -   $23.70  -green&yellow&red \\n- 09/15/17 ', '   Brandi Zimmerman - $26.66 - \\nred   -09/15/17 ', 'Guadalupe Freeman - $25.95- \\ngreen&red -   09/15/17   ', 'Irving Patterson \\n-$19.55 - green&white&red -   09/15/17 ', 'Karl Ross-   $15.68-   white -   09/15/17 ', ' Brandy Cortez -$23.57-   white&red   -09/15/17', ' \\nMamie Riley   -$29.32- purple-09/15/17 ', 'Mike Thornton   - $26.44 -   purple   - 09/15/17', ' \\nJamie Vaughn   - $17.24-green - 09/15/17   ', ' \\nNoah Day -   $8.49   -green   -09/15/17   \\n', 'Josephine Keller -$13.10 -green-   09/15/17 ', '   Tracey Wolfe-$20.39 - red   - 09/15/17 ', '\\nIgnacio Parks-$14.70   - white&red -09/15/17 \\n', ' Beatrice Newman -$22.45   -white&purple&red \\n-   09/15/17', ' Andre Norris   -   $28.46   -   \\nred-   09/15/17 ', '   Albert Lewis - $23.89-   \\nblack&red- 09/15/17', '   Javier Bailey   -   \\n$24.49   - black&red - 09/15/17   ', ' Everett Lyons -$1.81-   black&red - 09/15/17 ', '   \\nAbraham Maxwell- $6.81   -green-   09/15/17   \\n', '   Traci Craig -$0.65- green&yellow- \\n09/15/17 ', ' Jeffrey Jenkins   -$26.45- \\ngreen&yellow&blue   -   09/15/17', '   Merle Wilson \\n-   $7.69 - purple- 09/15/17', 'Janis Franklin   \\n-$8.74   - purple&black   -09/15/17 ', '  \\nLeonard Guerrero -   $1.86   -yellow  \\n-09/15/17', 'Lana Sanchez-$14.75   - yellow-   \\n09/15/17   ', 'Donna Ball - $28.10  - \\nyellow&blue-   09/15/17   ', ' Terrell Barber   - \\n$9.91   - green -09/15/17   ', 'Jody Flores- \\n$16.34 - green -   09/15/17', '   Daryl Herrera \\n-$27.57- white-   09/15/17   ', ' Miguel Mcguire-$5.25- white&blue   -   09/15/17 ', '   \\nRogelio Gonzalez- $9.51-   white&black&blue   \\n-   09/15/17   ', '   Lora Hammond -$20.56 - \\ngreen-   09/15/17', 'Owen Ward- $21.64   -   \\ngreen&yellow-09/15/17', 'Malcolm Morales -   \\n$24.99   -   green&yellow&black- 09/15/17 ', '   \\nEric Mcdaniel -$29.70- green - 09/15/17 \\n', 'Madeline Estrada-   $15.52-green-   09/15/17 \\n', ' Leticia Manning-$15.70 - green&purple- \\n09/15/17 ', '   Mario Wallace - $12.36 -green - \\n09/15/17', 'Lewis Glover-   $13.66   -   \\ngreen&white-09/15/17', '   Gail Phelps   -$30.52   \\n- green&white&blue   - 09/15/17 ', ' Myrtle Morris \\n-   $22.66   - green&white&blue-09/15/17']\n"
     ]
    }
   ],
   "source": [
    "print(daily_transactions)"
   ]
  },
  {
   "cell_type": "markdown",
   "id": "61fc4de6",
   "metadata": {},
   "source": [
    "**5.** Our next step is to split each individual transaction into a list of its data points.\n",
    "\n",
    "First, define an empty list `daily_transactions_split`"
   ]
  },
  {
   "cell_type": "code",
   "execution_count": 5,
   "id": "eabf10c5",
   "metadata": {},
   "outputs": [],
   "source": [
    "daily_transactions_split = []"
   ]
  },
  {
   "cell_type": "markdown",
   "id": "7b6e3c9d",
   "metadata": {},
   "source": [
    "**6.** Now, iterate through `daily_transactions` (remember, this is a list of strings currently), and for each transaction, split the string around whatever character you replaced the `;,;` artifacts with in **Step 2**.\n",
    "\n",
    "Append each of these split strings (which are lists now) to our new list `daily_transactions_split`."
   ]
  },
  {
   "cell_type": "code",
   "execution_count": 6,
   "id": "a3a70dc4",
   "metadata": {},
   "outputs": [],
   "source": [
    "for split in daily_transactions:\n",
    "  d_t_split = split.split(\"-\")\n",
    "  daily_transactions_split.append(d_t_split)"
   ]
  },
  {
   "cell_type": "markdown",
   "id": "30f8aea6",
   "metadata": {},
   "source": [
    "**7.** Print `daily_transactions_split`.\n",
    "\n",
    "How’s it looking?"
   ]
  },
  {
   "cell_type": "code",
   "execution_count": 7,
   "id": "a0e4c60c",
   "metadata": {},
   "outputs": [
    {
     "name": "stdout",
     "output_type": "stream",
     "text": [
      "[['Edith Mcbride   ', '$1.21   ', '   white ', ' \\n09/15/17   '], ['Herbert Tran   ', '   $7.29', ' \\nwhite&blue', '   09/15/17 '], ['Paul Clarke ', '$12.52 \\n', '   white&blue ', ' 09/15/17 '], ['Lucille Caldwell   \\n', '   $5.13   ', ' white   ', ' 09/15/17'], ['\\nEduardo George   ', '$20.39', ' white&yellow \\n', '09/15/17   '], ['   Danny Mclaughlin', '$30.82', '   \\npurple ', '09/15/17 '], ['Stacy Vargas', ' $1.85   ', ' \\npurple&yellow ', '09/15/17'], ['   Shaun Brock', ' \\n$17.98', 'purple&yellow ', ' 09/15/17 '], [' \\nErick Harper ', '$17.41', ' blue ', ' 09/15/17'], [' \\nMichelle Howell ', '$28.59', ' blue', '   09/15/17   '], [' \\nCarroll Boyd', ' $14.51', '   purple&blue   ', '   \\n09/15/17   '], [' Teresa Carter   ', ' $19.64 ', ' \\nwhite', '09/15/17   '], ['   Jacob Kennedy ', ' $11.40   \\n', ' white&red   ', ' 09/15/17'], [' Craig Chambers', ' \\n$8.79 ', ' white&blue&red   ', '09/15/17   '], [' Peggy Bell', ' $8.65 ', 'blue   ', ' 09/15/17'], ['   Kenneth Cunningham ', '   $10.53', '   green&blue   ', ' \\n09/15/17   '], ['   Marvin Morgan', '   $16.49', ' \\ngreen&blue&red   ', '   09/15/17 '], ['Marjorie Russell \\n', ' $6.55 ', '   green&blue&red', '   09/15/17 '], ['\\nIsrael Cummings', '   $11.86   ', 'black', '  \\n09/15/17'], ['   June Doyle   ', '   $22.29 ', '  \\nblack&yellow ', '09/15/17 '], [' Jaime Buchanan   ', '   \\n$8.35', '   white&black&yellow   ', '   09/15/17'], ['   \\nRhonda Farmer', '$2.91 ', '   white&black&yellow   \\n', '09/15/17'], [' Darren Mckenzie ', '$22.94', 'green \\n', '09/15/17'], ['Rufus Malone', '$4.70   ', ' green&yellow \\n', ' 09/15/17   '], ['Hubert Miles', '   $3.59   \\n', 'green&yellow&blue', '   09/15/17   '], [' Joseph Bridges  ', '$5.66   ', ' green&yellow&purple&blue \\n', '   09/15/17 '], [' Sergio Murphy   ', '$17.51   ', '   \\nblack   ', '   09/15/17 '], [' Audrey Ferguson ', ' \\n$5.54', 'black&blue   ', '09/15/17 '], ['Edna Williams ', ' \\n$17.13', ' black&blue', '   09/15/17'], ['   Randy Fleming', '   $21.13 ', 'black ', '09/15/17 '], ['Elisa Hart', ' $0.35   ', ' black&purple', '   09/15/17   '], ['\\nErnesto Hunt ', ' $13.91   ', '   black&purple ', '   \\n09/15/17'], ['   Shannon Chavez   ', '$19.26   ', ' \\nyellow', ' 09/15/17   '], [' Sammy Cain', ' $5.45', '   \\nyellow&red ', '09/15/17 '], ['   Steven Reeves ', '$5.50   \\n', '   yellow', '   09/15/17'], [' Ruben Jones   ', ' \\n$14.56 ', '   yellow&blue', '09/15/17 '], [' Essie Hansen', '   $7.33   ', '   yellow&blue&red\\n', ' 09/15/17   '], ['   Rene Hardy   ', ' $20.22   ', ' \\nblack ', '   09/15/17 '], ['   Lucy Snyder   ', ' $8.67   \\n', 'black&red  ', ' 09/15/17 '], ['Dallas Obrien ', '   \\n$8.31', '   black&red ', '   09/15/17'], ['   Stacey Payne \\n', '   $15.70   ', '   white&black&red ', '09/15/17   \\n'], ['   Tanya Cox   ', '   $6.74   ', 'yellow   ', ' \\n09/15/17 '], [' Melody Moran ', '   $30.84   \\n', 'yellow&black', '   09/15/17 '], [' Louise Becker   ', ' \\n$12.31 ', ' green&yellow&black', '   09/15/17 '], ['\\nRyan Webster', '$2.94 ', ' yellow ', ' 09/15/17 \\n'], ['Justin Blake ', ' $22.46   ', 'white&yellow ', '   \\n09/15/17'], ['   Beverly Baldwin ', '   $6.60', '   \\nwhite&yellow&black ', '09/15/17   '], ['   Dale Brady   \\n', '   $6.27 ', ' yellow   ', '09/15/17 '], ['Guadalupe Potter ', '$21.12   ', ' yellow', ' 09/15/17   '], [' \\nDesiree Butler ', '$2.10   ', 'white', ' 09/15/17  \\n'], ['Sonja Barnett ', ' $14.22 ', 'white&black', '   \\n09/15/17'], [' Angelica Garza', '$11.60', 'white&black   \\n', '   09/15/17   '], ['   Jamie Welch   ', ' $25.27   ', ' \\nwhite&black&red ', '09/15/17   '], ['   Rex Hudson   \\n', '$8.26', '   purple', ' 09/15/17 '], ['   Nadine Gibbs \\n', '   $30.80 ', '   purple&yellow   ', ' 09/15/17   '], [' \\nHannah Pratt', '   $22.61   ', '   purple&yellow   \\n', '09/15/17'], ['Gayle Richards', '$22.19 ', ' \\ngreen&purple&yellow ', '09/15/17   '], ['Stanley Holland \\n', ' $7.47   ', ' red ', ' 09/15/17 '], [' Anna Dean', '$5.49 ', ' yellow&red ', '   09/15/17   '], ['\\nTerrance Saunders ', '   $23.70  ', 'green&yellow&red \\n', ' 09/15/17 '], ['   Brandi Zimmerman ', ' $26.66 ', ' \\nred   ', '09/15/17 '], ['Guadalupe Freeman ', ' $25.95', ' \\ngreen&red ', '   09/15/17   '], ['Irving Patterson \\n', '$19.55 ', ' green&white&red ', '   09/15/17 '], ['Karl Ross', '   $15.68', '   white ', '   09/15/17 '], [' Brandy Cortez ', '$23.57', '   white&red   ', '09/15/17'], [' \\nMamie Riley   ', '$29.32', ' purple', '09/15/17 '], ['Mike Thornton   ', ' $26.44 ', '   purple   ', ' 09/15/17'], [' \\nJamie Vaughn   ', ' $17.24', 'green ', ' 09/15/17   '], [' \\nNoah Day ', '   $8.49   ', 'green   ', '09/15/17   \\n'], ['Josephine Keller ', '$13.10 ', 'green', '   09/15/17 '], ['   Tracey Wolfe', '$20.39 ', ' red   ', ' 09/15/17 '], ['\\nIgnacio Parks', '$14.70   ', ' white&red ', '09/15/17 \\n'], [' Beatrice Newman ', '$22.45   ', 'white&purple&red \\n', '   09/15/17'], [' Andre Norris   ', '   $28.46   ', '   \\nred', '   09/15/17 '], ['   Albert Lewis ', ' $23.89', '   \\nblack&red', ' 09/15/17'], ['   Javier Bailey   ', '   \\n$24.49   ', ' black&red ', ' 09/15/17   '], [' Everett Lyons ', '$1.81', '   black&red ', ' 09/15/17 '], ['   \\nAbraham Maxwell', ' $6.81   ', 'green', '   09/15/17   \\n'], ['   Traci Craig ', '$0.65', ' green&yellow', ' \\n09/15/17 '], [' Jeffrey Jenkins   ', '$26.45', ' \\ngreen&yellow&blue   ', '   09/15/17'], ['   Merle Wilson \\n', '   $7.69 ', ' purple', ' 09/15/17'], ['Janis Franklin   \\n', '$8.74   ', ' purple&black   ', '09/15/17 '], ['  \\nLeonard Guerrero ', '   $1.86   ', 'yellow  \\n', '09/15/17'], ['Lana Sanchez', '$14.75   ', ' yellow', '   \\n09/15/17   '], ['Donna Ball ', ' $28.10  ', ' \\nyellow&blue', '   09/15/17   '], [' Terrell Barber   ', ' \\n$9.91   ', ' green ', '09/15/17   '], ['Jody Flores', ' \\n$16.34 ', ' green ', '   09/15/17'], ['   Daryl Herrera \\n', '$27.57', ' white', '   09/15/17   '], [' Miguel Mcguire', '$5.25', ' white&blue   ', '   09/15/17 '], ['   \\nRogelio Gonzalez', ' $9.51', '   white&black&blue   \\n', '   09/15/17   '], ['   Lora Hammond ', '$20.56 ', ' \\ngreen', '   09/15/17'], ['Owen Ward', ' $21.64   ', '   \\ngreen&yellow', '09/15/17'], ['Malcolm Morales ', '   \\n$24.99   ', '   green&yellow&black', ' 09/15/17 '], ['   \\nEric Mcdaniel ', '$29.70', ' green ', ' 09/15/17 \\n'], ['Madeline Estrada', '   $15.52', 'green', '   09/15/17 \\n'], [' Leticia Manning', '$15.70 ', ' green&purple', ' \\n09/15/17 '], ['   Mario Wallace ', ' $12.36 ', 'green ', ' \\n09/15/17'], ['Lewis Glover', '   $13.66   ', '   \\ngreen&white', '09/15/17'], ['   Gail Phelps   ', '$30.52   \\n', ' green&white&blue   ', ' 09/15/17 '], [' Myrtle Morris \\n', '   $22.66   ', ' green&white&blue', '09/15/17']]\n"
     ]
    }
   ],
   "source": [
    "print(daily_transactions_split)"
   ]
  },
  {
   "cell_type": "markdown",
   "id": "1eafb31f",
   "metadata": {},
   "source": [
    "**8.** It looks like each data item has inconsistent whitespace around it. First, define an empty list `transactions_clean`.\n",
    "\n",
    "Now, Iterate through `daily_transactions_split` and for each transaction iterate through the different data points and strip off any whitespace.\n",
    "\n",
    "Add each of these cleaned up transactions to the new list `transactions_clean`."
   ]
  },
  {
   "cell_type": "code",
   "execution_count": 8,
   "id": "6abc801f",
   "metadata": {},
   "outputs": [],
   "source": [
    "transactions_clean = []\n",
    "\n",
    "for clean in daily_transactions_split:\n",
    "  transactions_clean2 = []\n",
    "  \n",
    "  for c in clean:\n",
    "    cleaned = c.replace(\"\\n\", \"\").strip(\" \")\n",
    "    transactions_clean2.append(cleaned)\n",
    "  transactions_clean.append(transactions_clean2)"
   ]
  },
  {
   "cell_type": "markdown",
   "id": "49b4c31f",
   "metadata": {},
   "source": [
    "**9.** Print `transactions_clean`.\n",
    "\n",
    "If you performed the last step correctly, you shouldn’t see any unnecessary whitespace."
   ]
  },
  {
   "cell_type": "code",
   "execution_count": 9,
   "id": "ddfb09c8",
   "metadata": {},
   "outputs": [
    {
     "name": "stdout",
     "output_type": "stream",
     "text": [
      "[['Edith Mcbride', '$1.21', 'white', '09/15/17'], ['Herbert Tran', '$7.29', 'white&blue', '09/15/17'], ['Paul Clarke', '$12.52', 'white&blue', '09/15/17'], ['Lucille Caldwell', '$5.13', 'white', '09/15/17'], ['Eduardo George', '$20.39', 'white&yellow', '09/15/17'], ['Danny Mclaughlin', '$30.82', 'purple', '09/15/17'], ['Stacy Vargas', '$1.85', 'purple&yellow', '09/15/17'], ['Shaun Brock', '$17.98', 'purple&yellow', '09/15/17'], ['Erick Harper', '$17.41', 'blue', '09/15/17'], ['Michelle Howell', '$28.59', 'blue', '09/15/17'], ['Carroll Boyd', '$14.51', 'purple&blue', '09/15/17'], ['Teresa Carter', '$19.64', 'white', '09/15/17'], ['Jacob Kennedy', '$11.40', 'white&red', '09/15/17'], ['Craig Chambers', '$8.79', 'white&blue&red', '09/15/17'], ['Peggy Bell', '$8.65', 'blue', '09/15/17'], ['Kenneth Cunningham', '$10.53', 'green&blue', '09/15/17'], ['Marvin Morgan', '$16.49', 'green&blue&red', '09/15/17'], ['Marjorie Russell', '$6.55', 'green&blue&red', '09/15/17'], ['Israel Cummings', '$11.86', 'black', '09/15/17'], ['June Doyle', '$22.29', 'black&yellow', '09/15/17'], ['Jaime Buchanan', '$8.35', 'white&black&yellow', '09/15/17'], ['Rhonda Farmer', '$2.91', 'white&black&yellow', '09/15/17'], ['Darren Mckenzie', '$22.94', 'green', '09/15/17'], ['Rufus Malone', '$4.70', 'green&yellow', '09/15/17'], ['Hubert Miles', '$3.59', 'green&yellow&blue', '09/15/17'], ['Joseph Bridges', '$5.66', 'green&yellow&purple&blue', '09/15/17'], ['Sergio Murphy', '$17.51', 'black', '09/15/17'], ['Audrey Ferguson', '$5.54', 'black&blue', '09/15/17'], ['Edna Williams', '$17.13', 'black&blue', '09/15/17'], ['Randy Fleming', '$21.13', 'black', '09/15/17'], ['Elisa Hart', '$0.35', 'black&purple', '09/15/17'], ['Ernesto Hunt', '$13.91', 'black&purple', '09/15/17'], ['Shannon Chavez', '$19.26', 'yellow', '09/15/17'], ['Sammy Cain', '$5.45', 'yellow&red', '09/15/17'], ['Steven Reeves', '$5.50', 'yellow', '09/15/17'], ['Ruben Jones', '$14.56', 'yellow&blue', '09/15/17'], ['Essie Hansen', '$7.33', 'yellow&blue&red', '09/15/17'], ['Rene Hardy', '$20.22', 'black', '09/15/17'], ['Lucy Snyder', '$8.67', 'black&red', '09/15/17'], ['Dallas Obrien', '$8.31', 'black&red', '09/15/17'], ['Stacey Payne', '$15.70', 'white&black&red', '09/15/17'], ['Tanya Cox', '$6.74', 'yellow', '09/15/17'], ['Melody Moran', '$30.84', 'yellow&black', '09/15/17'], ['Louise Becker', '$12.31', 'green&yellow&black', '09/15/17'], ['Ryan Webster', '$2.94', 'yellow', '09/15/17'], ['Justin Blake', '$22.46', 'white&yellow', '09/15/17'], ['Beverly Baldwin', '$6.60', 'white&yellow&black', '09/15/17'], ['Dale Brady', '$6.27', 'yellow', '09/15/17'], ['Guadalupe Potter', '$21.12', 'yellow', '09/15/17'], ['Desiree Butler', '$2.10', 'white', '09/15/17'], ['Sonja Barnett', '$14.22', 'white&black', '09/15/17'], ['Angelica Garza', '$11.60', 'white&black', '09/15/17'], ['Jamie Welch', '$25.27', 'white&black&red', '09/15/17'], ['Rex Hudson', '$8.26', 'purple', '09/15/17'], ['Nadine Gibbs', '$30.80', 'purple&yellow', '09/15/17'], ['Hannah Pratt', '$22.61', 'purple&yellow', '09/15/17'], ['Gayle Richards', '$22.19', 'green&purple&yellow', '09/15/17'], ['Stanley Holland', '$7.47', 'red', '09/15/17'], ['Anna Dean', '$5.49', 'yellow&red', '09/15/17'], ['Terrance Saunders', '$23.70', 'green&yellow&red', '09/15/17'], ['Brandi Zimmerman', '$26.66', 'red', '09/15/17'], ['Guadalupe Freeman', '$25.95', 'green&red', '09/15/17'], ['Irving Patterson', '$19.55', 'green&white&red', '09/15/17'], ['Karl Ross', '$15.68', 'white', '09/15/17'], ['Brandy Cortez', '$23.57', 'white&red', '09/15/17'], ['Mamie Riley', '$29.32', 'purple', '09/15/17'], ['Mike Thornton', '$26.44', 'purple', '09/15/17'], ['Jamie Vaughn', '$17.24', 'green', '09/15/17'], ['Noah Day', '$8.49', 'green', '09/15/17'], ['Josephine Keller', '$13.10', 'green', '09/15/17'], ['Tracey Wolfe', '$20.39', 'red', '09/15/17'], ['Ignacio Parks', '$14.70', 'white&red', '09/15/17'], ['Beatrice Newman', '$22.45', 'white&purple&red', '09/15/17'], ['Andre Norris', '$28.46', 'red', '09/15/17'], ['Albert Lewis', '$23.89', 'black&red', '09/15/17'], ['Javier Bailey', '$24.49', 'black&red', '09/15/17'], ['Everett Lyons', '$1.81', 'black&red', '09/15/17'], ['Abraham Maxwell', '$6.81', 'green', '09/15/17'], ['Traci Craig', '$0.65', 'green&yellow', '09/15/17'], ['Jeffrey Jenkins', '$26.45', 'green&yellow&blue', '09/15/17'], ['Merle Wilson', '$7.69', 'purple', '09/15/17'], ['Janis Franklin', '$8.74', 'purple&black', '09/15/17'], ['Leonard Guerrero', '$1.86', 'yellow', '09/15/17'], ['Lana Sanchez', '$14.75', 'yellow', '09/15/17'], ['Donna Ball', '$28.10', 'yellow&blue', '09/15/17'], ['Terrell Barber', '$9.91', 'green', '09/15/17'], ['Jody Flores', '$16.34', 'green', '09/15/17'], ['Daryl Herrera', '$27.57', 'white', '09/15/17'], ['Miguel Mcguire', '$5.25', 'white&blue', '09/15/17'], ['Rogelio Gonzalez', '$9.51', 'white&black&blue', '09/15/17'], ['Lora Hammond', '$20.56', 'green', '09/15/17'], ['Owen Ward', '$21.64', 'green&yellow', '09/15/17'], ['Malcolm Morales', '$24.99', 'green&yellow&black', '09/15/17'], ['Eric Mcdaniel', '$29.70', 'green', '09/15/17'], ['Madeline Estrada', '$15.52', 'green', '09/15/17'], ['Leticia Manning', '$15.70', 'green&purple', '09/15/17'], ['Mario Wallace', '$12.36', 'green', '09/15/17'], ['Lewis Glover', '$13.66', 'green&white', '09/15/17'], ['Gail Phelps', '$30.52', 'green&white&blue', '09/15/17'], ['Myrtle Morris', '$22.66', 'green&white&blue', '09/15/17']]\n"
     ]
    }
   ],
   "source": [
    "print(transactions_clean)"
   ]
  },
  {
   "cell_type": "markdown",
   "id": "882fea70",
   "metadata": {},
   "source": [
    "**10.** Create four empty lists. `customers`, `sales`, `thread_sold` and `date`. We are going to collect the individual data points for each transaction in these lists."
   ]
  },
  {
   "cell_type": "code",
   "execution_count": 10,
   "id": "fc26d06a",
   "metadata": {},
   "outputs": [],
   "source": [
    "customers = []\n",
    "sales = []\n",
    "thread_sold = []\n",
    "date = []"
   ]
  },
  {
   "cell_type": "markdown",
   "id": "2b94b61f",
   "metadata": {},
   "source": [
    "**11.** Now, iterate through `transactions_clean` and for each transaction:\n",
    "\n",
    "1. Append the customers name to `customers`.\n",
    "\n",
    "2. Append the amount of the sale to `sales`.\n",
    "\n",
    "3. Append the threads sold to `thread_sold`.\n",
    "\n",
    "4. Append the date to `date`."
   ]
  },
  {
   "cell_type": "code",
   "execution_count": 11,
   "id": "a4e0e775",
   "metadata": {},
   "outputs": [],
   "source": [
    "for items in transactions_clean:\n",
    "  customers.append(items[0])\n",
    "  sales.append(items[1])\n",
    "  thread_sold.append(items[2])\n",
    "  date.append(items[-1])"
   ]
  },
  {
   "cell_type": "markdown",
   "id": "249a8bc2",
   "metadata": {},
   "source": [
    "**12.** Print `customers`, `sales`,`thread_sold` and `date` to make sure each list is what you are expected."
   ]
  },
  {
   "cell_type": "code",
   "execution_count": 12,
   "id": "086b0f52",
   "metadata": {},
   "outputs": [
    {
     "name": "stdout",
     "output_type": "stream",
     "text": [
      "['Edith Mcbride', 'Herbert Tran', 'Paul Clarke', 'Lucille Caldwell', 'Eduardo George', 'Danny Mclaughlin', 'Stacy Vargas', 'Shaun Brock', 'Erick Harper', 'Michelle Howell', 'Carroll Boyd', 'Teresa Carter', 'Jacob Kennedy', 'Craig Chambers', 'Peggy Bell', 'Kenneth Cunningham', 'Marvin Morgan', 'Marjorie Russell', 'Israel Cummings', 'June Doyle', 'Jaime Buchanan', 'Rhonda Farmer', 'Darren Mckenzie', 'Rufus Malone', 'Hubert Miles', 'Joseph Bridges', 'Sergio Murphy', 'Audrey Ferguson', 'Edna Williams', 'Randy Fleming', 'Elisa Hart', 'Ernesto Hunt', 'Shannon Chavez', 'Sammy Cain', 'Steven Reeves', 'Ruben Jones', 'Essie Hansen', 'Rene Hardy', 'Lucy Snyder', 'Dallas Obrien', 'Stacey Payne', 'Tanya Cox', 'Melody Moran', 'Louise Becker', 'Ryan Webster', 'Justin Blake', 'Beverly Baldwin', 'Dale Brady', 'Guadalupe Potter', 'Desiree Butler', 'Sonja Barnett', 'Angelica Garza', 'Jamie Welch', 'Rex Hudson', 'Nadine Gibbs', 'Hannah Pratt', 'Gayle Richards', 'Stanley Holland', 'Anna Dean', 'Terrance Saunders', 'Brandi Zimmerman', 'Guadalupe Freeman', 'Irving Patterson', 'Karl Ross', 'Brandy Cortez', 'Mamie Riley', 'Mike Thornton', 'Jamie Vaughn', 'Noah Day', 'Josephine Keller', 'Tracey Wolfe', 'Ignacio Parks', 'Beatrice Newman', 'Andre Norris', 'Albert Lewis', 'Javier Bailey', 'Everett Lyons', 'Abraham Maxwell', 'Traci Craig', 'Jeffrey Jenkins', 'Merle Wilson', 'Janis Franklin', 'Leonard Guerrero', 'Lana Sanchez', 'Donna Ball', 'Terrell Barber', 'Jody Flores', 'Daryl Herrera', 'Miguel Mcguire', 'Rogelio Gonzalez', 'Lora Hammond', 'Owen Ward', 'Malcolm Morales', 'Eric Mcdaniel', 'Madeline Estrada', 'Leticia Manning', 'Mario Wallace', 'Lewis Glover', 'Gail Phelps', 'Myrtle Morris']\n",
      "['$1.21', '$7.29', '$12.52', '$5.13', '$20.39', '$30.82', '$1.85', '$17.98', '$17.41', '$28.59', '$14.51', '$19.64', '$11.40', '$8.79', '$8.65', '$10.53', '$16.49', '$6.55', '$11.86', '$22.29', '$8.35', '$2.91', '$22.94', '$4.70', '$3.59', '$5.66', '$17.51', '$5.54', '$17.13', '$21.13', '$0.35', '$13.91', '$19.26', '$5.45', '$5.50', '$14.56', '$7.33', '$20.22', '$8.67', '$8.31', '$15.70', '$6.74', '$30.84', '$12.31', '$2.94', '$22.46', '$6.60', '$6.27', '$21.12', '$2.10', '$14.22', '$11.60', '$25.27', '$8.26', '$30.80', '$22.61', '$22.19', '$7.47', '$5.49', '$23.70', '$26.66', '$25.95', '$19.55', '$15.68', '$23.57', '$29.32', '$26.44', '$17.24', '$8.49', '$13.10', '$20.39', '$14.70', '$22.45', '$28.46', '$23.89', '$24.49', '$1.81', '$6.81', '$0.65', '$26.45', '$7.69', '$8.74', '$1.86', '$14.75', '$28.10', '$9.91', '$16.34', '$27.57', '$5.25', '$9.51', '$20.56', '$21.64', '$24.99', '$29.70', '$15.52', '$15.70', '$12.36', '$13.66', '$30.52', '$22.66']\n",
      "['white', 'white&blue', 'white&blue', 'white', 'white&yellow', 'purple', 'purple&yellow', 'purple&yellow', 'blue', 'blue', 'purple&blue', 'white', 'white&red', 'white&blue&red', 'blue', 'green&blue', 'green&blue&red', 'green&blue&red', 'black', 'black&yellow', 'white&black&yellow', 'white&black&yellow', 'green', 'green&yellow', 'green&yellow&blue', 'green&yellow&purple&blue', 'black', 'black&blue', 'black&blue', 'black', 'black&purple', 'black&purple', 'yellow', 'yellow&red', 'yellow', 'yellow&blue', 'yellow&blue&red', 'black', 'black&red', 'black&red', 'white&black&red', 'yellow', 'yellow&black', 'green&yellow&black', 'yellow', 'white&yellow', 'white&yellow&black', 'yellow', 'yellow', 'white', 'white&black', 'white&black', 'white&black&red', 'purple', 'purple&yellow', 'purple&yellow', 'green&purple&yellow', 'red', 'yellow&red', 'green&yellow&red', 'red', 'green&red', 'green&white&red', 'white', 'white&red', 'purple', 'purple', 'green', 'green', 'green', 'red', 'white&red', 'white&purple&red', 'red', 'black&red', 'black&red', 'black&red', 'green', 'green&yellow', 'green&yellow&blue', 'purple', 'purple&black', 'yellow', 'yellow', 'yellow&blue', 'green', 'green', 'white', 'white&blue', 'white&black&blue', 'green', 'green&yellow', 'green&yellow&black', 'green', 'green', 'green&purple', 'green', 'green&white', 'green&white&blue', 'green&white&blue']\n",
      "['09/15/17', '09/15/17', '09/15/17', '09/15/17', '09/15/17', '09/15/17', '09/15/17', '09/15/17', '09/15/17', '09/15/17', '09/15/17', '09/15/17', '09/15/17', '09/15/17', '09/15/17', '09/15/17', '09/15/17', '09/15/17', '09/15/17', '09/15/17', '09/15/17', '09/15/17', '09/15/17', '09/15/17', '09/15/17', '09/15/17', '09/15/17', '09/15/17', '09/15/17', '09/15/17', '09/15/17', '09/15/17', '09/15/17', '09/15/17', '09/15/17', '09/15/17', '09/15/17', '09/15/17', '09/15/17', '09/15/17', '09/15/17', '09/15/17', '09/15/17', '09/15/17', '09/15/17', '09/15/17', '09/15/17', '09/15/17', '09/15/17', '09/15/17', '09/15/17', '09/15/17', '09/15/17', '09/15/17', '09/15/17', '09/15/17', '09/15/17', '09/15/17', '09/15/17', '09/15/17', '09/15/17', '09/15/17', '09/15/17', '09/15/17', '09/15/17', '09/15/17', '09/15/17', '09/15/17', '09/15/17', '09/15/17', '09/15/17', '09/15/17', '09/15/17', '09/15/17', '09/15/17', '09/15/17', '09/15/17', '09/15/17', '09/15/17', '09/15/17', '09/15/17', '09/15/17', '09/15/17', '09/15/17', '09/15/17', '09/15/17', '09/15/17', '09/15/17', '09/15/17', '09/15/17', '09/15/17', '09/15/17', '09/15/17', '09/15/17', '09/15/17', '09/15/17', '09/15/17', '09/15/17', '09/15/17', '09/15/17']\n"
     ]
    }
   ],
   "source": [
    "print(customers)\n",
    "print(sales)\n",
    "print(thread_sold)\n",
    "print(date)"
   ]
  },
  {
   "cell_type": "markdown",
   "id": "d1af9ea9",
   "metadata": {},
   "source": [
    "### **Determine the total value of the days sales.**"
   ]
  },
  {
   "cell_type": "markdown",
   "id": "923e3cc8",
   "metadata": {},
   "source": [
    "**13.** Now we want to know how much Thread Shed made in a day.\n",
    "\n",
    "First, define a variable called `total_sales` and set it equal to `0`."
   ]
  },
  {
   "cell_type": "code",
   "execution_count": 13,
   "id": "58d58510",
   "metadata": {},
   "outputs": [],
   "source": [
    "total_sales = 0"
   ]
  },
  {
   "cell_type": "markdown",
   "id": "eec24ab2",
   "metadata": {},
   "source": [
    "**14.** Now, consider the list `sales`. It is a list of strings that we want to sum. In order for us to sum these values, we will have to remove the `$`, and set them equal to floats.\n",
    "\n",
    "Iterate through `sales` and for each item, strip off the `$`, set it equal to a float, and add it to `total_sales`"
   ]
  },
  {
   "cell_type": "code",
   "execution_count": 14,
   "id": "2544dd60",
   "metadata": {},
   "outputs": [],
   "source": [
    "for sale_num in sales:\n",
    "  num = float(sale_num.strip(\"$\"))\n",
    "  total_sales += num"
   ]
  },
  {
   "cell_type": "markdown",
   "id": "ad53732b",
   "metadata": {},
   "source": [
    "**15.** Print `total_sales`.\n",
    "\n",
    "How much did we make today?"
   ]
  },
  {
   "cell_type": "code",
   "execution_count": 15,
   "id": "96410307",
   "metadata": {},
   "outputs": [
    {
     "name": "stdout",
     "output_type": "stream",
     "text": [
      "1498.7400000000005\n"
     ]
    }
   ],
   "source": [
    "print(total_sales)"
   ]
  },
  {
   "cell_type": "markdown",
   "id": "cafa5df4",
   "metadata": {},
   "source": [
    "### **How much thread of any specific color was sold?**"
   ]
  },
  {
   "cell_type": "markdown",
   "id": "f315eea4",
   "metadata": {},
   "source": [
    "**16.** Finally, we want to determine how many of each color thread we sold today. Let’s start with a single color, and then we’ll generalize it.\n",
    "\n",
    "First, print out `thread_sold` and inspect it."
   ]
  },
  {
   "cell_type": "code",
   "execution_count": 16,
   "id": "9a6dd79b",
   "metadata": {},
   "outputs": [
    {
     "name": "stdout",
     "output_type": "stream",
     "text": [
      "['white', 'white&blue', 'white&blue', 'white', 'white&yellow', 'purple', 'purple&yellow', 'purple&yellow', 'blue', 'blue', 'purple&blue', 'white', 'white&red', 'white&blue&red', 'blue', 'green&blue', 'green&blue&red', 'green&blue&red', 'black', 'black&yellow', 'white&black&yellow', 'white&black&yellow', 'green', 'green&yellow', 'green&yellow&blue', 'green&yellow&purple&blue', 'black', 'black&blue', 'black&blue', 'black', 'black&purple', 'black&purple', 'yellow', 'yellow&red', 'yellow', 'yellow&blue', 'yellow&blue&red', 'black', 'black&red', 'black&red', 'white&black&red', 'yellow', 'yellow&black', 'green&yellow&black', 'yellow', 'white&yellow', 'white&yellow&black', 'yellow', 'yellow', 'white', 'white&black', 'white&black', 'white&black&red', 'purple', 'purple&yellow', 'purple&yellow', 'green&purple&yellow', 'red', 'yellow&red', 'green&yellow&red', 'red', 'green&red', 'green&white&red', 'white', 'white&red', 'purple', 'purple', 'green', 'green', 'green', 'red', 'white&red', 'white&purple&red', 'red', 'black&red', 'black&red', 'black&red', 'green', 'green&yellow', 'green&yellow&blue', 'purple', 'purple&black', 'yellow', 'yellow', 'yellow&blue', 'green', 'green', 'white', 'white&blue', 'white&black&blue', 'green', 'green&yellow', 'green&yellow&black', 'green', 'green', 'green&purple', 'green', 'green&white', 'green&white&blue', 'green&white&blue']\n"
     ]
    }
   ],
   "source": [
    "print(thread_sold)"
   ]
  },
  {
   "cell_type": "markdown",
   "id": "580a71bf",
   "metadata": {},
   "source": [
    "**17.** We see that `thread_sold` is a list of strings, some are single colors and some are multiple colors separated by the & character.\n",
    "\n",
    "The end product we want here is a list that contains an item for each color thread sold, so no strings that have multiple colors in them.\n",
    "\n",
    "First, define an empty list `thread_sold_split`."
   ]
  },
  {
   "cell_type": "code",
   "execution_count": 17,
   "id": "931b7915",
   "metadata": {},
   "outputs": [],
   "source": [
    "thread_sold_split = []"
   ]
  },
  {
   "cell_type": "markdown",
   "id": "44e41af3",
   "metadata": {},
   "source": [
    "**18.** Next, iterate through thread_sold. For each item, check if it is a single color or multiple colors. If it is a single color, append that color to `thread_sold_split`.\n",
    "\n",
    "If it is multiple colors, first split the string around the & character and then add each color individually to `thread_sold_split`."
   ]
  },
  {
   "cell_type": "code",
   "execution_count": 18,
   "id": "e5fd53f5",
   "metadata": {},
   "outputs": [],
   "source": [
    "for colors in thread_sold:\n",
    "  if \"&\" not in colors:\n",
    "    thread_sold_split.append(colors)\n",
    "  elif \"&\" in colors:\n",
    "    color_split = colors.split(\"&\")\n",
    "    for cor in color_split:\n",
    "      thread_sold_split.append(cor)"
   ]
  },
  {
   "cell_type": "markdown",
   "id": "8afbdebb",
   "metadata": {},
   "source": [
    "**19.** Great, now we have a list `thread_sold_split` that contains an entry with the color of every thread sold today.\n",
    "\n",
    "Define a function called `color_count` that takes one argument, `color`. The function should iterate through `thread_sold_split` and count the number of times the item is equal to argument, `color`. Then, it should return this count."
   ]
  },
  {
   "cell_type": "code",
   "execution_count": 19,
   "id": "1006ef08",
   "metadata": {},
   "outputs": [],
   "source": [
    "def color_count(color):\n",
    "  return thread_sold_split.count(str(color))"
   ]
  },
  {
   "cell_type": "markdown",
   "id": "5fd85492",
   "metadata": {},
   "source": [
    "**20.** Test your new function by running `color_count('white')`.\n",
    "\n",
    "Your function should return 28."
   ]
  },
  {
   "cell_type": "code",
   "execution_count": 20,
   "id": "7f67b8ef",
   "metadata": {},
   "outputs": [
    {
     "name": "stdout",
     "output_type": "stream",
     "text": [
      "28\n"
     ]
    }
   ],
   "source": [
    "print(color_count('white'))"
   ]
  },
  {
   "cell_type": "markdown",
   "id": "b1b6278a",
   "metadata": {},
   "source": [
    "**21.** Define a list called `colors` that stores all of the colored threads that Thread Shed offers:\n",
    "\n",
    "- colors = ['red', 'yellow', 'green', 'white', 'black', 'blue', 'purple']"
   ]
  },
  {
   "cell_type": "code",
   "execution_count": 21,
   "id": "fcb81bd7",
   "metadata": {},
   "outputs": [],
   "source": [
    "colors = ['red', 'yellow', 'green', 'white', 'black', 'blue', 'purple']"
   ]
  },
  {
   "cell_type": "markdown",
   "id": "e3be2b1d",
   "metadata": {},
   "source": [
    "**22.** Now, using the string method `.format()` and the function `color_count()`, iterate through the list `colors` and print a sentence that says how many threads of each color were sold today."
   ]
  },
  {
   "cell_type": "code",
   "execution_count": 22,
   "id": "9a0ebeb8",
   "metadata": {},
   "outputs": [
    {
     "name": "stdout",
     "output_type": "stream",
     "text": [
      "The amount of thread of this color red, was 24.\n",
      "The amount of thread of this color yellow, was 34.\n",
      "The amount of thread of this color green, was 30.\n",
      "The amount of thread of this color white, was 28.\n",
      "The amount of thread of this color black, was 26.\n",
      "The amount of thread of this color blue, was 22.\n",
      "The amount of thread of this color purple, was 17.\n"
     ]
    }
   ],
   "source": [
    "for co in colors:\n",
    "  print(\"The amount of thread of this color {}, was {}.\".format(co, color_count(co)))"
   ]
  }
 ],
 "metadata": {
  "kernelspec": {
   "display_name": "Python (learn_python)",
   "language": "python",
   "name": "learn_python"
  },
  "language_info": {
   "codemirror_mode": {
    "name": "ipython",
    "version": 3
   },
   "file_extension": ".py",
   "mimetype": "text/x-python",
   "name": "python",
   "nbconvert_exporter": "python",
   "pygments_lexer": "ipython3",
   "version": "3.13.3"
  }
 },
 "nbformat": 4,
 "nbformat_minor": 5
}

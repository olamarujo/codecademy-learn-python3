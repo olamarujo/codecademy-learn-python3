{
 "cells": [
  {
   "cell_type": "markdown",
   "id": "bacc7724",
   "metadata": {},
   "source": [
    "## **Time Traveler's Toolkit**\n",
    "In this project, you’ll create a Python script to simulate the experience of time travel using various Python modules. You’ll start by building a custom module, then work with dates and times, perform precise calculations, implement random selection features, and finally, generate a personalized time travel message."
   ]
  },
  {
   "cell_type": "markdown",
   "id": "4d7423cd",
   "metadata": {},
   "source": [
    "### **Create the Custom Module**"
   ]
  },
  {
   "cell_type": "markdown",
   "id": "61e02243",
   "metadata": {},
   "source": [
    "**1.** Start by creating a new file called **custom_module.py**. This file will contain a custom function that you’ll use later in the project."
   ]
  },
  {
   "cell_type": "markdown",
   "id": "acca353d",
   "metadata": {},
   "source": [
    "**2.** Within c**ustom_module.py**, define a function named `generate_time_travel_message()`. This function should accept three parameters: `year`, `destination`, and `cost`.\n",
    "\n",
    "The function should return a formatted string that incorporates the provided `year`, `destination`, and `cost` to create a message about the time travel experience."
   ]
  },
  {
   "cell_type": "code",
   "execution_count": 1,
   "id": "4b09e037",
   "metadata": {},
   "outputs": [],
   "source": [
    "def generate_time_travel_message(date, destination, cost):\n",
    "  greetings = \"I traveled to \" + destination + \" in the date \" + str(date) + \" and only costed me about \" + str(cost) + \" trillion dolars from Zimbabue.\"\n",
    "  return greetings"
   ]
  },
  {
   "cell_type": "markdown",
   "id": "33535ad7",
   "metadata": {},
   "source": [
    "### **Create the Main Script**"
   ]
  },
  {
   "cell_type": "markdown",
   "id": "a1e910e2",
   "metadata": {},
   "source": [
    "**3.** Create a new Python file named **time_travelers_toolkit.py.** This script will serve as the main program where you will combine all the elements of the project."
   ]
  },
  {
   "cell_type": "markdown",
   "id": "e5c22349",
   "metadata": {
    "vscode": {
     "languageId": "plaintext"
    }
   },
   "source": [
    "**4.** At the beginning of your script, import the necessary modules. This includes importing the `datetime` module with an alias of `dt`, `Decimal` from the `decimal` module, and the `randint` and `choice` functions from the `random` module. Also, import the **custom_module.py** you created earlier, making sure it is in the same directory as **time_travelers_toolkit.py.**"
   ]
  },
  {
   "cell_type": "code",
   "execution_count": 2,
   "id": "70670a8f",
   "metadata": {},
   "outputs": [],
   "source": [
    "import datetime as dt\n",
    "from decimal import Decimal\n",
    "from random import randint, choice\n",
    "from custom_module import generate_time_travel_message"
   ]
  },
  {
   "cell_type": "markdown",
   "id": "230f95b4",
   "metadata": {},
   "source": [
    "### **Get Today's Date**"
   ]
  },
  {
   "cell_type": "markdown",
   "id": "81c4de0e",
   "metadata": {},
   "source": [
    "**5.** Use the `datetime` module to retrieve the current date and time. You’ll need to obtain both the date and the exact time at the moment the script is run."
   ]
  },
  {
   "cell_type": "code",
   "execution_count": 3,
   "id": "fd65dd84",
   "metadata": {},
   "outputs": [],
   "source": [
    "current_day = dt.date.today()\n",
    "current_time = dt.datetime.now().time()"
   ]
  },
  {
   "cell_type": "markdown",
   "id": "b7acb1f7",
   "metadata": {},
   "source": [
    "**6.** Once you’ve retrieved the current date and time, print them out to the console in a clear and readable format. This will give you a reference point for when the time travel message is generated."
   ]
  },
  {
   "cell_type": "code",
   "execution_count": 4,
   "id": "47ead0ec",
   "metadata": {},
   "outputs": [
    {
     "name": "stdout",
     "output_type": "stream",
     "text": [
      "2025-10-10\n",
      "11:12:34.980974\n"
     ]
    }
   ],
   "source": [
    "print(current_day)\n",
    "print(current_time)"
   ]
  },
  {
   "cell_type": "markdown",
   "id": "ae5a8ca4",
   "metadata": {},
   "source": [
    "**7.** Use the `randint()` function to generate a random year within a specified range. This random year will be the target year for the time travel."
   ]
  },
  {
   "cell_type": "code",
   "execution_count": 5,
   "id": "2d81fe42",
   "metadata": {},
   "outputs": [],
   "source": [
    "# year\n",
    "random_year = randint(1,2024)\n",
    "# month\n",
    "random_month = randint(1,12)\n",
    "# day\n",
    "if random_month == 2:\n",
    "  random_day = randint(1,28)\n",
    "elif random_year % 4 == 0 and random_month == 2:\n",
    "  random_day = randint(1,29)\n",
    "elif random_month in [1, 3, 5, 7, 8, 10,12]:\n",
    "  random_day = randint(1,31)\n",
    "else:\n",
    "  random_day = randint(1,30)\n",
    "\n",
    "# format date\n",
    "date = dt.date(random_year, random_month, random_day)"
   ]
  },
  {
   "cell_type": "markdown",
   "id": "068b5e47",
   "metadata": {},
   "source": [
    "**8.** To calculate the cost of time travel, use the `decimal` module, which provides a way to perform precise financial calculations. First, create a base cost as a `Decimal` object. Then, determine a cost multiplier based on the difference between the current year and the target year. Combine these values to calculate the final cost."
   ]
  },
  {
   "cell_type": "code",
   "execution_count": 6,
   "id": "88e1fbde",
   "metadata": {},
   "outputs": [],
   "source": [
    "base_cost = Decimal(\"1000.00\")\n",
    "cost_multiplier = abs(current_day.year - random_year) * Decimal('0.01')"
   ]
  },
  {
   "cell_type": "markdown",
   "id": "bfea16a0",
   "metadata": {},
   "source": [
    "**9.** Ensure that the final cost is formatted to two decimal places before it’s used in the time travel message."
   ]
  },
  {
   "cell_type": "code",
   "execution_count": 7,
   "id": "30a7993a",
   "metadata": {},
   "outputs": [],
   "source": [
    "diff_days = abs((current_day - date).days)\n",
    "cost = base_cost * cost_multiplier * diff_days\n",
    "cost = cost.quantize(Decimal('0.01'))"
   ]
  },
  {
   "cell_type": "markdown",
   "id": "d07bdf7f",
   "metadata": {},
   "source": [
    "**10.**\n",
    "Create a list of possible destinations for the time travel. Then, use the `choice()` function to randomly select one destination from the list."
   ]
  },
  {
   "cell_type": "code",
   "execution_count": 8,
   "id": "1c0432ae",
   "metadata": {},
   "outputs": [],
   "source": [
    "possible_destinations = [\"Great Wall of China\", \"Colosseum\", \"Stonehenge\", \"Angkor Wat\", \"Machu Picchu\", \"Chinchén Itzá\", \"Taj Mahal\", \"Giza Necropolis\", \"Petra\"]\n",
    "destination = choice(possible_destinations)"
   ]
  },
  {
   "cell_type": "markdown",
   "id": "c9eefb21",
   "metadata": {},
   "source": [
    "### **Using the Custom Module**"
   ]
  },
  {
   "cell_type": "markdown",
   "id": "0f431b2c",
   "metadata": {},
   "source": [
    "**11.** After generating a random year, selecting a destination, and calculating the cost, use these values as arguments for the `generate_time_travel_message()` function you imported from **custom_module.py **earlier. Print the generated message to describe the user’s time travel experience, and congratulations on a project completed!"
   ]
  },
  {
   "cell_type": "code",
   "execution_count": 9,
   "id": "dc5c411d",
   "metadata": {},
   "outputs": [
    {
     "name": "stdout",
     "output_type": "stream",
     "text": [
      "I traveled to Petra in the date 1662-01-02 and only costed me about 482296320.00 trillion dolars from Zimbabue.\n"
     ]
    }
   ],
   "source": [
    "print(generate_time_travel_message(date, destination, cost))"
   ]
  }
 ],
 "metadata": {
  "kernelspec": {
   "display_name": "Python (learn_python)",
   "language": "python",
   "name": "learn_python"
  },
  "language_info": {
   "codemirror_mode": {
    "name": "ipython",
    "version": 3
   },
   "file_extension": ".py",
   "mimetype": "text/x-python",
   "name": "python",
   "nbconvert_exporter": "python",
   "pygments_lexer": "ipython3",
   "version": "3.13.3"
  }
 },
 "nbformat": 4,
 "nbformat_minor": 5
}

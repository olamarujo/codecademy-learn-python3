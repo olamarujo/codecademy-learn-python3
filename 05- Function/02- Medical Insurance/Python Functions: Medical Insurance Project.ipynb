{
 "cells": [
  {
   "cell_type": "markdown",
   "id": "2c38a5d6",
   "metadata": {},
   "source": [
    "## **Python Functions: Medical Insurance Project**\n",
    "You are curious about how certain factors such as age, sex, BMI, number of children, and smoking status contribute to medical insurance costs.\n",
    "\n",
    "**Note**: while insurance companies do use BMI in their calculations, and that is reflected in this project, BMI is not necessarily an accurate predictor of health. As data scientists, we should always be skeptical of quantitative measures like BMI that reduce complex phenomena to a single number.\n",
    "\n",
    "You will apply your new knowledge of Python functions to write a useful function that calculates medical insurance costs.\n",
    "\n",
    "Let’s get started!"
   ]
  },
  {
   "cell_type": "code",
   "execution_count": 1,
   "id": "7a36417b",
   "metadata": {},
   "outputs": [
    {
     "name": "stdout",
     "output_type": "stream",
     "text": [
      "The estimated insurance cost for Maria is 5469.0 dollars.\n",
      "The estimated insurance cost for Omar is 28336.0 dollars.\n"
     ]
    }
   ],
   "source": [
    "# Initial variables for Maria \n",
    "age = 28\n",
    "sex = 0  \n",
    "bmi = 26.2\n",
    "num_of_children = 3\n",
    "smoker = 0  \n",
    "\n",
    "# Estimate Maria's insurance cost\n",
    "insurance_cost = 250*age - 128*sex + 370*bmi + 425*num_of_children + 24000*smoker - 12500\n",
    "\n",
    "print(\"The estimated insurance cost for Maria is \" + str(insurance_cost) + \" dollars.\")\n",
    "\n",
    "# Initial variables for Omar\n",
    "age = 35\n",
    "sex = 1 \n",
    "bmi = 22.2\n",
    "num_of_children = 0\n",
    "smoker = 1  \n",
    "\n",
    "# Estimate Omar's insurance cost \n",
    "insurance_cost = 250*age - 128*sex + 370*bmi + 425*num_of_children + 24000*smoker - 12500\n",
    "\n",
    "print(\"The estimated insurance cost for Omar is \" + str(insurance_cost) + \" dollars.\")"
   ]
  },
  {
   "cell_type": "markdown",
   "id": "3d91e992",
   "metadata": {},
   "source": [
    "### **Creating a function**"
   ]
  },
  {
   "cell_type": "markdown",
   "id": "91a6005a",
   "metadata": {},
   "source": [
    "*1.* First, take a look at the code in *script.py.*\n",
    "\n",
    "In this code, we estimate the medical insurance costs for two individuals, Maria and Omar, based on five variables:\n",
    "\n",
    "- `age`: age of the individual in years\n",
    "- `sex`: 0 for female, 1 for male\n",
    "- `bmi`: individual’s body mass index\n",
    "- `num_of_children`: number of children the individual has\n",
    "- `smoker`: 0 for a non-smoker, 1 for a smoker\n",
    "These variables are used in the following formula to estimate an individual’s insurance cost (in USD):\n",
    "\n",
    "$$\n",
    "insurance\\_cost = 250 \\times age - 128 \\times sex + 370 \\times bmi + 425 \\times num\\_of\\_children + 24000 \\times smoker - 12500\n",
    "$$"
   ]
  },
  {
   "cell_type": "markdown",
   "id": "c12a7018",
   "metadata": {},
   "source": [
    "**2.** The code used to estimate insurance costs for Maria and Omar looks quite similar – in both cases we calculate the insurance cost using the same formula and then print the output.\n",
    "\n",
    "This code is a great candidate for a function because it involves repeating almost identical commands in multiple places.\n",
    "\n",
    "Let’s start by defining a function called `calculate_insurance_cost()` on line 2. For now, your function should not have any parameters or output."
   ]
  },
  {
   "cell_type": "code",
   "execution_count": 2,
   "id": "0185e3a0",
   "metadata": {},
   "outputs": [],
   "source": [
    "def calculate_insurance_cost():\n",
    "    return"
   ]
  },
  {
   "cell_type": "markdown",
   "id": "d529a091",
   "metadata": {},
   "source": [
    "**3.** Let’s outline the behavior we want our function to have. Inside of `calculate_insurance_cost()`, do the following:\n",
    "\n",
    "- Create a variable called `estimated_cost`. For now, set this variable equal to a value of `1000`. You’ll add the full formula in the next step.\n",
    "- Add a print statement that prints `estimated_cost`. You should output a message similar to: `\"The estimated insurance cost for this person is xxx dollars.\"`\n",
    "- Return `estimated_cost`"
   ]
  },
  {
   "cell_type": "code",
   "execution_count": 3,
   "id": "02b330c2",
   "metadata": {},
   "outputs": [],
   "source": [
    "def calculate_insurance_cost():\n",
    "    estimated_cost = 1000\n",
    "    print(f\"The estimated insurance cost for this person is {estimated_cost} dollars.\")\n",
    "    return estimated_cost"
   ]
  },
  {
   "cell_type": "markdown",
   "id": "3a341921",
   "metadata": {},
   "source": [
    "### **Adding parameters to a function**"
   ]
  },
  {
   "cell_type": "markdown",
   "id": "240a488b",
   "metadata": {},
   "source": [
    "**4.**\n",
    "Nice job – you’ve created a simple Python function that we’ll use to estimate medical insurance costs.\n",
    "\n",
    "However, the function currently returns a value of `1000`. We want it to return our insurance cost formula instead.\n",
    "\n",
    "Modify the function definition so that it contains five parameters:\n",
    "\n",
    "- `age`\n",
    "- `sex`\n",
    "- `bmi`\n",
    "- `num_of_children`\n",
    "- `smoker`\n",
    "Take a look at the hint if you need a reminder on how to add parameters to a function definition."
   ]
  },
  {
   "cell_type": "code",
   "execution_count": 4,
   "id": "908be0e6",
   "metadata": {},
   "outputs": [],
   "source": [
    "def calculate_insurance_cost(age, sex, bmi, num_of_children, smoker):\n",
    "    estimated_cost = 1000\n",
    "    print(f\"The estimated insurance cost for this person is {estimated_cost} dollars.\")\n",
    "    return estimated_cost"
   ]
  },
  {
   "cell_type": "markdown",
   "id": "7c42935e",
   "metadata": {},
   "source": [
    "**5.** Now that we have set up the function to take inputs for each of the values needed in the insurance formula, we can make use of them inside of our function.\n",
    "\n",
    "In `calculate_insurance_cost()`, change the value of `estimated_cost` from `1000` to our formula for insurance cost.\n",
    "\n",
    "Remember that the formula for insurance cost is:\n",
    "\n",
    "```python\n",
    "250*age - 128*sex + 370*bmi + 425*num_of_children + 24000*smoker - 12500\n",
    "```"
   ]
  },
  {
   "cell_type": "code",
   "execution_count": 5,
   "id": "4f5f0592",
   "metadata": {},
   "outputs": [],
   "source": [
    "def calculate_insurance_cost(age, sex, bmi, num_of_children, smoker):\n",
    "    estimated_cost = 250*age - 128*sex + 370*bmi + 425*num_of_children + 24000*smoker - 12500\n",
    "    print(f\"The estimated insurance cost for this person is {estimated_cost} dollars.\")\n",
    "    return estimated_cost"
   ]
  },
  {
   "cell_type": "markdown",
   "id": "b89ad65c",
   "metadata": {},
   "source": [
    "### **Calling a function**"
   ]
  },
  {
   "cell_type": "markdown",
   "id": "8a6c913f",
   "metadata": {},
   "source": [
    "**6.** The function is now properly set up to calculate an individual’s medical insurance costs based on the five variables passed into it. Let’s test this out!\n",
    "\n",
    "Go to the section of code that estimates Maria’s insurance cost.\n",
    "\n",
    "Create `maria_insurance_cost` and set it equal to `calculate_insurance_cost()` with the appropriate values for Maria as arguments."
   ]
  },
  {
   "cell_type": "code",
   "execution_count": 6,
   "id": "25e75856",
   "metadata": {},
   "outputs": [
    {
     "name": "stdout",
     "output_type": "stream",
     "text": [
      "The estimated insurance cost for this person is 5469.0 dollars.\n"
     ]
    }
   ],
   "source": [
    "maria_insurance_cost = calculate_insurance_cost(28,0,26.2,3,0)"
   ]
  },
  {
   "cell_type": "markdown",
   "id": "d7b58720",
   "metadata": {},
   "source": [
    "**7.** Repeat steps 6 for Omar:\n",
    "\n",
    "Create omar_insurance_cost and set it equal to the calculate_insurance_cost() function, passing in the appropriate values as arguments.\n",
    "\n",
    "Notice how much cleaner our code is now! By utilizing a Python function, we were able to condense many lines of code into just a few."
   ]
  },
  {
   "cell_type": "code",
   "execution_count": 7,
   "id": "1d0e357a",
   "metadata": {},
   "outputs": [
    {
     "name": "stdout",
     "output_type": "stream",
     "text": [
      "The estimated insurance cost for this person is 28336.0 dollars.\n"
     ]
    }
   ],
   "source": [
    "omar_insurance_cost = calculate_insurance_cost(35,1,22.2,0,1)"
   ]
  },
  {
   "cell_type": "markdown",
   "id": "ddb3b01c",
   "metadata": {},
   "source": [
    "### **Adding new parameters**"
   ]
  },
  {
   "cell_type": "markdown",
   "id": "e4df9cad",
   "metadata": {},
   "source": [
    "**8.**\n",
    "Next, modify the print statement in the function so that it includes the new name parameter, replacing \"`this person\"` with the actual name of the person."
   ]
  },
  {
   "cell_type": "code",
   "execution_count": 10,
   "id": "a16f642b",
   "metadata": {},
   "outputs": [],
   "source": [
    "def calculate_insurance_cost(age, sex, bmi, num_of_children, smoker, name):\n",
    "    estimated_cost = 250*age - 128*sex + 370*bmi + 425*num_of_children + 24000*smoker - 12500\n",
    "    print(f\"The estimated insurance cost for {name} is {estimated_cost} dollars.\")\n",
    "    return estimated_cost"
   ]
  },
  {
   "cell_type": "markdown",
   "id": "cbaacc8a",
   "metadata": {},
   "source": [
    "**9.**\n",
    "We must also update our function calls, passing in the name variable as an argument.\n",
    "\n",
    "Update the function call for maria_insurance_cost, passing in name = \"Maria\" as an argument.\n",
    "\n",
    "Do the same for Omar, passing in name = \"Omar\".\n",
    "\n",
    "Now you’ll see that our function is able to write a more personalized message specifying the name of the individual it is estimating insurance costs for. Pretty neat, right?"
   ]
  },
  {
   "cell_type": "code",
   "execution_count": 11,
   "id": "ca1065c4",
   "metadata": {},
   "outputs": [
    {
     "name": "stdout",
     "output_type": "stream",
     "text": [
      "The estimated insurance cost for Maria is 5469.0 dollars.\n",
      "The estimated insurance cost for Omar is 28336.0 dollars.\n"
     ]
    }
   ],
   "source": [
    "maria_insurance_cost = calculate_insurance_cost(28,0,26.2,3,0, 'Maria')\n",
    "omar_insurance_cost = calculate_insurance_cost(35,1,22.2,0,1, 'Omar')"
   ]
  },
  {
   "cell_type": "markdown",
   "id": "f27025d3",
   "metadata": {},
   "source": [
    "**10.**\n",
    "In this example, we calculated the insurance costs for two individuals, but with our new code we can easily extend this to thousands or even millions of individuals.\n",
    "\n",
    "To illustrate, estimate your own insurance cost.\n",
    "\n",
    "At the bottom of your code, create a new insurance_cost variable for yourself, similar to how we did it for Maria and Omar.\n",
    "\n",
    "Set the variable equal to a function call to `calculate_insurance_cost()`, passing in your own name, age, sex, bmi, number of children, and smoker status."
   ]
  },
  {
   "cell_type": "code",
   "execution_count": 12,
   "id": "f88723a1",
   "metadata": {},
   "outputs": [
    {
     "name": "stdout",
     "output_type": "stream",
     "text": [
      "The estimated insurance cost for Rodrigo is 3132 dollars.\n"
     ]
    }
   ],
   "source": [
    "rodrigo_insurance_cost = calculate_insurance_cost(29,1,23,0,0, 'Rodrigo')"
   ]
  },
  {
   "cell_type": "markdown",
   "id": "2755177e",
   "metadata": {},
   "source": [
    "**11.** Congratulations! In this project, you created a useful function that calculates medical insurance costs based on the values passed into the function. Great job!\n",
    "\n",
    "As a data scientist, you should always strive to make your code more clean and modular. Using functions to avoid repetitive code is a great way to do just that.\n",
    "\n",
    "Now it’s your turn! If you’d like extra practice with Python functions, here are some suggestions to get you started:\n",
    "\n",
    "- Modify the `calculate_insurance_cost()` function so that it returns two values – the output message and the estimated cost.\n",
    "\n",
    "- Create a second function to calculate the difference between the insurance costs (given as inputs) of any two individuals and print a statement saying: `\"The difference in insurance cost is xxx dollars.\"`\n",
    "Happy coding!"
   ]
  },
  {
   "cell_type": "code",
   "execution_count": 13,
   "id": "e0c99542",
   "metadata": {},
   "outputs": [],
   "source": [
    "def calculate_insurance_cost(age, sex, bmi, num_of_children, smoker, name):\n",
    "    estimated_cost = 250*age - 128*sex + 370*bmi + 425*num_of_children + 24000*smoker - 12500\n",
    "    message = f\"The estimated insurance cost for {name} is {estimated_cost} dollars.\"\n",
    "    return estimated_cost, message"
   ]
  },
  {
   "cell_type": "code",
   "execution_count": 14,
   "id": "c8183552",
   "metadata": {},
   "outputs": [],
   "source": [
    "rodrigo_insurance_cost, message_rodrigo_insurance_cost = calculate_insurance_cost(29,1,23,0,0, 'Rodrigo')"
   ]
  },
  {
   "cell_type": "code",
   "execution_count": 15,
   "id": "e8245492",
   "metadata": {},
   "outputs": [],
   "source": [
    "def calculate_difference_cost(ages, sexes, bmis, num_of_children, smoker, names):\n",
    "\n",
    "    estimated_cost_1 = 250*ages[0] - 128*sexes[0] + 370*bmis[0] + 425*num_of_children[0] + 24000*smoker[0] - 12500\n",
    "    estimated_cost_2 = 250*ages[1] - 128*sexes[1] + 370*bmis[1] + 425*num_of_children[1] + 24000*smoker[1] - 12500\n",
    "    difference = estimated_cost_1 - estimated_cost_2\n",
    "    print(f'The difference in insurance cost between {names[0]} and {names[1]} is {difference} dollars.')\n",
    "    return difference"
   ]
  },
  {
   "cell_type": "code",
   "execution_count": 16,
   "id": "4bcb81b3",
   "metadata": {},
   "outputs": [
    {
     "name": "stdout",
     "output_type": "stream",
     "text": [
      "The difference in insurance cost between Maria and Omar is -23292.0 dollars.\n"
     ]
    }
   ],
   "source": [
    "maria_omar_difference = calculate_difference_cost([28,35], [0,1], [26.2,22.2], [3,1], [0,1], ['Maria', 'Omar'])"
   ]
  }
 ],
 "metadata": {
  "kernelspec": {
   "display_name": "Python (learn_python)",
   "language": "python",
   "name": "learn_python"
  },
  "language_info": {
   "codemirror_mode": {
    "name": "ipython",
    "version": 3
   },
   "file_extension": ".py",
   "mimetype": "text/x-python",
   "name": "python",
   "nbconvert_exporter": "python",
   "pygments_lexer": "ipython3",
   "version": "3.13.3"
  }
 },
 "nbformat": 4,
 "nbformat_minor": 5
}

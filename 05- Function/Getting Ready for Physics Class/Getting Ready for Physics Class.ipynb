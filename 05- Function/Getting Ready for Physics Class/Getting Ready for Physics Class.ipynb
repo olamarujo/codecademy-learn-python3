{
 "cells": [
  {
   "cell_type": "markdown",
   "id": "e23900c9",
   "metadata": {},
   "source": [
    "## **Getting Ready for Physics Class**\n",
    "\n",
    "You are a physics teacher preparing for the upcoming semester. You want to provide your students with some functions that will help them calculate some fundamental physical properties.\n",
    "\n",
    "If you get stuck during this project or would like to see an experienced developer work through it, click “[**Get Unstuck**](https://www.youtube.com/watch?v=tBG5dCcTjZo)“ to see a **project walkthrough video**."
   ]
  },
  {
   "cell_type": "markdown",
   "id": "0334f1a1",
   "metadata": {},
   "source": [
    "### **Turn up the Temperature**"
   ]
  },
  {
   "cell_type": "markdown",
   "id": "af425c78",
   "metadata": {},
   "source": [
    "**1.** Write a function called `f_to_c` that takes an input `f_temp`, a temperature in Fahrenheit, and converts it to `c_temp`, that temperature in Celsius.\n",
    "\n",
    "It should then return `c_temp`.\n",
    "\n",
    "The equation you should use is:\n",
    "\n",
    "- Temp (C) = (Temp (F) - 32) * 5/9"
   ]
  },
  {
   "cell_type": "code",
   "execution_count": 1,
   "id": "cd2768f2",
   "metadata": {},
   "outputs": [],
   "source": [
    "def f_to_c(f_temp):\n",
    "  c_temp = (f_temp - 32) * 5/9\n",
    "  return c_temp"
   ]
  },
  {
   "cell_type": "markdown",
   "id": "61e8e464",
   "metadata": {},
   "source": [
    "**2.** Let’s test your function with a value of 100 Fahrenheit.\n",
    "\n",
    "Define a variable `f100_in_celsius` and set it equal to the value of `f_to_c` with `100` as an input."
   ]
  },
  {
   "cell_type": "code",
   "execution_count": 2,
   "id": "2dc86b86",
   "metadata": {},
   "outputs": [
    {
     "name": "stdout",
     "output_type": "stream",
     "text": [
      "37.77777777777778\n"
     ]
    }
   ],
   "source": [
    "f100_in_celsius = f_to_c(100)\n",
    "print(f100_in_celsius)"
   ]
  },
  {
   "cell_type": "markdown",
   "id": "880f49fd",
   "metadata": {},
   "source": [
    "**3.** Write a function called `c_to_f` that takes an input `c_temp`, a temperature in Celsius, and converts it to `f_temp`, that temperature in Fahrenheit.\n",
    "\n",
    "It should then return `f_temp`.\n",
    "\n",
    "The equation you should use is:\n",
    "\n",
    "- Temp (F) = Temp (C) * (9/5) + 32"
   ]
  },
  {
   "cell_type": "code",
   "execution_count": 3,
   "id": "f52c0579",
   "metadata": {},
   "outputs": [],
   "source": [
    "def c_to_f(c_temp):\n",
    "  f_temp = (c_temp * 9/5 + 32)\n",
    "  return f_temp"
   ]
  },
  {
   "cell_type": "markdown",
   "id": "ef84f68c",
   "metadata": {},
   "source": [
    "**4.** Let’s test your function with a value of 0 Celsius.\n",
    "\n",
    "Define a variable `c0_in_fahrenheit` and set it equal to the value of `c_to_f` with `0` as an input."
   ]
  },
  {
   "cell_type": "code",
   "execution_count": 4,
   "id": "9b5c251e",
   "metadata": {},
   "outputs": [
    {
     "name": "stdout",
     "output_type": "stream",
     "text": [
      "32.0\n"
     ]
    }
   ],
   "source": [
    "c0_in_fahrenheit = c_to_f(0)\n",
    "print(c0_in_fahrenheit)"
   ]
  },
  {
   "cell_type": "markdown",
   "id": "ba862cdf",
   "metadata": {},
   "source": [
    "### **Use the Force**"
   ]
  },
  {
   "cell_type": "markdown",
   "id": "eb3e59bb",
   "metadata": {},
   "source": [
    "**5.** Define a function called `get_force` that takes in mass and `acceleration`. It should return `mass` multiplied by `acceleration`."
   ]
  },
  {
   "cell_type": "code",
   "execution_count": 5,
   "id": "ec2072e8",
   "metadata": {},
   "outputs": [],
   "source": [
    "def get_force(mass, acceleration):\n",
    "  force = mass * acceleration\n",
    "  return force"
   ]
  },
  {
   "cell_type": "markdown",
   "id": "ddef75cd",
   "metadata": {},
   "source": [
    "**6.** Test `get_force` by calling it with the variables `train_mass` and `train_acceleration`.\n",
    "\n",
    "Save the result to a variable called `train_force` and print it out.\n",
    "\n",
    "Define `train_mass` and `train_acceleration` as `22680` and `10` respectively."
   ]
  },
  {
   "cell_type": "code",
   "execution_count": 6,
   "id": "03ec6300",
   "metadata": {},
   "outputs": [
    {
     "name": "stdout",
     "output_type": "stream",
     "text": [
      "226800\n"
     ]
    }
   ],
   "source": [
    "train_mass = 22680\n",
    "train_acceleration = 10\n",
    "\n",
    "train_force = get_force(train_mass, train_acceleration)\n",
    "print(train_force)"
   ]
  },
  {
   "cell_type": "markdown",
   "id": "7c37d28c",
   "metadata": {},
   "source": [
    "**7.** Print the string “The GE train supplies X Newtons of force.”, with `X` replaced by `train_force`."
   ]
  },
  {
   "cell_type": "code",
   "execution_count": 7,
   "id": "6da23089",
   "metadata": {},
   "outputs": [
    {
     "name": "stdout",
     "output_type": "stream",
     "text": [
      "The GE train supplies 226800 Newtons of force.\n"
     ]
    }
   ],
   "source": [
    "print(\"The GE train supplies\", train_force, \"Newtons of force.\")"
   ]
  },
  {
   "cell_type": "markdown",
   "id": "4d5b73fb",
   "metadata": {},
   "source": [
    "**8.** Define a function called `get_energy` that takes in `mass` and `c`.\n",
    "\n",
    "`c` is a constant that is usually set to the speed of light, which is roughly 3 x 10^8. Set `c` to have a default value of `3*10**8`.\n",
    "\n",
    "`get_energy` should return `mass` multiplied by `c` squared."
   ]
  },
  {
   "cell_type": "code",
   "execution_count": 8,
   "id": "ddd38897",
   "metadata": {},
   "outputs": [],
   "source": [
    "def get_energy(mass, c = 3*10**8):\n",
    "  energy = mass*c*c\n",
    "  return energy"
   ]
  },
  {
   "cell_type": "markdown",
   "id": "b1cfa19c",
   "metadata": {},
   "source": [
    "**9.** Test get_energy by using it on `bomb_mass`, with the default value of `c`. Save the result to a variable called `bomb_energy`.\n",
    "\n",
    "Define `bomb_mass` as 1."
   ]
  },
  {
   "cell_type": "code",
   "execution_count": 9,
   "id": "d80b5fac",
   "metadata": {},
   "outputs": [
    {
     "name": "stdout",
     "output_type": "stream",
     "text": [
      "90000000000000000\n"
     ]
    }
   ],
   "source": [
    "bomb_mass = 1\n",
    "bomb_energy = get_energy(bomb_mass)\n",
    "print(bomb_energy)"
   ]
  },
  {
   "cell_type": "markdown",
   "id": "d2eaf53b",
   "metadata": {},
   "source": [
    "**10.** Print the string “A 1kg bomb supplies X Joules.”, with `X` replaced by `bomb_energy`."
   ]
  },
  {
   "cell_type": "code",
   "execution_count": 10,
   "id": "fa7300ff",
   "metadata": {},
   "outputs": [
    {
     "name": "stdout",
     "output_type": "stream",
     "text": [
      "A 1kg bomb supplies 90000000000000000 Joules.\n"
     ]
    }
   ],
   "source": [
    "print(\"A 1kg bomb supplies\", bomb_energy, \"Joules.\")"
   ]
  },
  {
   "cell_type": "markdown",
   "id": "e7068418",
   "metadata": {},
   "source": [
    "### **Do the Work**"
   ]
  },
  {
   "cell_type": "markdown",
   "id": "5301001e",
   "metadata": {},
   "source": [
    "**11.** Define a final function called `get_work` that takes in `mass`, `acceleration`, and `distance`.\n",
    "\n",
    "Work is defined as force multiplied by distance. First, get the `force` using `get_force`, then multiply that by `distance`. Return the result."
   ]
  },
  {
   "cell_type": "code",
   "execution_count": 11,
   "id": "f4b92ac9",
   "metadata": {},
   "outputs": [],
   "source": [
    "def get_work(mass, acceleration, distance):\n",
    "  work = get_force(mass, acceleration) * distance\n",
    "  return work"
   ]
  },
  {
   "cell_type": "markdown",
   "id": "0027f090",
   "metadata": {},
   "source": [
    "**12.** Test get_work by using it on `train_mass`, `train_acceleration`, and `train_distance`. Save the result to a variable called `train_work`.\n",
    "\n",
    "Set `train_distance` equal to '100'."
   ]
  },
  {
   "cell_type": "code",
   "execution_count": 12,
   "id": "6774f0c7",
   "metadata": {},
   "outputs": [
    {
     "name": "stdout",
     "output_type": "stream",
     "text": [
      "22680000\n"
     ]
    }
   ],
   "source": [
    "train_distance = 100\n",
    "\n",
    "train_work = get_work(train_mass, train_acceleration,train_distance)\n",
    "print(train_work)"
   ]
  },
  {
   "cell_type": "markdown",
   "id": "71047ec2",
   "metadata": {},
   "source": [
    "**13.** Print the string \"The GE train does X Joules of work over Y meters.\", with `X` replaced with `train_work` and `Y` replaced with `train_distance`."
   ]
  },
  {
   "cell_type": "code",
   "execution_count": 13,
   "id": "28f1b27c",
   "metadata": {},
   "outputs": [
    {
     "name": "stdout",
     "output_type": "stream",
     "text": [
      "The GE train does 22680000 Joules of work over 100 meters.\n"
     ]
    }
   ],
   "source": [
    "print(\"The GE train does\", train_work, \"Joules of work over\", train_distance, \"meters.\")"
   ]
  }
 ],
 "metadata": {
  "kernelspec": {
   "display_name": "Python (learn_python)",
   "language": "python",
   "name": "learn_python"
  },
  "language_info": {
   "codemirror_mode": {
    "name": "ipython",
    "version": 3
   },
   "file_extension": ".py",
   "mimetype": "text/x-python",
   "name": "python",
   "nbconvert_exporter": "python",
   "pygments_lexer": "ipython3",
   "version": "3.13.3"
  }
 },
 "nbformat": 4,
 "nbformat_minor": 5
}

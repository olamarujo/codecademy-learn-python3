{
 "cells": [
  {
   "cell_type": "markdown",
   "id": "597f0ded",
   "metadata": {},
   "source": [
    "## **Scrabble**\n",
    "In this project, you will process some data from a group of friends playing scrabble. You will use dictionaries to organize players, words, and points.\n",
    "\n",
    "There are many ways you can extend this project on your own if you finish and want to get more practice!\n",
    "\n",
    "If you get stuck during this project or would like to see an experienced developer work through it, click “[**Get Unstuck**](https://www.youtube.com/watch?v=WjVJcCBazNI)“ to see a **project walkthrough video**."
   ]
  },
  {
   "cell_type": "markdown",
   "id": "47ffe000",
   "metadata": {},
   "source": [
    "### **Build your Point Dictionary**"
   ]
  },
  {
   "cell_type": "markdown",
   "id": "d8c7773a",
   "metadata": {},
   "source": [
    "TASK 1\n",
    "\n",
    "We have provided you with two lists, `letters` and `points`. We would like to combine these two into a dictionary that would map a letter to its point value.\n",
    "\n",
    "Using a list comprehension and `zip`, create a dictionary called `letter_to_points` that has the elements of `letters` as the keys and the elements of `points` as the values."
   ]
  },
  {
   "cell_type": "code",
   "execution_count": 1,
   "id": "0db6ae71",
   "metadata": {},
   "outputs": [],
   "source": [
    "letters = [\"A\", \"B\", \"C\", \"D\", \"E\", \"F\", \"G\", \"H\", \"I\", \"J\", \"K\", \"L\", \"M\", \"N\", \"O\", \"P\", \"Q\", \"R\", \"S\", \"T\", \"U\", \"V\", \"W\", \"X\", \"Y\", \"Z\"]\n",
    "points = [1, 3, 3, 2, 1, 4, 2, 4, 1, 8, 5, 1, 3, 4, 1, 3, 10, 1, 1, 1, 1, 4, 4, 8, 4, 10]\n",
    "\n",
    "letter_to_points = {letters: points for letters, points in zip(letters,points)}"
   ]
  },
  {
   "cell_type": "markdown",
   "id": "e315d8c6",
   "metadata": {},
   "source": [
    "TASK 2\n",
    "\n",
    "Our `letters` list did not take into account blank tiles. Add an element to the `letter_to_points` dictionary that has a key of `\" \"` and a point value of `0`."
   ]
  },
  {
   "cell_type": "code",
   "execution_count": 2,
   "id": "93866c81",
   "metadata": {},
   "outputs": [],
   "source": [
    "letter_to_points[\" \"] = 0"
   ]
  },
  {
   "cell_type": "markdown",
   "id": "5813acfe",
   "metadata": {},
   "source": [
    "### **Score a Word**"
   ]
  },
  {
   "cell_type": "markdown",
   "id": "159c1551",
   "metadata": {},
   "source": [
    "TASK 3 - 6\n",
    "\n",
    "We want to create a function that will take in a word and return how many points that word is worth.\n",
    "\n",
    "Define a function called `score_word` that takes in a parameter `word`.\n",
    "\n",
    "Inside `score_word`, create a variable called `point_total` and set it to `0`.\n",
    "\n",
    "After defining `point_total`, create a for loop that goes through the letters in `word` and adds the point value of each letter to `point_total`.\n",
    "\n",
    "You should get the point value from the `letter_to_points` dictionary. If the letter you are checking for is not in `letter_to_points`, add 0 to the `point_total`.\n",
    "\n",
    "After the for loop is finished, return `point_total`."
   ]
  },
  {
   "cell_type": "code",
   "execution_count": 3,
   "id": "1b0df858",
   "metadata": {},
   "outputs": [],
   "source": [
    "def score_word(word):\n",
    "  point_total = 0\n",
    "  for w in word:\n",
    "    if w.islower():\n",
    "      w = w.upper()\n",
    "      point_total += letter_to_points.get(w, 0)\n",
    "    else:\n",
    "      point_total += letter_to_points.get(w, 0)\n",
    "  return point_total"
   ]
  },
  {
   "cell_type": "markdown",
   "id": "96039b7c",
   "metadata": {},
   "source": [
    "TASK 7\n",
    "\n",
    "Let’s test this function! Create a variable called `brownie_points` and set it equal to the value returned by the `score_word()` function with an input of `\"BROWNIE\"`."
   ]
  },
  {
   "cell_type": "code",
   "execution_count": 4,
   "id": "b26f285c",
   "metadata": {},
   "outputs": [],
   "source": [
    "brownie_points = score_word('BROWNIE')"
   ]
  },
  {
   "cell_type": "markdown",
   "id": "53785ab9",
   "metadata": {},
   "source": [
    "TASK 8\n",
    "\n",
    "We expect the word BROWNIE to earn 15 points:\n",
    "\n",
    "- (B + R + O + W + N + I + E)\n",
    "\n",
    "- (3 + 1 + 1 + 4 + 4 + 1 + 1) = 15\n",
    "\n",
    "Let’s print out `brownie_points` to make sure we got it right."
   ]
  },
  {
   "cell_type": "code",
   "execution_count": 5,
   "id": "b1914059",
   "metadata": {},
   "outputs": [
    {
     "name": "stdout",
     "output_type": "stream",
     "text": [
      "15\n"
     ]
    }
   ],
   "source": [
    "print(brownie_points)"
   ]
  },
  {
   "cell_type": "markdown",
   "id": "9339e665",
   "metadata": {},
   "source": [
    "### **Score a Game**"
   ]
  },
  {
   "cell_type": "markdown",
   "id": "a5d91d79",
   "metadata": {},
   "source": [
    "TASK 9\n",
    "\n",
    "Create a dictionary called `player_to_words` that maps players to a list of the words they have played. This table represents the data to transcribe into your dictionary:\n",
    "\n",
    "![Player to Words](player_to_words.png)\n"
   ]
  },
  {
   "cell_type": "code",
   "execution_count": 6,
   "id": "e6b53e14",
   "metadata": {},
   "outputs": [],
   "source": [
    "player_to_words = {\"Player1\": [\"BLUE\", \"TENNIS\", \"EXIT\"], \"wordNerd\": [\"EARTH\", \"EYES\", \"MACHINE\"], \"Lexi Con\": [\"ERASER\", \"BELLY\", \"HUSKY\"], \"Prof Reader\": [\"ZAP\", \"COMA\", \"PERIOD\"]}"
   ]
  },
  {
   "cell_type": "markdown",
   "id": "6e433be9",
   "metadata": {},
   "source": [
    "TASK 10\n",
    "\n",
    "Create an empty dictionary called `player_to_points`."
   ]
  },
  {
   "cell_type": "code",
   "execution_count": 7,
   "id": "d4cdeb2d",
   "metadata": {},
   "outputs": [],
   "source": [
    "player_to_points = {}"
   ]
  },
  {
   "cell_type": "markdown",
   "id": "ed4fcbcd",
   "metadata": {},
   "source": [
    "TASK 11 - 15\n",
    "\n",
    "Iterate through the items in `player_to_words`. Call each player `player` and each list of words `words`.\n",
    "\n",
    "Within your loop, create a variable called `player_points` and set it to 0.\n",
    "\n",
    "Within the loop, create another loop that goes through each `word` in `words` and adds the value of `score_word()` with `word` as an input.\n",
    "\n",
    "After the inner loop ends, set the current `player` value to be a key of `player_to_points`, with a value of `player_points`.\n",
    "\n",
    "`player_to_points` should now contain the mapping of players to how many points they’ve scored. Print this out to see the current standings for this game!\n",
    "\n",
    "If you’ve calculated correctly, wordNerd should be winning by 1 point.\n",
    "\n",
    "### **Ideas for Further Practice!**\n",
    "\n",
    "If you want extended practice, try to implement some of these ideas with the Python you’ve learned:\n",
    "\n",
    "- `play_word()` — a function that would take in a player and a word, and add that word to the list of words they’ve played\n",
    "\n",
    "- `update_point_totals()` — turn your nested loops into a function that you can call any time a word is played\n",
    "\n",
    "- make your `letter_to_points` dictionary able to handle lowercase inputs as well"
   ]
  },
  {
   "cell_type": "code",
   "execution_count": 8,
   "id": "8c108ff3",
   "metadata": {},
   "outputs": [
    {
     "name": "stdout",
     "output_type": "stream",
     "text": [
      "{'Player1': 29, 'wordNerd': 32, 'Lexi Con': 31, 'Prof Reader': 31, 'Genesis': 6}\n",
      "{'Player1': 29, 'wordNerd': 32, 'Lexi Con': 31, 'Prof Reader': 31, 'Genesis': 23}\n"
     ]
    }
   ],
   "source": [
    "def play_word(player, word):\n",
    "  if player not in player_to_words:\n",
    "    player_to_words[player] = []\n",
    "  player_to_words[player].append(word)\n",
    "\n",
    "def update_point_totals(player, word):\n",
    "  play_word(player, word)\n",
    "  for player, words in player_to_words.items():\n",
    "    player_points = 0\n",
    "    for word in words:\n",
    "      player_points += score_word(word)\n",
    "    player_to_points.update({player: player_points})\n",
    "  return player_to_points\n",
    "\n",
    "print(update_point_totals(\"Genesis\", \"nao\"))\n",
    "print(update_point_totals(\"Genesis\", \"vai se fuder\"))"
   ]
  }
 ],
 "metadata": {
  "kernelspec": {
   "display_name": "Python (learn_python)",
   "language": "python",
   "name": "learn_python"
  },
  "language_info": {
   "codemirror_mode": {
    "name": "ipython",
    "version": 3
   },
   "file_extension": ".py",
   "mimetype": "text/x-python",
   "name": "python",
   "nbconvert_exporter": "python",
   "pygments_lexer": "ipython3",
   "version": "3.13.3"
  }
 },
 "nbformat": 4,
 "nbformat_minor": 5
}

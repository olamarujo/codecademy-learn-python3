{
 "cells": [
  {
   "cell_type": "markdown",
   "id": "51ff5e33",
   "metadata": {},
   "source": [
    "## **Hacking The Fender**\n",
    "\n",
    "'The Fender', a notorious computer hacker and general villain of the people, has compromised several top-secret passwords including your own. Your mission, should you choose to accept it, is threefold. You must acquire access to 'The Fender'‘s systems, you must update his '\"passwords.csv\"' file to scramble the secret data. The last thing you need to do is add the signature of 'Slash Null', a different hacker whose nefarious deeds could be very conveniently halted by 'The Fender' if they viewed 'Slash Null' as a threat.\n",
    "\n",
    "Use your knowledge of working with Python files to retrieve, manipulate, obscure, and create data in your quest for justice. Work with CSV files and other text files in this exploration of the strength of Python file programming.\n",
    "\n",
    "If you get stuck during this project, check out the [**project walkthrough video**](https://www.youtube.com/watch?v=73P754J686A)."
   ]
  },
  {
   "cell_type": "markdown",
   "id": "a11e9756",
   "metadata": {},
   "source": [
    "### **Reading In The Passwords**"
   ]
  },
  {
   "cell_type": "markdown",
   "id": "cb3a61f3",
   "metadata": {},
   "source": [
    "TASK 1\n",
    "\n",
    "Are you there? We’ve opened up a communications link to `The Fender`‘s secret computer. We need you to write a program that will read in the compromised usernames and passwords that are stored in a file called `\"passwords.csv\"`.\n",
    "\n",
    "First import the CSV module, since we’ll be needing it to parse the data."
   ]
  },
  {
   "cell_type": "code",
   "execution_count": 1,
   "id": "0a6f6982",
   "metadata": {},
   "outputs": [],
   "source": [
    "import csv"
   ]
  },
  {
   "cell_type": "markdown",
   "id": "13ebff6a",
   "metadata": {},
   "source": [
    "TASK 2\n",
    "\n",
    "We need to create a list of users whose passwords have been compromised, create a new list and save it to the variable `compromised_users`."
   ]
  },
  {
   "cell_type": "code",
   "execution_count": 2,
   "id": "415b52d3",
   "metadata": {},
   "outputs": [],
   "source": [
    "compromised_users = []"
   ]
  },
  {
   "cell_type": "markdown",
   "id": "dba1804d",
   "metadata": {},
   "source": [
    "TASK 3 - 4\n",
    "\n",
    "Next we’ll need you to open up the file itself. Store it in a file object called `password_file`.\n",
    "\n",
    "Pass the `password_file` object holder to our CSV reader for parsing. Save the parsed `csv.DictReader` object as `password_csv`."
   ]
  },
  {
   "cell_type": "code",
   "execution_count": 3,
   "id": "e7fe1ec1",
   "metadata": {},
   "outputs": [],
   "source": [
    "with open(\"passwords.csv\", newline=\"\") as password_file:\n",
    "  password_csv = csv.DictReader(password_file, delimiter = \",\")"
   ]
  },
  {
   "cell_type": "markdown",
   "id": "7d18ddfe",
   "metadata": {},
   "source": [
    "TASK 5 - 6\n",
    "\n",
    "Now we’ll want to iterate through each of the lines in the CSV.\n",
    "\n",
    "Create a for loop and save each row of the CSV into the temporary variable `password_row`.\n",
    "    \n",
    "Inside your `for` loop, print out `password_row['Username']`. This is the username of the person whose password was compromised.\n",
    "\n",
    "Run your code, do you see a list of usernames?"
   ]
  },
  {
   "cell_type": "code",
   "execution_count": 4,
   "id": "9a123877",
   "metadata": {},
   "outputs": [
    {
     "name": "stdout",
     "output_type": "stream",
     "text": [
      "jean49\n",
      "haydenashley\n",
      "michaelastephens\n",
      "denisephillips\n",
      "andrew24\n",
      "kaylaabbott\n",
      "tmartinez\n",
      "mholden\n",
      "randygilbert\n",
      "watsonlouis\n",
      "mdavis\n",
      "patrickprice\n",
      "kgriffith\n",
      "hannasarah\n",
      "xaviermartin\n",
      "hrodriguez\n",
      "erodriguez\n",
      "danielleclark\n",
      "timothy26\n",
      "elizabeth19\n"
     ]
    }
   ],
   "source": [
    "with open(\"passwords.csv\", newline=\"\") as password_file:\n",
    "    password_csv = csv.DictReader(password_file, delimiter = \",\")\n",
    "\n",
    "    password_row = []\n",
    "\n",
    "    for line in password_csv:\n",
    "        password_row.append(line[\"Username\"])\n",
    "        password_row.append(line[\"Password\"])\n",
    "        print(line[\"Username\"])"
   ]
  },
  {
   "cell_type": "markdown",
   "id": "60d40d49",
   "metadata": {},
   "source": [
    "TASK 7\n",
    "\n",
    "Remove the `print` statement. We want to add each username to the list of `compromised_users`. Use the list’s `.append()` method to add the username to `compromised_users` instead of printing them."
   ]
  },
  {
   "cell_type": "code",
   "execution_count": 5,
   "id": "9d0c862d",
   "metadata": {},
   "outputs": [],
   "source": [
    "with open(\"passwords.csv\", newline=\"\") as password_file:\n",
    "    password_csv = csv.DictReader(password_file, delimiter = \",\")\n",
    "\n",
    "    password_row = []\n",
    "\n",
    "    for line in password_csv:\n",
    "        password_row.append(line[\"Username\"])\n",
    "        password_row.append(line[\"Password\"])\n",
    "        compromised_users.append(line[\"Username\"])"
   ]
  },
  {
   "cell_type": "markdown",
   "id": "24cfabd5",
   "metadata": {},
   "source": [
    "TASK 8 - 10\n",
    "\n",
    "Exit out of your `with` block for `\"passwords.csv\"`. We have all the data we need from that file.\n",
    "\n",
    "Start a new `with` block, opening a file called `compromised_users.txt.` Open this file in write-mode, saving the file object as `compromised_user_file`.\n",
    "\n",
    "Inside the new context-managed block opened by the `with` statement start a new `for` loop.\n",
    "\n",
    "Iterate over each of your `compromised_users`.\n",
    "\n",
    "Write the username of each `compromised_user` in `compromised_users` to `compromised_user_file`."
   ]
  },
  {
   "cell_type": "code",
   "execution_count": 6,
   "id": "aee7950c",
   "metadata": {},
   "outputs": [],
   "source": [
    "with open(\"compromised_users.txt\", \"w\") as compromised_user_file:\n",
    "  for user in compromised_users:\n",
    "    compromised_user_file.write(user + \"\\n\") "
   ]
  },
  {
   "cell_type": "markdown",
   "id": "dc45fc7c",
   "metadata": {},
   "source": [
    "Exit out of that `with` block. You’re doing great so far! We’ve got the data we need to employ as insurance against `The Fender`."
   ]
  },
  {
   "cell_type": "markdown",
   "id": "930f32d8",
   "metadata": {},
   "source": [
    "### **Notifying the Boss**"
   ]
  },
  {
   "cell_type": "markdown",
   "id": "31e1d02b",
   "metadata": {},
   "source": [
    "TASK 11\n",
    "\n",
    "Your boss needs to know that you were successful in retrieving that compromised data. We’ll need to send him an encoded message over the internet. Let’s use JSON to do that.\n",
    "\n",
    "First we’ll need to import the `json` module."
   ]
  },
  {
   "cell_type": "code",
   "execution_count": 7,
   "id": "c9fd8e87",
   "metadata": {},
   "outputs": [],
   "source": [
    "import json"
   ]
  },
  {
   "cell_type": "markdown",
   "id": "39b6ebdd",
   "metadata": {},
   "source": [
    "TASK 12 - 14\n",
    "\n",
    "Open a new JSON file in write-mode called `boss_message.json`. Save the file object to the variable `boss_message`.\n",
    "\n",
    "Create a Python dictionary object within your with `statement` that relays a boss message. Call this `boss_message_dict`.\n",
    "\n",
    "Give it a `\"recipient\"` key with a value `\"The Boss\"`.\n",
    "\n",
    "Also give it a `\"message\"` key with the value `\"Mission Success\"`.\n",
    "\n",
    "Write out `boss_message_dict` to boss_message using `json.dump()`."
   ]
  },
  {
   "cell_type": "code",
   "execution_count": 8,
   "id": "f4d557ec",
   "metadata": {},
   "outputs": [],
   "source": [
    "with open(\"boss_message.json\", \"w\") as boss_message:\n",
    "  boss_message_dict = {\"recipient\":\"The Boss\", \"message\": \"Mission Success\"}\n",
    "\n",
    "  json.dump(boss_message_dict, boss_message)"
   ]
  },
  {
   "cell_type": "markdown",
   "id": "8d038d50",
   "metadata": {},
   "source": [
    "### **Scrambling the Password**"
   ]
  },
  {
   "cell_type": "markdown",
   "id": "2694582c",
   "metadata": {},
   "source": [
    "TASK 15 - 16\n",
    "\n",
    "Now that we’ve safely recovered the compromised users we’ll want to remove the `\"passwords.csv\"` file completely.\n",
    "\n",
    "Create a new `with` block and open `\"new_passwords.csv\"` in write-mode. Save the file object to a variable called `new_passwords_obj`.\n",
    "\n",
    "Enemy of the people, `Slash Null`, is who we want `The Fender` to think was behind this attack. He has a signature, whenever he hacks someone he adds this signature to one of the files he touches. Here is the signature:\n",
    "\n",
    "       _  _     ___   __  ____             \n",
    "       / )( \\   / __) /  \\(_  _)            \n",
    "       ) \\/ (  ( (_ \\(  O ) )(              \n",
    "       \\____/   \\___/ \\__/ (__)             \n",
    "       _  _   __    ___  __ _  ____  ____  \n",
    "       / )( \\ / _\\  / __)(  / )(  __)(    \\ \n",
    "       ) __ (/    \\( (__  )  (  ) _)  ) D ( \n",
    "       \\_)(_/\\_/\\_/ \\___)(__\\_)(____)(____/ \n",
    "              ____  __     __   ____  _  _ \n",
    "       ___   / ___)(  )   / _\\ / ___)/ )( \\\n",
    "       (___)  \\___ \\/ (_/\\/    \\\\___ \\) __ (\n",
    "              (____/\\____/\\_/\\_/(____/\\_)(_/\n",
    "       __ _  _  _  __    __                \n",
    "       (  ( \\/ )( \\(  )  (  )               \n",
    "       /    /) \\/ (/ (_/\\/ (_/\\             \n",
    "       \\_)__)\\____/\\____/\\____/\n",
    "\n",
    "\n",
    "Save that as a multiline string to the variable `slash_null_sig`.\n",
    "\n",
    "Write `slash_null_sig` to `new_passwords_obj`. Now we have the file to replace `passwords.csv` with!"
   ]
  },
  {
   "cell_type": "code",
   "execution_count": 9,
   "id": "7a07d31f",
   "metadata": {},
   "outputs": [
    {
     "name": "stderr",
     "output_type": "stream",
     "text": [
      "<>:5: SyntaxWarning: invalid escape sequence '\\ '\n",
      "<>:5: SyntaxWarning: invalid escape sequence '\\ '\n",
      "/tmp/ipykernel_16475/3966658499.py:5: SyntaxWarning: invalid escape sequence '\\ '\n",
      "  / )( \\   / __) /  \\(_  _)\n"
     ]
    }
   ],
   "source": [
    "with open(\"new_passwords.csv\", \"w\") as new_passwords_obj:\n",
    "  fieldnames = [\"\"]\n",
    "  slash_null_sig =  \"\"\"\n",
    " _  _     ___   __  ____             \n",
    "/ )( \\   / __) /  \\(_  _)            \n",
    ") \\/ (  ( (_ \\(  O ) )(              \n",
    "\\____/   \\___/ \\__/ (__)             \n",
    " _  _   __    ___  __ _  ____  ____  \n",
    "/ )( \\ / _\\  / __)(  / )(  __)(    \\ \n",
    ") __ (/    \\( (__  )  (  ) _)  ) D ( \n",
    "\\_)(_/\\_/\\_/ \\___)(__\\_)(____)(____/ \n",
    "        ____  __     __   ____  _  _ \n",
    " ___   / ___)(  )   / _\\ / ___)/ )( |\n",
    "(___)  \\___ \\/ (_/\\/    \\\\___ \\) __ (\n",
    "       (____/\\____/\\_/\\_/(____/\\_)(_/\n",
    " __ _  _  _  __    __                \n",
    "(  ( \\/ )( \\(  )  (  )               \n",
    "/    /) \\/ (/ (_/\\/ (_/\\             \n",
    "\\_)__)\\____/\\____/\\____/\n",
    "\"\"\"\n",
    "\n",
    "  new_passwords_writer = csv.DictWriter(new_passwords_obj, fieldnames=fieldnames)\n",
    "  \n",
    "  new_passwords_writer.writerow({\"\":slash_null_sig})"
   ]
  },
  {
   "cell_type": "markdown",
   "id": "fe695541",
   "metadata": {},
   "source": [
    "What an incredible success! We’ll take care of moving the new passwords file over the old one in case you want to practice hacking `The Fender` in the future.\n",
    "\n",
    "Thank you for your service, programmer."
   ]
  }
 ],
 "metadata": {
  "kernelspec": {
   "display_name": "Python (learn_python)",
   "language": "python",
   "name": "learn_python"
  },
  "language_info": {
   "codemirror_mode": {
    "name": "ipython",
    "version": 3
   },
   "file_extension": ".py",
   "mimetype": "text/x-python",
   "name": "python",
   "nbconvert_exporter": "python",
   "pygments_lexer": "ipython3",
   "version": "3.13.3"
  }
 },
 "nbformat": 4,
 "nbformat_minor": 5
}

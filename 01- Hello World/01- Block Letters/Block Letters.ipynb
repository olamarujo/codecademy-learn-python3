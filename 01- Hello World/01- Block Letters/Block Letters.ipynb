{
 "cells": [
  {
   "cell_type": "markdown",
   "id": "29fa4636",
   "metadata": {},
   "source": [
    "## **Block Letters**\n",
    "[ASCII](https://en.wikipedia.org/wiki/ASCII_art) art is a way of creating images using the individual characters from a keyboard.\n",
    "\n",
    "For example, below is an ASCII art of some letters from the English alphabet."
   ]
  },
  {
   "cell_type": "markdown",
   "id": "2483a050",
   "metadata": {},
   "source": [
    "![ASCII](block-letters.png)"
   ]
  },
  {
   "cell_type": "markdown",
   "id": "753bbaa1",
   "metadata": {},
   "source": [
    "The letter F is made up of 5 characters in the first row, one character in the second and third rows, three characters in the fourth row, and one character in the fifth, sixth, and seventh row. These characters when viewed together look like the letter F.\n",
    "\n",
    "In this project, we will write a Python program that displays the initials of your name in block characters to dip your toes into the world ASCII art.\n",
    "\n",
    "Let’s start coding!"
   ]
  },
  {
   "cell_type": "markdown",
   "id": "e00a241f",
   "metadata": {},
   "source": [
    "### **Setting Up**"
   ]
  },
  {
   "cell_type": "markdown",
   "id": "a70b2286",
   "metadata": {},
   "source": [
    "TASK 1\n",
    "\n",
    "Let`s start by writing two comments:\n",
    "\n",
    "- Your full name\n",
    "- A fun fact about yourself"
   ]
  },
  {
   "cell_type": "code",
   "execution_count": 1,
   "id": "7a7e0861",
   "metadata": {},
   "outputs": [],
   "source": [
    "# Rodrigo Monteiro\n",
    "# I am not funny"
   ]
  },
  {
   "cell_type": "markdown",
   "id": "9c504f13",
   "metadata": {},
   "source": [
    "### **Creating Art**"
   ]
  },
  {
   "cell_type": "markdown",
   "id": "e334c9ce",
   "metadata": {},
   "source": [
    "TASK 2\n",
    "\n",
    "Now that we have our name down, let’s output our first initial!\n",
    "\n",
    "First, take a look at [this alphabet](https://content.codecademy.com/courses/learn-cpp/hello-world/block-letters-hint.png) to find your initials. Notice how each block letter is 7x5 and formed by the letter itself. If this alphabet doesn’t work for your name, this is your chance to get creative!\n",
    "\n",
    "Try printing out the first character of your first or given name as a block character!\n",
    "\n",
    "An alternate option for this task is to print out your first or given name instead of using ASCII art to write your initial!\n",
    "\n",
    "Finally, press Execute Cell to run your program and view your printed ASCII art!"
   ]
  },
  {
   "cell_type": "code",
   "execution_count": 2,
   "id": "f7bfb6ab",
   "metadata": {},
   "outputs": [
    {
     "name": "stdout",
     "output_type": "stream",
     "text": [
      "M   M\n",
      "MM MM\n",
      "MM MM\n",
      "M M M\n",
      "M   M\n",
      "M   M\n",
      "M   M\n"
     ]
    }
   ],
   "source": [
    "print(\"M   M\")\n",
    "print(\"MM MM\")\n",
    "print(\"MM MM\")\n",
    "print(\"M M M\")\n",
    "print(\"M   M\")\n",
    "print(\"M   M\")\n",
    "print(\"M   M\")"
   ]
  },
  {
   "cell_type": "markdown",
   "id": "c0f81480",
   "metadata": {},
   "source": [
    "TASK 3\n",
    "\n",
    "Let’s output our second initial too!\n",
    "\n",
    "Using the [alphabet from the last task](https://content.codecademy.com/courses/learn-cpp/hello-world/block-letters-hint.png), add the first character of your last or family name to the print() statements you created earlier.\n",
    "\n",
    "An alternate option for this task is to print out your last or family name!\n",
    "\n",
    "Press press Execute Cell to run your program."
   ]
  },
  {
   "cell_type": "code",
   "execution_count": 3,
   "id": "1a6a22d4",
   "metadata": {},
   "outputs": [
    {
     "name": "stdout",
     "output_type": "stream",
     "text": [
      "RRRR   M   M\n",
      "R   R  MM MM\n",
      "R   R  MM MM\n",
      "RRRR   M M M\n",
      "R R    M   M\n",
      "R  R   M   M\n",
      "R    R M   M\n"
     ]
    }
   ],
   "source": [
    "print(\"RRRR   M   M\")\n",
    "print(\"R   R  MM MM\")\n",
    "print(\"R   R  MM MM\")\n",
    "print(\"RRRR   M M M\")\n",
    "print(\"R R    M   M\")\n",
    "print(\"R  R   M   M\")\n",
    "print(\"R    R M   M\")"
   ]
  },
  {
   "cell_type": "markdown",
   "id": "d03d49ee",
   "metadata": {},
   "source": [
    "### **Wrapping Up**\n",
    "Congratulations! You have completed your first project!"
   ]
  }
 ],
 "metadata": {
  "kernelspec": {
   "display_name": "Python (learn_python)",
   "language": "python",
   "name": "learn_python"
  },
  "language_info": {
   "codemirror_mode": {
    "name": "ipython",
    "version": 3
   },
   "file_extension": ".py",
   "mimetype": "text/x-python",
   "name": "python",
   "nbconvert_exporter": "python",
   "pygments_lexer": "ipython3",
   "version": "3.13.3"
  }
 },
 "nbformat": 4,
 "nbformat_minor": 5
}

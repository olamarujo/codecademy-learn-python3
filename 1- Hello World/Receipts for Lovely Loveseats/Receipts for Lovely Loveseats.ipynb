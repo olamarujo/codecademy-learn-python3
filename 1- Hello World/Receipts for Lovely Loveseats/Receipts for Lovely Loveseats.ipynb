{
 "cells": [
  {
   "cell_type": "markdown",
   "id": "083a0dcb",
   "metadata": {},
   "source": [
    "## **Receipts for Lovely Loveseats**\n",
    "\n",
    "We’ve decided to pursue the dream of small-business ownership and open up a furniture store called *Lovely Loveseats for Neat Suites on Fleet Street*. With our newfound knowledge of Python programming, we’re going to build a system to help speed up the process of creating receipts for your customers.\n",
    "\n",
    "In this project, we will be storing the names and prices of a furniture store’s catalog in variables. You will then process the total price and item list of customers, printing them to the output terminal.\n",
    "\n",
    "**Please note**: Projects do not run tests against your code. This experience is more open to your interpretation and gives you the freedom to explore. Remember that all variables must be declared before they are referenced in your code.\n",
    "\n",
    "If you get stuck during this project or would like to see an experienced developer work through it, click [**Get Unstuck**](https://www.youtube.com/watch?v=YLPtJyjln8A) to see a project **walkthrough video**."
   ]
  },
  {
   "cell_type": "markdown",
   "id": "60f15015",
   "metadata": {},
   "source": [
    "### **Adding In The Catalog**"
   ]
  },
  {
   "cell_type": "markdown",
   "id": "bef47f6d",
   "metadata": {},
   "source": [
    "TASK 1\n",
    "\n",
    "Let’s add in our first item, the Lovely Loveseat that is the store’s namesake. Create a variable called `lovely_loveseat_description` and assign to it the following string:\n",
    "\n",
    "- Lovely Loveseat. Tufted polyester blend on wood. 32 inches high x 40 inches wide x 30 inches deep. Red or white."
   ]
  },
  {
   "cell_type": "code",
   "execution_count": 1,
   "id": "ac336394",
   "metadata": {},
   "outputs": [],
   "source": [
    "lovely_loveseat_description = \"Lovely Loveseat. Tufted polyester blend on wood. 32 inches high x 40 inches wide x 30 inches deep. Red or white.\""
   ]
  },
  {
   "cell_type": "markdown",
   "id": "d79858ed",
   "metadata": {},
   "source": [
    "TASK 2\n",
    "\n",
    "Great, now let’s create a price for the loveseat. Create a variable `lovely_loveseat_price` and set it equal to `254.00`."
   ]
  },
  {
   "cell_type": "code",
   "execution_count": 2,
   "id": "9c209a2a",
   "metadata": {},
   "outputs": [],
   "source": [
    "lovely_loveseat_price = 254.00"
   ]
  },
  {
   "cell_type": "markdown",
   "id": "5add32b9",
   "metadata": {},
   "source": [
    "TASK 3\n",
    "\n",
    "Let’s extend our inventory with another characteristic piece of furniture! Create a variable called `stylish_settee_description` and assign to it the following string:\n",
    "\n",
    "- Stylish Settee. Faux leather on birch. 29.50 inches high x 54.75 inches wide x 28 inches deep. Black."
   ]
  },
  {
   "cell_type": "code",
   "execution_count": 3,
   "id": "ec3f52c5",
   "metadata": {},
   "outputs": [],
   "source": [
    "stylish_settee_description = \"Stylish Setee. Faux leather on birch. 29.5 inches high x 54.75 inches wide x 28 inches deep. Black.\""
   ]
  },
  {
   "cell_type": "markdown",
   "id": "a47ee399",
   "metadata": {},
   "source": [
    "TASK 4\n",
    "\n",
    "Now let’s set the price for our Stylish Settee. Create a variable `stylish_settee_price` and assign it the value of `180.50`."
   ]
  },
  {
   "cell_type": "code",
   "execution_count": 4,
   "id": "a2884782",
   "metadata": {},
   "outputs": [],
   "source": [
    "stylish_settee_price = 180.50"
   ]
  },
  {
   "cell_type": "markdown",
   "id": "344c3393",
   "metadata": {},
   "source": [
    "TASK 5\n",
    "\n",
    "Fantastic, we just need one more item before we’re ready for business. Create a new variable called `luxurious_lamp_description `and assign it the following:\n",
    "- Luxurious Lamp. Glass and iron. 36 inches tall. Brown with cream shade.\n"
   ]
  },
  {
   "cell_type": "code",
   "execution_count": 5,
   "id": "2c0a2ae1",
   "metadata": {},
   "outputs": [],
   "source": [
    "luxurius_lamp_description = \"Luxurious Lamp. Glass and Iron. 36 inches tall. Brown with cream shade.\""
   ]
  },
  {
   "cell_type": "markdown",
   "id": "13d30b65",
   "metadata": {},
   "source": [
    "TASK 6\n",
    "\n",
    "Let’s set the price for this item. Create a variable called `luxurious_lamp_price` and set it equal to `52.15`."
   ]
  },
  {
   "cell_type": "code",
   "execution_count": 6,
   "id": "b30886d4",
   "metadata": {},
   "outputs": [],
   "source": [
    "luxurious_lamp_price = 52.15"
   ]
  },
  {
   "cell_type": "markdown",
   "id": "e9096769",
   "metadata": {},
   "source": [
    "TASK 7\n",
    "\n",
    "In order to be a business, we should also be calculating sales tax. Let’s store that in a variable as well.\n",
    "\n",
    "Define the variable `sales_tax` and set it equal to `.088`. That’s 8.8%."
   ]
  },
  {
   "cell_type": "code",
   "execution_count": 7,
   "id": "d5de6135",
   "metadata": {},
   "outputs": [],
   "source": [
    "sales_tax = 0.088"
   ]
  },
  {
   "cell_type": "markdown",
   "id": "d71d1a8a",
   "metadata": {},
   "source": [
    "### **Our First Customer**"
   ]
  },
  {
   "cell_type": "markdown",
   "id": "588894d8",
   "metadata": {},
   "source": [
    "TASK 8\n",
    "\n",
    "Our first customer is making their purchase! Let’s keep a running tally of their expenses by defining a variable called `customer_one_total`. Since they haven’t purchased anything yet, let’s set that variable equal to `0` for now."
   ]
  },
  {
   "cell_type": "code",
   "execution_count": 8,
   "id": "fff87e5b",
   "metadata": {},
   "outputs": [],
   "source": [
    "custumer_one_total = 0"
   ]
  },
  {
   "cell_type": "markdown",
   "id": "d39b37c1",
   "metadata": {},
   "source": [
    "TASK 9\n",
    "\n",
    "We should also keep a list of the descriptions of things they’re purchasing. Create a variable called `customer_one_itemization` and set that equal to the empty string `\"\"`. We’ll tack on the descriptions to this as they make their purchases."
   ]
  },
  {
   "cell_type": "code",
   "execution_count": 9,
   "id": "95b83a40",
   "metadata": {},
   "outputs": [],
   "source": [
    "custumer_one_itemization = \"\""
   ]
  },
  {
   "cell_type": "markdown",
   "id": "66db0756",
   "metadata": {},
   "source": [
    "TASK 10\n",
    "\n",
    "Our customer has decided they are going to purchase our Lovely Loveseat! Add the price to `customer_one_total`."
   ]
  },
  {
   "cell_type": "code",
   "execution_count": 10,
   "id": "1c397537",
   "metadata": {},
   "outputs": [],
   "source": [
    "custumer_one_total += lovely_loveseat_price"
   ]
  },
  {
   "cell_type": "markdown",
   "id": "0907f163",
   "metadata": {},
   "source": [
    "TASK 11\n",
    "\n",
    "Let’s start keeping track of the items our customer purchased. Add the description of the Lovely Loveseat to `customer_one_itemization`."
   ]
  },
  {
   "cell_type": "code",
   "execution_count": 11,
   "id": "b2c8b25d",
   "metadata": {},
   "outputs": [],
   "source": [
    "custumer_one_itemization += lovely_loveseat_description"
   ]
  },
  {
   "cell_type": "markdown",
   "id": "649c8b1f",
   "metadata": {},
   "source": [
    "TASK 12\n",
    "\n",
    "Our customer has also decided to purchase the Luxurious Lamp! Let’s add the price to the customer’s total."
   ]
  },
  {
   "cell_type": "code",
   "execution_count": 12,
   "id": "5710787c",
   "metadata": {},
   "outputs": [],
   "source": [
    "custumer_one_total += luxurious_lamp_price"
   ]
  },
  {
   "cell_type": "markdown",
   "id": "4d33aa6e",
   "metadata": {},
   "source": [
    "TASK 13\n",
    "\n",
    "Let’s keep the itemization up-to-date and add the description of the Luxurious Lamp to our itemization."
   ]
  },
  {
   "cell_type": "code",
   "execution_count": 13,
   "id": "710f019d",
   "metadata": {},
   "outputs": [],
   "source": [
    "custumer_one_itemization += luxurius_lamp_description"
   ]
  },
  {
   "cell_type": "markdown",
   "id": "254fea7f",
   "metadata": {},
   "source": [
    "TASK 14\n",
    "\n",
    "They’re ready to check out! Let’s begin by calculating sales tax. Create a variable called `customer_one_tax` and set it equal to `customer_one_total` times `sales_tax`."
   ]
  },
  {
   "cell_type": "code",
   "execution_count": 14,
   "id": "95bf3643",
   "metadata": {},
   "outputs": [],
   "source": [
    "custumer_one_tax = custumer_one_total * sales_tax"
   ]
  },
  {
   "cell_type": "markdown",
   "id": "2c84b641",
   "metadata": {},
   "source": [
    "TASK 15\n",
    "\n",
    "Add the sales tax to the customer’s total cost."
   ]
  },
  {
   "cell_type": "code",
   "execution_count": 15,
   "id": "9623b580",
   "metadata": {},
   "outputs": [],
   "source": [
    "custumer_one_total += custumer_one_tax"
   ]
  },
  {
   "cell_type": "markdown",
   "id": "fe100d4e",
   "metadata": {},
   "source": [
    "TASK 16\n",
    "\n",
    "Let’s start printing up their receipt! Begin by printing out the heading for their itemization. Print the phrase `\"Customer One Items:\"`."
   ]
  },
  {
   "cell_type": "code",
   "execution_count": 16,
   "id": "79b7e689",
   "metadata": {},
   "outputs": [
    {
     "name": "stdout",
     "output_type": "stream",
     "text": [
      "Custumer One Items:\n"
     ]
    }
   ],
   "source": [
    "print(\"Custumer One Items:\")"
   ]
  },
  {
   "cell_type": "markdown",
   "id": "0de26a90",
   "metadata": {},
   "source": [
    "TASK 17\n",
    "\n",
    "Print `customer_one_itemization`."
   ]
  },
  {
   "cell_type": "code",
   "execution_count": 17,
   "id": "37fe9212",
   "metadata": {},
   "outputs": [
    {
     "name": "stdout",
     "output_type": "stream",
     "text": [
      "Lovely Loveseat. Tufted polyester blend on wood. 32 inches high x 40 inches wide x 30 inches deep. Red or white.Luxurious Lamp. Glass and Iron. 36 inches tall. Brown with cream shade.\n"
     ]
    }
   ],
   "source": [
    "print(custumer_one_itemization)"
   ]
  },
  {
   "cell_type": "markdown",
   "id": "0b9ac8bd",
   "metadata": {},
   "source": [
    "TASK 18\n",
    "\n",
    "Now add a heading for their total cost: Print out `\"Customer One Total:\"`"
   ]
  },
  {
   "cell_type": "code",
   "execution_count": 18,
   "id": "7542167a",
   "metadata": {},
   "outputs": [
    {
     "name": "stdout",
     "output_type": "stream",
     "text": [
      "Custumer One Total:\n"
     ]
    }
   ],
   "source": [
    "print(\"Custumer One Total:\")"
   ]
  },
  {
   "cell_type": "markdown",
   "id": "72022cbd",
   "metadata": {},
   "source": [
    "TASK 19\n",
    "\n",
    "Now print out their total! Our first customer now has a receipt for the things they purchased."
   ]
  },
  {
   "cell_type": "code",
   "execution_count": 19,
   "id": "c4dce88f",
   "metadata": {},
   "outputs": [
    {
     "name": "stdout",
     "output_type": "stream",
     "text": [
      "333.09119999999996\n"
     ]
    }
   ],
   "source": [
    "print(custumer_one_total)"
   ]
  },
  {
   "cell_type": "markdown",
   "id": "c9d2f792",
   "metadata": {},
   "source": [
    "Congratulations! We created our catalog and served our first customer. We used our knowledge of strings and numbers to create and update variables. We were able to print out an itemized list and a total cost for our customer. Lovely!"
   ]
  }
 ],
 "metadata": {
  "kernelspec": {
   "display_name": "Python (learn_python)",
   "language": "python",
   "name": "learn_python"
  },
  "language_info": {
   "codemirror_mode": {
    "name": "ipython",
    "version": 3
   },
   "file_extension": ".py",
   "mimetype": "text/x-python",
   "name": "python",
   "nbconvert_exporter": "python",
   "pygments_lexer": "ipython3",
   "version": "3.13.3"
  }
 },
 "nbformat": 4,
 "nbformat_minor": 5
}

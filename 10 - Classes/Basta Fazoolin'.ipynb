{
 "cells": [
  {
   "cell_type": "markdown",
   "id": "aea3270d",
   "metadata": {},
   "source": [
    "## **Basta Fazoolin'**\n",
    "\n",
    "You’ve started a position as the lead programmer for the family-style Italian restaurant Basta Fazoolin’ with My Heart. The restaurant has been doing fantastically and seen a lot of growth lately. You’ve been hired to keep things organized.\n",
    "\n",
    "If you get stuck during this project or would like to see an experienced developer work through it, click “[**Get Unstuck“**](https://www.youtube.com/watch?v=Dk-ePlxdmBU&t=1s) to see a **project walkthrough video**."
   ]
  },
  {
   "cell_type": "markdown",
   "id": "2e3b7af3",
   "metadata": {},
   "source": [
    "### **Making the Menus**"
   ]
  },
  {
   "cell_type": "markdown",
   "id": "0b14cf64",
   "metadata": {},
   "source": [
    "TASK 1 - 2\n",
    "\n",
    "At Basta Fazoolin’ with my Heart our motto is simple: when you’re here with family, that’s great! We have four different menus: brunch, early-bird, dinner, and kids.\n",
    "\n",
    "Create a `Menu` class ."
   ]
  },
  {
   "cell_type": "code",
   "execution_count": 1,
   "id": "e7397876",
   "metadata": {},
   "outputs": [],
   "source": [
    "class Menu:\n",
    "  def __init__(self, name, items, start_time, end_time):\n",
    "    self.name = name\n",
    "    self.items = items\n",
    "    self.start_time = start_time\n",
    "    self.end_time = end_time"
   ]
  },
  {
   "cell_type": "markdown",
   "id": "5de990fb",
   "metadata": {},
   "source": [
    "TASK 3\n",
    "\n",
    "Let’s create our first menu: `brunch`. Brunch is served from 11am to 4pm. The following items are sold during brunch:\n",
    "\n",
    "- {\n",
    "  'pancakes': 7.50, 'waffles': 9.00, 'burger': 11.00, 'home fries': 4.50, 'coffee': 1.50, 'espresso': 3.00, 'tea': 1.00, 'mimosa': 10.50, 'orange juice': 3.50\n",
    "}"
   ]
  },
  {
   "cell_type": "code",
   "execution_count": 2,
   "id": "c599a2e7",
   "metadata": {},
   "outputs": [],
   "source": [
    "brunch = {\n",
    "  'pancakes': 7.50, 'waffles': 9.00, 'burger': 11.00, 'home fries': 4.50, 'coffee': 1.50, 'espresso': 3.00, 'tea': 1.00, 'mimosa': 10.50, 'orange juice': 3.50\n",
    "} "
   ]
  },
  {
   "cell_type": "markdown",
   "id": "53fd4b72",
   "metadata": {},
   "source": [
    "TASK 4\n",
    "\n",
    "Let’s create our second menu item `early_bird`. Early-bird Dinners are served from 3pm to 6pm. The following items are available during the early-bird menu:\n",
    "\n",
    "- {\n",
    "  'salumeria plate': 8.00, 'salad and breadsticks (serves 2, no refills)': 14.00, 'pizza with quattro formaggi': 9.00, 'duck ragu': 17.50, 'mushroom ravioli (vegan)': 13.50, 'coffee': 1.50, 'espresso': 3.00,\n",
    "}\n"
   ]
  },
  {
   "cell_type": "code",
   "execution_count": 3,
   "id": "6fff6450",
   "metadata": {},
   "outputs": [],
   "source": [
    "early_bird = {\n",
    "  'salumeria plate': 8.00, 'salad and breadsticks (serves 2, no refills)': 14.00, 'pizza with quattro formaggi': 9.00, 'duck ragu': 17.50, 'mushroom ravioli (vegan)': 13.50, 'coffee': 1.50, 'espresso': 3.00,\n",
    "}"
   ]
  },
  {
   "cell_type": "markdown",
   "id": "2f285cc1",
   "metadata": {},
   "source": [
    "TASK 5\n",
    "\n",
    "Let’s create our third menu, `dinner`. Dinner is served from 5pm to 11pm. The following items are available for dinner:\n",
    "\n",
    "- {\n",
    "  'salumeria plate': 8.00, 'salad and breadsticks (serves 2, no refills)': 14.00, 'pizza with quattro formaggi': 9.00, 'duck ragu': 17.50, 'mushroom ravioli (vegan)': 13.50, 'coffee': 1.50, 'espresso': 3.00,\n",
    "}\n"
   ]
  },
  {
   "cell_type": "code",
   "execution_count": 4,
   "id": "51a3e61b",
   "metadata": {},
   "outputs": [],
   "source": [
    "dinner = {\n",
    "  'crostini with eggplant caponata': 13.00, 'caesar salad': 16.00, 'pizza with quattro formaggi': 11.00, 'duck ragu': 19.50, 'mushroom ravioli (vegan)': 13.50, 'coffee': 2.00, 'espresso': 3.00,\n",
    "}"
   ]
  },
  {
   "cell_type": "markdown",
   "id": "b42997d7",
   "metadata": {},
   "source": [
    "TASK 6\n",
    "\n",
    "And let’s create our last menu, `kids`. The kids menu is available from 11am until 9pm. The following items are available on the kids menu.\n",
    "\n",
    "- {\n",
    "  'chicken nuggets': 6.50, 'fusilli with wild mushrooms': 12.00, 'apple juice': 3.00\n",
    "}\n"
   ]
  },
  {
   "cell_type": "code",
   "execution_count": 5,
   "id": "46d73b1b",
   "metadata": {},
   "outputs": [],
   "source": [
    "kids = {\n",
    "  'chicken nuggets': 6.50, 'fusilli with wild mushrooms': 12.00, 'apple juice': 3.00\n",
    "}"
   ]
  },
  {
   "cell_type": "markdown",
   "id": "0873bbd7",
   "metadata": {},
   "source": [
    "TASK 7 - 8\n",
    "\n",
    "Give our `Menu` class a string representation method that will tell you the `name` of the menu. Also, indicate in this representation when the menu is available.\n",
    "\n",
    "Try out our string representation. If you call `print(brunch)` it should print out something like the following:\n",
    "\n",
    "- brunch menu available from 11am to 4pm"
   ]
  },
  {
   "cell_type": "code",
   "execution_count": 6,
   "id": "a7b344fb",
   "metadata": {},
   "outputs": [],
   "source": [
    "class Menu:\n",
    "  def __init__(self, name, items, start_time, end_time):\n",
    "    self.name = name\n",
    "    self.items = items\n",
    "    self.start_time = start_time\n",
    "    self.end_time = end_time\n",
    "\n",
    "  def __repr__(self):\n",
    "    return (f\"{self.name} menu available from {self.start_time}:00 to {self.end_time}:00\")"
   ]
  },
  {
   "cell_type": "code",
   "execution_count": 7,
   "id": "96e970a9",
   "metadata": {},
   "outputs": [
    {
     "name": "stdout",
     "output_type": "stream",
     "text": [
      "Brunch menu available from 11:00 to 16:00\n"
     ]
    }
   ],
   "source": [
    "brunch_menu = Menu(\"Brunch\", brunch, 11, 16)\n",
    "early_bird_menu = Menu(\"Early Bird\", early_bird, 15, 18)\n",
    "dinner_menu = Menu(\"Dinner\", dinner, 17, 23)\n",
    "kids_menu = Menu(\"Kids\", kids, 11, 21)\n",
    "  \n",
    "print(brunch_menu)"
   ]
  },
  {
   "cell_type": "markdown",
   "id": "c6529617",
   "metadata": {},
   "source": [
    "TASK 9\n",
    "\n",
    "Give Menu a method `.calculate_bill()` that has two parameters: `self`, and `purchased_items`, a list of the names of purchased items.\n",
    "\n",
    "Have `calculate_bill` return the total price of a purchase consisting of all the items in `purchased_items`."
   ]
  },
  {
   "cell_type": "code",
   "execution_count": 8,
   "id": "b497154c",
   "metadata": {},
   "outputs": [],
   "source": [
    "class Menu:\n",
    "  def __init__(self, name, items, start_time, end_time):\n",
    "    self.name = name\n",
    "    self.items = items\n",
    "    self.start_time = start_time\n",
    "    self.end_time = end_time\n",
    "\n",
    "  def calculate_bill(self, purchased_items):\n",
    "    bill = 0\n",
    "    for item in purchased_items:\n",
    "      if item in self.items:\n",
    "        bill += self.items[item]\n",
    "    return bill\n",
    "\n",
    "  def __repr__(self):\n",
    "    return (f\"{self.name} menu available from {self.start_time}:00 to {self.end_time}:00\")"
   ]
  },
  {
   "cell_type": "markdown",
   "id": "efb3442a",
   "metadata": {},
   "source": [
    "TASK 10\n",
    "\n",
    "Test out `Menu.calculate_bill()`. We have a breakfast order for one order of pancakes, one order of home fries, and one coffee. Pass that into `brunch.calculate_bill()` and print out the price."
   ]
  },
  {
   "cell_type": "code",
   "execution_count": 9,
   "id": "7c7e038d",
   "metadata": {},
   "outputs": [
    {
     "name": "stdout",
     "output_type": "stream",
     "text": [
      "13.5\n"
     ]
    }
   ],
   "source": [
    "order = ['pancakes', 'home fries', 'coffee']\n",
    "\n",
    "print(Menu.calculate_bill(brunch_menu, order))"
   ]
  },
  {
   "cell_type": "markdown",
   "id": "a6898a11",
   "metadata": {},
   "source": [
    "TASK 11\n",
    "\n",
    "What about an early-bird purchase? Our last guests ordered the salumeria plate and the vegan mushroom ravioli. Calculate the bill with `.calculate_bill()`."
   ]
  },
  {
   "cell_type": "code",
   "execution_count": 10,
   "id": "f3607f9a",
   "metadata": {},
   "outputs": [
    {
     "name": "stdout",
     "output_type": "stream",
     "text": [
      "21.5\n"
     ]
    }
   ],
   "source": [
    "order = ['salumeria plate', 'mushroom ravioli (vegan)']\n",
    "\n",
    "print(Menu.calculate_bill(early_bird_menu, order))"
   ]
  },
  {
   "cell_type": "markdown",
   "id": "f2c309b6",
   "metadata": {
    "vscode": {
     "languageId": "bat"
    }
   },
   "source": [
    "### **Creating the Franchises**"
   ]
  },
  {
   "cell_type": "markdown",
   "id": "7c990e73",
   "metadata": {},
   "source": [
    "TASK 12 - 13\n",
    "\n",
    "Basta Fazoolin’ with my Heart has seen tremendous success with the family market, which is fantastic because when you’re at Basta Fazoolin’ with my Heart with family, that’s great!\n",
    "\n",
    "We’ve decided to create more than one restaurant to offer our fantastic menus, services, and ambience around the country.\n",
    "\n",
    "First, let’s create a `Franchise` class.\n",
    "\n",
    "Give the `Franchise` class a constructor. Take in an `address`, and assign it to `self.address`. Also take in a list of `menus` and assign it to `self.menus`."
   ]
  },
  {
   "cell_type": "code",
   "execution_count": 11,
   "id": "16833102",
   "metadata": {},
   "outputs": [],
   "source": [
    "class Franchise:\n",
    "  def __init__(self, address, menus):\n",
    "    self.address = address\n",
    "    self.menus = menus"
   ]
  },
  {
   "cell_type": "markdown",
   "id": "a054ba25",
   "metadata": {},
   "source": [
    "TASK 14\n",
    "\n",
    "Let’s create our first two franchises! Our flagship store is located at `\"1232 West End Road\"` and our new installment is located at `\"12 East Mulberry Street\"`. Pass in all four menus along with these addresses to define `flagship_store` and `new_installment`."
   ]
  },
  {
   "cell_type": "code",
   "execution_count": 12,
   "id": "eb421277",
   "metadata": {},
   "outputs": [],
   "source": [
    "# create the list of menus first\n",
    "menus_list = [brunch_menu,early_bird_menu,dinner_menu,kids_menu]\n",
    "\n",
    "flagship_store = Franchise('1232 West End Road', menus_list)\n",
    "new_installment = Franchise(\"12 East Mulberry Street\", menus_list)"
   ]
  },
  {
   "cell_type": "markdown",
   "id": "6d97a138",
   "metadata": {},
   "source": [
    "TASK 15\n",
    "\n",
    "Give our `Franchises` a string representation so that we’ll be able to tell them apart. If we print out a `Franchise` it should tell us the address of the restaurant."
   ]
  },
  {
   "cell_type": "code",
   "execution_count": 13,
   "id": "9af6b069",
   "metadata": {},
   "outputs": [],
   "source": [
    "class Franchise:\n",
    "  def __init__(self, address, menus):\n",
    "    self.address = address\n",
    "    self.menus = menus\n",
    "\n",
    "  def __repr__(self):\n",
    "    return self.address"
   ]
  },
  {
   "cell_type": "code",
   "execution_count": 14,
   "id": "1838d10a",
   "metadata": {},
   "outputs": [
    {
     "name": "stdout",
     "output_type": "stream",
     "text": [
      "1232 West End Road\n"
     ]
    }
   ],
   "source": [
    "flagship_store = Franchise('1232 West End Road', menus_list)\n",
    "new_installment = Franchise(\"12 East Mulberry Street\", menus_list)\n",
    "\n",
    "print(flagship_store)"
   ]
  },
  {
   "cell_type": "markdown",
   "id": "6ae51a10",
   "metadata": {},
   "source": [
    "TASK 16\n",
    "\n",
    "Let’s tell our customers what they can order! Give `Franchise` an `.available_menus()` method that takes in a `time` parameter and returns a list of the `Menu` objects that are available at that time."
   ]
  },
  {
   "cell_type": "code",
   "execution_count": 15,
   "id": "4ac61355",
   "metadata": {},
   "outputs": [],
   "source": [
    "class Franchise:\n",
    "  def __init__(self, address, menus):\n",
    "    self.address = address\n",
    "    self.menus = menus\n",
    "\n",
    "  def available_menus(self, time):\n",
    "    available_menus = []\n",
    "    for menu in self.menus:\n",
    "      if time >= menu.start_time and time <= menu.end_time:\n",
    "        available_menus.append(menu)\n",
    "    return available_menus\n",
    "\n",
    "  def __repr__(self):\n",
    "    return self.address"
   ]
  },
  {
   "cell_type": "markdown",
   "id": "0259ae67",
   "metadata": {},
   "source": [
    "TASK 17 - 18\n",
    "\n",
    "Let’s test out our .`available_menus()` method! Call it with 12 noon as an argument and print out the results.\n",
    "\n",
    "Let’s do another test! See what is printed if we call `.available_menus()` with 5pm as an argument and print out the results."
   ]
  },
  {
   "cell_type": "code",
   "execution_count": 16,
   "id": "3d76d676",
   "metadata": {},
   "outputs": [
    {
     "name": "stdout",
     "output_type": "stream",
     "text": [
      "[Brunch menu available from 11:00 to 16:00, Kids menu available from 11:00 to 21:00]\n",
      "[Early Bird menu available from 15:00 to 18:00, Dinner menu available from 17:00 to 23:00, Kids menu available from 11:00 to 21:00]\n"
     ]
    }
   ],
   "source": [
    "print(Franchise.available_menus(flagship_store,12))\n",
    "\n",
    "print(Franchise.available_menus(flagship_store,17))"
   ]
  },
  {
   "cell_type": "markdown",
   "id": "d32de6af",
   "metadata": {},
   "source": [
    "### **Creating Businesses!**"
   ]
  },
  {
   "cell_type": "markdown",
   "id": "61927ebb",
   "metadata": {},
   "source": [
    "TASK 19 - 20\n",
    "\n",
    "Since we’ve been so successful building out a branded chain of restaurants, we’ve decided to diversify. We’re going to create a restaurant that sells arepas!\n",
    "\n",
    "First let’s define a `Business` class.\n",
    "\n",
    "Give `Business` a constructor. A `Business` needs a `name` and a list of `franchises`."
   ]
  },
  {
   "cell_type": "code",
   "execution_count": 17,
   "id": "150c0b53",
   "metadata": {},
   "outputs": [],
   "source": [
    "class Business:\n",
    "  def __init__(self, name, franchises):\n",
    "    self.name = name\n",
    "    self.franchises = franchises"
   ]
  },
  {
   "cell_type": "markdown",
   "id": "7866875c",
   "metadata": {},
   "source": [
    "TASK 21\n",
    "\n",
    "Let’s create our first `Business`. The name is `\"Basta Fazoolin' with my Heart\"` and the two franchises are `flagship_store` and `new_installment`."
   ]
  },
  {
   "cell_type": "code",
   "execution_count": 18,
   "id": "b179319e",
   "metadata": {},
   "outputs": [],
   "source": [
    "franchises_list = [flagship_store, new_installment]\n",
    "\n",
    "basta_fazoolin = Business(\"Basta Fazoolin' with my Heart\", franchises_list)"
   ]
  },
  {
   "cell_type": "markdown",
   "id": "f3798abb",
   "metadata": {},
   "source": [
    "TASK 22\n",
    "\n",
    "Before we create our new business, we’ll need a `Franchise` and before our `Franchise` we’ll need a menu. The items for our Take a’ Arepa available from 10am until 8pm are the following:\n",
    "\n",
    "- {\n",
    "  'arepa pabellon': 7.00, 'pernil arepa': 8.50, 'guayanes arepa': 8.00, 'jamon arepa': 7.50\n",
    "}\n",
    "\n",
    "Save this to a variable called `arepas_menu`.\n"
   ]
  },
  {
   "cell_type": "code",
   "execution_count": 19,
   "id": "a47fbde5",
   "metadata": {},
   "outputs": [],
   "source": [
    "arepas = {\n",
    "  'arepa pabellon': 7.00, 'pernil arepa': 8.50, 'guayanes arepa': 8.00, 'jamon arepa': 7.50\n",
    "}\n",
    "\n",
    "arepas_menu = Menu('Take a’ Arepa', arepas, 10, 20)"
   ]
  },
  {
   "cell_type": "markdown",
   "id": "ab6226b8",
   "metadata": {},
   "source": [
    "TASK 23\n",
    "\n",
    "Next let’s create our first Take a’ Arepa franchise! Our new restaurant is located at `\"189 Fitzgerald Avenue\"`. Save the `Franchise` object to a variable called `arepas_place`."
   ]
  },
  {
   "cell_type": "code",
   "execution_count": 20,
   "id": "840cea83",
   "metadata": {},
   "outputs": [],
   "source": [
    "arepas_place = Franchise(\"189 Fitzgerald Avenue\", arepas_menu)"
   ]
  },
  {
   "cell_type": "markdown",
   "id": "436c0f59",
   "metadata": {},
   "source": [
    "TASK 24\n",
    "\n",
    "Now let’s make our new `Business`! The business is called `\"Take a' Arepa\"`!"
   ]
  },
  {
   "cell_type": "code",
   "execution_count": 21,
   "id": "951ed6f8",
   "metadata": {},
   "outputs": [],
   "source": [
    "take_arepa = Business(\"Take a' Arepa\", arepas_place)"
   ]
  },
  {
   "cell_type": "markdown",
   "id": "cb261db0",
   "metadata": {},
   "source": [
    "Congrats! You created a system of classes that help structure your code and perform all business requirements you need. Whenever we need a new feature we’ll have the well-organized code required to make developing and shipping it easy."
   ]
  }
 ],
 "metadata": {
  "kernelspec": {
   "display_name": "Python (learn_python)",
   "language": "python",
   "name": "learn_python"
  },
  "language_info": {
   "codemirror_mode": {
    "name": "ipython",
    "version": 3
   },
   "file_extension": ".py",
   "mimetype": "text/x-python",
   "name": "python",
   "nbconvert_exporter": "python",
   "pygments_lexer": "ipython3",
   "version": "3.13.3"
  }
 },
 "nbformat": 4,
 "nbformat_minor": 5
}

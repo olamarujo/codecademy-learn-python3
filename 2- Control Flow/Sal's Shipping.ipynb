{
 "cells": [
  {
   "cell_type": "markdown",
   "id": "c463ed89",
   "metadata": {},
   "source": [
    "## **Sal's Shipping**\n",
    "\n",
    "Sal runs the biggest shipping company in the tri-county area, Sal’s Shippers. Sal wants to make sure that every single one of his customers has the best, and most affordable experience shipping their packages.\n",
    "\n",
    "In this project, you’ll build a program that will take the weight of a package and determine the cheapest way to ship that package using Sal’s Shippers.\n",
    "\n",
    "Sal’s Shippers has several different options for a customer to ship their package:\n",
    "\n",
    "- Ground Shipping, which is a small flat charge plus a rate based on the weight of your package.\n",
    "\n",
    "- Ground Shipping Premium, which is a much higher flat charge, but you aren’t charged for weight.\n",
    "\n",
    "- Drone Shipping (new), which has no flat charge, but the rate based on weight is triple the rate of ground shipping.\n",
    "\n",
    "Here are the prices:\n",
    "\n",
    "### **Ground Shipping**\n",
    "\n",
    "![Groung Shipping](Ground_Shipping.png)\n",
    "\n",
    "### **Ground Shipping Premium**\n",
    "\n",
    "Flat charge: $125.00\n",
    "\n",
    "### **Drone Shipping**\n",
    "\n",
    "![Drone Shipping](Drone_Shipping.png)\n",
    "\n",
    "Write a Python program that asks the user for the weight of their package and then tells them which method of shipping is cheapest and how much it will cost to ship their package using Sal’s Shippers."
   ]
  },
  {
   "cell_type": "markdown",
   "id": "e340c567",
   "metadata": {
    "vscode": {
     "languageId": "plaintext"
    }
   },
   "source": [
    "### **Ground Shipping:**"
   ]
  },
  {
   "cell_type": "markdown",
   "id": "0b17edb4",
   "metadata": {
    "vscode": {
     "languageId": "plaintext"
    }
   },
   "source": [
    "**1.**  First things first, define a `weight` variable and set it equal to any number."
   ]
  },
  {
   "cell_type": "code",
   "execution_count": null,
   "id": "f5d3496f",
   "metadata": {},
   "outputs": [],
   "source": [
    "weight = 0"
   ]
  },
  {
   "cell_type": "markdown",
   "id": "68f59c04",
   "metadata": {},
   "source": [
    "**2.** Next, we need to know how much it costs to ship a package of given weight by normal ground shipping based on the “Ground shipping” table above.\n",
    "\n",
    "Write a comment that says “Ground Shipping”.\n",
    "\n",
    "Create an `if`/`elif`/`else` statement for the cost of ground shipping. It should check for `weight`, and print the `cost` of shipping a package of that weight.\n",
    "\n",
    "Set the `weight` to `8.4`"
   ]
  },
  {
   "cell_type": "code",
   "execution_count": null,
   "id": "e59cc31f",
   "metadata": {},
   "outputs": [],
   "source": [
    "cost_ground = 0\n",
    "weight = 8.4\n",
    "\n",
    "if weight <= 2:\n",
    "  cost_ground = weight*1.5 + 20\n",
    "elif weight <= 6:\n",
    " cost_ground = weight*3 + 20\n",
    "elif weight <= 10:\n",
    "  cost_ground = weight*4 + 20\n",
    "elif weight > 10:\n",
    "  cost_ground = weight*4.5 +20"
   ]
  },
  {
   "cell_type": "markdown",
   "id": "3d413310",
   "metadata": {},
   "source": [
    "**3.** A package that weighs 8.4 pounds should cost $53.60 to ship with normal ground shipping:\n",
    "- 8.4*lb* x $4.00 + $20.00 = $53.60 \n",
    "\n",
    "Test that your ground shipping calculation gets the same value."
   ]
  },
  {
   "cell_type": "code",
   "execution_count": 3,
   "id": "2254e1c7",
   "metadata": {},
   "outputs": [
    {
     "name": "stdout",
     "output_type": "stream",
     "text": [
      "53.6\n"
     ]
    }
   ],
   "source": [
    "print(cost_ground)"
   ]
  },
  {
   "cell_type": "markdown",
   "id": "e1155c4f",
   "metadata": {},
   "source": [
    "### **Ground Shipping Premium:**"
   ]
  },
  {
   "cell_type": "markdown",
   "id": "edf92b99",
   "metadata": {},
   "source": [
    "**4.** We’ll also need to make sure we include the price of premium ground shipping in our code.\n",
    "\n",
    "Create a variable for the cost of premium ground shipping.\n",
    "\n",
    "**Note**: This does not need to be an `if` statement because the price of premium ground shipping does not change with the weight of the package."
   ]
  },
  {
   "cell_type": "code",
   "execution_count": 4,
   "id": "939ba648",
   "metadata": {},
   "outputs": [],
   "source": [
    "cost_ground_premium = 125"
   ]
  },
  {
   "cell_type": "markdown",
   "id": "93034d3c",
   "metadata": {},
   "source": [
    "**5.**  Print it out for the user just in case they forgot!"
   ]
  },
  {
   "cell_type": "code",
   "execution_count": 5,
   "id": "cc6dfade",
   "metadata": {},
   "outputs": [
    {
     "name": "stdout",
     "output_type": "stream",
     "text": [
      "Ground Shipping Premium $ 125\n"
     ]
    }
   ],
   "source": [
    "print(\"Ground Shipping Premium $\", cost_ground_premium)"
   ]
  },
  {
   "cell_type": "markdown",
   "id": "94fb37d5",
   "metadata": {},
   "source": [
    "### **Drone Shipping:**"
   ]
  },
  {
   "cell_type": "markdown",
   "id": "a1659a73",
   "metadata": {},
   "source": [
    "**6.** Write a comment for this section of the code, “Drone Shipping”.\n",
    "\n",
    "Create an `if`/`elif`/`else` statement for the cost of drone shipping. This statement should check against `weight` and print the `cost` of shipping a package of that weight.\n",
    "\n",
    "Set the `weight` to `1.5`"
   ]
  },
  {
   "cell_type": "code",
   "execution_count": 6,
   "id": "70a9e510",
   "metadata": {},
   "outputs": [],
   "source": [
    "weight = 1.5\n",
    "cost_drone = 0\n",
    "\n",
    "if weight <= 2:\n",
    "  cost_drone = weight*4.5 + 0\n",
    "elif weight <= 2.01:\n",
    "  cost_drone = weight*9 + 0\n",
    "elif weight <= 6:\n",
    "  cost_drone = weight*12 + 0\n",
    "elif weight >= 10.01:\n",
    "  cost_drone = weight*14.25 + 0"
   ]
  },
  {
   "cell_type": "markdown",
   "id": "083e72a9",
   "metadata": {},
   "source": [
    "**7.** A package that weighs 1.5 pounds should cost $6.75 to ship by drone:\n",
    "\n",
    "- 1.5*lb* x $4.50 + $0.00 = $6.75\n",
    "\n",
    "Test that your drone shipping calculation gets the same value."
   ]
  },
  {
   "cell_type": "code",
   "execution_count": 7,
   "id": "f362cf54",
   "metadata": {},
   "outputs": [
    {
     "name": "stdout",
     "output_type": "stream",
     "text": [
      "6.75\n"
     ]
    }
   ],
   "source": [
    "print(cost_drone)"
   ]
  },
  {
   "cell_type": "markdown",
   "id": "1ac61ab1",
   "metadata": {},
   "source": [
    "Great job! Now, test everything one more time!"
   ]
  }
 ],
 "metadata": {
  "kernelspec": {
   "display_name": "Python (learn_python)",
   "language": "python",
   "name": "learn_python"
  },
  "language_info": {
   "codemirror_mode": {
    "name": "ipython",
    "version": 3
   },
   "file_extension": ".py",
   "mimetype": "text/x-python",
   "name": "python",
   "nbconvert_exporter": "python",
   "pygments_lexer": "ipython3",
   "version": "3.13.3"
  }
 },
 "nbformat": 4,
 "nbformat_minor": 5
}

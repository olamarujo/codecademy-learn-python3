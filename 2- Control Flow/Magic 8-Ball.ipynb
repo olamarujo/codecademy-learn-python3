{
 "cells": [
  {
   "cell_type": "markdown",
   "id": "55ccd107",
   "metadata": {},
   "source": [
    "## **Magic 8-Ball**\n",
    "\n",
    "The [Magic 8-Ball](https://en.wikipedia.org/wiki/Magic_8_Ball) is a popular toy developed in the 1950s for fortune-telling or advice seeking.\n",
    "\n",
    "Write a Python program that can answer any “Yes” or “No” question with a different fortune each time it executes.\n",
    "\n",
    "![Magic 8-ball](magic8ball.gif)\n",
    "\n",
    "We’ll be using the following 9 possible answers for our Magic 8-Ball:\n",
    "\n",
    "- `Yes - definitely`\n",
    "\n",
    "- `It is decidedly so`\n",
    "\n",
    "- `Without a doubt`\n",
    "\n",
    "- `Reply hazy, try again`\n",
    "\n",
    "- `Ask again later`\n",
    "\n",
    "- `Better not tell you now`\n",
    "\n",
    "- `My sources say no`\n",
    "\n",
    "- `Outlook not so good`\n",
    "\n",
    "- `Very doubtful`\n",
    "\n",
    "The output of the program will have the following format:\n",
    "\n",
    "- [Name] asks: [Question]\n",
    "Magic 8-Ball’s answer: [Answer]\n",
    "\n",
    "For example:\n",
    "\n",
    "- Joe asks: Is this real life?\n",
    "Magic 8-Ball's answer: Better not tell you now\n"
   ]
  },
  {
   "cell_type": "markdown",
   "id": "e94c9f51",
   "metadata": {},
   "source": [
    "### **Setting Up**"
   ]
  },
  {
   "cell_type": "markdown",
   "id": "95ad1517",
   "metadata": {},
   "source": [
    "TASK 1 \n",
    "\n",
    "Declare a variable `name` and assign it to the name of the person who will be asking the Magic 8-Ball."
   ]
  },
  {
   "cell_type": "code",
   "execution_count": 1,
   "id": "5c4399af",
   "metadata": {},
   "outputs": [],
   "source": [
    "name = \"Rodrigo\""
   ]
  },
  {
   "cell_type": "markdown",
   "id": "e06c314f",
   "metadata": {},
   "source": [
    "TASK 2\n",
    "\n",
    "Next, declare a variable `question`, and assign it to a “Yes” or “No” question you’d like to ask the Magic 8-Ball."
   ]
  },
  {
   "cell_type": "code",
   "execution_count": 2,
   "id": "e3a3f669",
   "metadata": {},
   "outputs": [],
   "source": [
    "question = \"Do you like to play chess?\""
   ]
  },
  {
   "cell_type": "markdown",
   "id": "bd4e5a94",
   "metadata": {},
   "source": [
    "TASK 3\n",
    "\n",
    "We want to store the `answer` of the Magic 8-Ball in another variable, which we’ll call answer. For now, assign this variable to an empty string."
   ]
  },
  {
   "cell_type": "code",
   "execution_count": 3,
   "id": "6db76c91",
   "metadata": {},
   "outputs": [],
   "source": [
    "answer = \"Yes\""
   ]
  },
  {
   "cell_type": "markdown",
   "id": "12b931bd",
   "metadata": {},
   "source": [
    "### **Generating a random number**"
   ]
  },
  {
   "cell_type": "markdown",
   "id": "24e1e43d",
   "metadata": {},
   "source": [
    "TASK 4\n",
    "\n",
    "In order for the answer to be different each time we run the program, we will utilize randomly generated values.\n",
    "\n",
    "**Note**: This will be something new! But don’t worry, we will try to explain this topic thoroughly and also supply the code.\n",
    "\n",
    "In Python, we can use the `.randint()` function from the `random` module to generate a random number from a range.\n",
    "\n",
    "But first, let’s import this module so we can use its functions. \n",
    "\n",
    "- import random\n"
   ]
  },
  {
   "cell_type": "code",
   "execution_count": 4,
   "id": "74ce7f73",
   "metadata": {},
   "outputs": [],
   "source": [
    "import random"
   ]
  },
  {
   "cell_type": "markdown",
   "id": "7d6a7654",
   "metadata": {},
   "source": [
    "TASK 5\n",
    "\n",
    "Next, we’ll create a variable to store the randomly generated value. Declare a variable called random_number, and assign it to the function call:\n",
    "\n",
    "- random.randint(1, 9)\n",
    "\n",
    "which will generate a random number between `1` (inclusive) and `9` (inclusive).\n",
    "\n",
    "Next, add a `print()` statement that outputs the value of `random_number`, and run the program several times to ensure random values are being generated as expected.\n",
    "\n",
    "Once you’re sure this is working as we expected, feel free to comment out this `print()` statement."
   ]
  },
  {
   "cell_type": "code",
   "execution_count": 5,
   "id": "57675adb",
   "metadata": {},
   "outputs": [
    {
     "name": "stdout",
     "output_type": "stream",
     "text": [
      "7\n"
     ]
    }
   ],
   "source": [
    "random_number = random.randint(1,10)\n",
    "print(random_number)"
   ]
  },
  {
   "cell_type": "code",
   "execution_count": 6,
   "id": "4c8f24f5",
   "metadata": {},
   "outputs": [
    {
     "name": "stdout",
     "output_type": "stream",
     "text": [
      "9\n"
     ]
    }
   ],
   "source": [
    "random_number = random.randint(1,10)\n",
    "print(random_number)"
   ]
  },
  {
   "cell_type": "code",
   "execution_count": 7,
   "id": "86f90423",
   "metadata": {},
   "outputs": [
    {
     "name": "stdout",
     "output_type": "stream",
     "text": [
      "4\n"
     ]
    }
   ],
   "source": [
    "random_number = random.randint(1,10)\n",
    "print(random_number)"
   ]
  },
  {
   "cell_type": "markdown",
   "id": "9592de63",
   "metadata": {},
   "source": [
    "### **Control Flow**"
   ]
  },
  {
   "cell_type": "markdown",
   "id": "06bb5874",
   "metadata": {},
   "source": [
    "TASK 6\n",
    "\n",
    "Now that we’ve declared all the variables needed, it’s time to implement the core logic of our program!\n",
    "\n",
    "For this section, we’ll be utilizing control flow using an `if`/`elif`/`else` statement to assign different answers for each randomly generated value.\n",
    "\n",
    "First, write an `if` statement where if the `random_number` is equal to `1`, `answer` is assigned to the phrase “Yes - definitely”"
   ]
  },
  {
   "cell_type": "code",
   "execution_count": 8,
   "id": "c5f5e28a",
   "metadata": {},
   "outputs": [],
   "source": [
    "if random_number == 1:\n",
    "  answer = \"Yes - Definitely\""
   ]
  },
  {
   "cell_type": "markdown",
   "id": "3f652c71",
   "metadata": {},
   "source": [
    "TASK 7\n",
    "\n",
    "Next, write an `elif` statement after the `if` statement where if the `random_number` is equal to `2`, `answer` is assigned to the phrase “It is decidedly so”.\n",
    "\n",
    "Then, continue writing `elif` statements for each of the remaining phrases for the values `3` to `9`.\n",
    "\n",
    "Recall that the 9 possible answers of the Magic 8-Ball are:\n",
    "\n",
    "1. `Yes - definitely`\n",
    "\n",
    "2. `It is decidedly so`\n",
    "\n",
    "3. `Without a doubt`\n",
    "\n",
    "4. `Reply hazy, try again`\n",
    "\n",
    "5. `Ask again later`\n",
    "\n",
    "6. `Better not tell you now`\n",
    "\n",
    "7. `My sources say no`\n",
    "\n",
    "8. `Outlook not so good`\n",
    "\n",
    "9. `Very doubtful`\n",
    "\n",
    "Following the `if`/`elif` statements, add an `else` statement that will set `answer` to the string “Error”, if the number was accidentally assigned a value outside of our range."
   ]
  },
  {
   "cell_type": "code",
   "execution_count": 9,
   "id": "aa23eed3",
   "metadata": {},
   "outputs": [],
   "source": [
    "if random_number == 1:\n",
    "  answer = \"Yes - Definitely\"\n",
    "elif random_number == 2:\n",
    "  answer = \"Its is decidedly so\"\n",
    "elif random_number == 3:\n",
    "  answer = \"Wihout a doudt\"\n",
    "elif random_number == 4:\n",
    "  answer = \"Reply hazy, try again\"\n",
    "elif random_number == 5:\n",
    "  answer = \"Ask again later\"\n",
    "elif random_number == 6:\n",
    "  answer = \"Better not tell you now\"\n",
    "elif random_number == 7:\n",
    "  answer = \"My sources say no\"\n",
    "elif random_number == 8:\n",
    "  answer = \"Outlook not so good\"\n",
    "elif random_number == 9:\n",
    "  answer = \"Very doudtful\"\n",
    "\n",
    "else:\n",
    "  answer = 'Error'"
   ]
  },
  {
   "cell_type": "markdown",
   "id": "15427fd4",
   "metadata": {},
   "source": [
    "TASK 8\n",
    "\n",
    "Now, let’s see our program in action! Write a `print()` statement to output the asker’s `name` and their `question`, which should be in the following format:\n",
    "\n",
    "- [Name] asks: [Question]\n",
    "\n",
    "For example, when we run the program, the output should look something like:\n",
    "\n",
    "- Joe asks: Will I win the lottery?"
   ]
  },
  {
   "cell_type": "code",
   "execution_count": 10,
   "id": "614236ed",
   "metadata": {},
   "outputs": [
    {
     "name": "stdout",
     "output_type": "stream",
     "text": [
      "Rodrigo asks: Do you like to play chess?\n"
     ]
    }
   ],
   "source": [
    "print(name + \" asks: \" + question)"
   ]
  },
  {
   "cell_type": "markdown",
   "id": "f3f615fd",
   "metadata": {},
   "source": [
    "TASK 9\n",
    "\n",
    "Add a second print() statement that will output the Magic 8-Ball’s `answer` in the following format:\n",
    "\n",
    "- Magic 8-Ball's answer: [answer]\n",
    "\n",
    "For example, when running the program it should look something like:\n",
    "\n",
    "- Magic 8-Ball's answer: My sources say no"
   ]
  },
  {
   "cell_type": "code",
   "execution_count": 11,
   "id": "25e228df",
   "metadata": {},
   "outputs": [
    {
     "name": "stdout",
     "output_type": "stream",
     "text": [
      " Magic 8-Ball's answer: Reply hazy, try again\n"
     ]
    }
   ],
   "source": [
    "print(\" Magic 8-Ball's answer: \" + answer)"
   ]
  },
  {
   "cell_type": "markdown",
   "id": "1c4ecc5b",
   "metadata": {},
   "source": [
    "Great job! You’ve successfully utilized your knowledge of conditionals and previous fundamental Python concepts to create a program that generates different fortunes."
   ]
  }
 ],
 "metadata": {
  "kernelspec": {
   "display_name": "Python (learn_python)",
   "language": "python",
   "name": "learn_python"
  },
  "language_info": {
   "codemirror_mode": {
    "name": "ipython",
    "version": 3
   },
   "file_extension": ".py",
   "mimetype": "text/x-python",
   "name": "python",
   "nbconvert_exporter": "python",
   "pygments_lexer": "ipython3",
   "version": "3.13.3"
  }
 },
 "nbformat": 4,
 "nbformat_minor": 5
}
